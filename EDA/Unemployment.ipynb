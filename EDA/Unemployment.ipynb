{
 "cells": [
  {
   "cell_type": "markdown",
   "metadata": {},
   "source": [
    "# Setup"
   ]
  },
  {
   "cell_type": "code",
   "execution_count": 1,
   "metadata": {},
   "outputs": [],
   "source": [
    "import pandas as pd\n",
    "from collections import defaultdict, Counter\n",
    "import matplotlib.pyplot as plt\n",
    "from matplotlib import style\n",
    "import datetime\n",
    "import seaborn as sns"
   ]
  },
  {
   "cell_type": "markdown",
   "metadata": {},
   "source": [
    "# Reading Dataset"
   ]
  },
  {
   "cell_type": "code",
   "execution_count": 2,
   "metadata": {},
   "outputs": [
    {
     "data": {
      "text/html": [
       "<div>\n",
       "<style scoped>\n",
       "    .dataframe tbody tr th:only-of-type {\n",
       "        vertical-align: middle;\n",
       "    }\n",
       "\n",
       "    .dataframe tbody tr th {\n",
       "        vertical-align: top;\n",
       "    }\n",
       "\n",
       "    .dataframe thead th {\n",
       "        text-align: right;\n",
       "    }\n",
       "</style>\n",
       "<table border=\"1\" class=\"dataframe\">\n",
       "  <thead>\n",
       "    <tr style=\"text-align: right;\">\n",
       "      <th></th>\n",
       "      <th>Area Name</th>\n",
       "      <th>County Code</th>\n",
       "      <th>State FIPS Code</th>\n",
       "      <th>County FIPS Code</th>\n",
       "      <th>Calendar Year</th>\n",
       "      <th>Benchmark Year</th>\n",
       "      <th>Labor Force</th>\n",
       "      <th>Employed</th>\n",
       "      <th>Unemployed</th>\n",
       "      <th>Unemployment Rate</th>\n",
       "      <th>Latitude</th>\n",
       "      <th>Longitude</th>\n",
       "      <th>Georeferenced Latitude &amp; Longitude</th>\n",
       "    </tr>\n",
       "  </thead>\n",
       "  <tbody>\n",
       "    <tr>\n",
       "      <th>0</th>\n",
       "      <td>Allegheny County</td>\n",
       "      <td>2</td>\n",
       "      <td>42</td>\n",
       "      <td>3.0</td>\n",
       "      <td>2017</td>\n",
       "      <td>2017</td>\n",
       "      <td>645900</td>\n",
       "      <td>615200</td>\n",
       "      <td>30700</td>\n",
       "      <td>4.8</td>\n",
       "      <td>40.467355</td>\n",
       "      <td>-79.986198</td>\n",
       "      <td>POINT (-79.98619843 40.46735543)</td>\n",
       "    </tr>\n",
       "    <tr>\n",
       "      <th>1</th>\n",
       "      <td>Armstrong County</td>\n",
       "      <td>3</td>\n",
       "      <td>42</td>\n",
       "      <td>5.0</td>\n",
       "      <td>2018</td>\n",
       "      <td>2018</td>\n",
       "      <td>32100</td>\n",
       "      <td>30500</td>\n",
       "      <td>1600</td>\n",
       "      <td>5.0</td>\n",
       "      <td>40.815095</td>\n",
       "      <td>-79.473169</td>\n",
       "      <td>POINT (-79.47316899 40.81509526)</td>\n",
       "    </tr>\n",
       "    <tr>\n",
       "      <th>2</th>\n",
       "      <td>Juniata County</td>\n",
       "      <td>34</td>\n",
       "      <td>42</td>\n",
       "      <td>67.0</td>\n",
       "      <td>2017</td>\n",
       "      <td>2017</td>\n",
       "      <td>12400</td>\n",
       "      <td>11800</td>\n",
       "      <td>600</td>\n",
       "      <td>4.6</td>\n",
       "      <td>40.534330</td>\n",
       "      <td>-77.405775</td>\n",
       "      <td>POINT (-77.405775 40.53433008)</td>\n",
       "    </tr>\n",
       "    <tr>\n",
       "      <th>3</th>\n",
       "      <td>Adams County</td>\n",
       "      <td>1</td>\n",
       "      <td>42</td>\n",
       "      <td>1.0</td>\n",
       "      <td>2016</td>\n",
       "      <td>2017</td>\n",
       "      <td>55400</td>\n",
       "      <td>53200</td>\n",
       "      <td>2200</td>\n",
       "      <td>4.0</td>\n",
       "      <td>39.872096</td>\n",
       "      <td>-77.222243</td>\n",
       "      <td>POINT (-77.22224271 39.87209565)</td>\n",
       "    </tr>\n",
       "    <tr>\n",
       "      <th>4</th>\n",
       "      <td>Cumberland County</td>\n",
       "      <td>21</td>\n",
       "      <td>42</td>\n",
       "      <td>41.0</td>\n",
       "      <td>2017</td>\n",
       "      <td>2017</td>\n",
       "      <td>130000</td>\n",
       "      <td>125000</td>\n",
       "      <td>5000</td>\n",
       "      <td>3.8</td>\n",
       "      <td>40.167598</td>\n",
       "      <td>-77.268663</td>\n",
       "      <td>POINT (-77.26866271 40.16759839)</td>\n",
       "    </tr>\n",
       "  </tbody>\n",
       "</table>\n",
       "</div>"
      ],
      "text/plain": [
       "           Area Name  County Code  State FIPS Code  County FIPS Code  \\\n",
       "0   Allegheny County            2               42               3.0   \n",
       "1   Armstrong County            3               42               5.0   \n",
       "2     Juniata County           34               42              67.0   \n",
       "3       Adams County            1               42               1.0   \n",
       "4  Cumberland County           21               42              41.0   \n",
       "\n",
       "   Calendar Year  Benchmark Year  Labor Force  Employed  Unemployed  \\\n",
       "0           2017            2017       645900    615200       30700   \n",
       "1           2018            2018        32100     30500        1600   \n",
       "2           2017            2017        12400     11800         600   \n",
       "3           2016            2017        55400     53200        2200   \n",
       "4           2017            2017       130000    125000        5000   \n",
       "\n",
       "   Unemployment Rate   Latitude  Longitude Georeferenced Latitude & Longitude  \n",
       "0                4.8  40.467355 -79.986198   POINT (-79.98619843 40.46735543)  \n",
       "1                5.0  40.815095 -79.473169   POINT (-79.47316899 40.81509526)  \n",
       "2                4.6  40.534330 -77.405775     POINT (-77.405775 40.53433008)  \n",
       "3                4.0  39.872096 -77.222243   POINT (-77.22224271 39.87209565)  \n",
       "4                3.8  40.167598 -77.268663   POINT (-77.26866271 40.16759839)  "
      ]
     },
     "execution_count": 2,
     "metadata": {},
     "output_type": "execute_result"
    }
   ],
   "source": [
    "df = pd.read_csv('../data/Pulled/Local_Area_Unemployment_Statistics__LAUS__CY_2016_-_Current_Annual_County_Labor_and_Industry.csv')\n",
    "\n",
    "df.head()"
   ]
  },
  {
   "cell_type": "code",
   "execution_count": 3,
   "metadata": {},
   "outputs": [
    {
     "data": {
      "text/plain": [
       "array([2017, 2018, 2016], dtype=int64)"
      ]
     },
     "execution_count": 3,
     "metadata": {},
     "output_type": "execute_result"
    }
   ],
   "source": [
    "df['Calendar Year'].unique()"
   ]
  },
  {
   "cell_type": "code",
   "execution_count": 4,
   "metadata": {},
   "outputs": [],
   "source": [
    "# Getting rid of county name\n",
    "df['County'] = df['Area Name'].str.split(' ').str[0]\n",
    "\n",
    "del df['Area Name']"
   ]
  },
  {
   "cell_type": "code",
   "execution_count": 6,
   "metadata": {},
   "outputs": [
    {
     "data": {
      "image/png": "[encoded data removed]",
      "text/plain": [
       "<Figure size 1440x864 with 1 Axes>"
      ]
     },
     "metadata": {},
     "output_type": "display_data"
    }
   ],
   "source": [
    "plt.rcParams[\"figure.figsize\"] = (20,12)\n",
    "sns.set(font_scale = 2)\n",
    "df.groupby(['Calendar Year'])['Unemployment Rate'].mean().plot.bar(fontsize=16)\n",
    "plt.xticks(rotation=45,fontsize=20)\n",
    "plt.yticks(fontsize=20)\n",
    "plt.xlabel(xlabel = 'Year', fontsize=20)\n",
    "plt.ylabel(ylabel = 'Unemployment Rate', fontsize=20)\n",
    "plt.show()"
   ]
  },
  {
   "cell_type": "code",
   "execution_count": 9,
   "metadata": {},
   "outputs": [],
   "source": [
    "## Trended down, but no data after 2018. May not be able to use, especcily with the unemployment spike in 2020"
   ]
  }
 ],
 "metadata": {
  "kernelspec": {
   "display_name": "Python 3 (ipykernel)",
   "language": "python",
   "name": "python3"
  },
  "language_info": {
   "codemirror_mode": {
    "name": "ipython",
    "version": 3
   },
   "file_extension": ".py",
   "mimetype": "text/x-python",
   "name": "python",
   "nbconvert_exporter": "python",
   "pygments_lexer": "ipython3",
   "version": "3.7.13"
  }
 },
 "nbformat": 4,
 "nbformat_minor": 4
}
