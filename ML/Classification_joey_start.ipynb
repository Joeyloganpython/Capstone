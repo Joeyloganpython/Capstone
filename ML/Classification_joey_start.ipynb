{
 "cells": [
  {
   "cell_type": "markdown",
   "id": "8b861bb0",
   "metadata": {},
   "source": [
    "# Setup"
   ]
  },
  {
   "cell_type": "code",
   "execution_count": 1,
   "id": "68bd1323",
   "metadata": {},
   "outputs": [
    {
     "data": {
      "text/plain": [
       "Index(['Incident ID', 'Incident Date', 'Incident Time', 'Day',\n",
       "       'Incident County Name', 'Incident State', 'Victim ID', 'Gender Desc',\n",
       "       'Age Range', 'Race', 'Ethnicity Desc', 'Naloxone Administered',\n",
       "       'Survive', 'Response Desc', 'All Drugs', 'Incident Date ym'],\n",
       "      dtype='object')"
      ]
     },
     "execution_count": 1,
     "metadata": {},
     "output_type": "execute_result"
    }
   ],
   "source": [
    "import pandas as pd\n",
    "import numpy as np\n",
    "import seaborn as sns\n",
    "import matplotlib.pyplot as plt\n",
    "from datetime import datetime\n",
    "\n",
    "# SKlearn \n",
    "from sklearn.metrics import confusion_matrix, f1_score, precision_score, recall_score,accuracy_score\n",
    "from sklearn.metrics import classification_report, roc_curve, roc_auc_score, matthews_corrcoef\n",
    "from sklearn.linear_model import LogisticRegression\n",
    "from sklearn.tree import DecisionTreeClassifier\n",
    "from sklearn.preprocessing import OneHotEncoder,StandardScaler\n",
    "from sklearn.compose import ColumnTransformer\n",
    "from sklearn.pipeline import Pipeline\n",
    "from sklearn.model_selection import train_test_split\n",
    "from sklearn.ensemble import RandomForestClassifier\n",
    "from sklearn.model_selection import StratifiedKFold\n",
    "\n",
    "import warnings\n",
    "warnings.filterwarnings(\"ignore\")\n",
    "\n",
    "# Read Incidents Dataset - Capstone I \n",
    "incidents = pd.read_csv('../data/Aggregated/incidents.csv')\n",
    "incidents.columns"
   ]
  },
  {
   "cell_type": "markdown",
   "id": "a4474cd5-8101-4a65-952c-da207e5da6cd",
   "metadata": {},
   "source": [
    "# Pre-processing"
   ]
  },
  {
   "cell_type": "markdown",
   "id": "369e2d1b",
   "metadata": {
    "tags": []
   },
   "source": [
    "## Multi-drug use"
   ]
  },
  {
   "cell_type": "code",
   "execution_count": 2,
   "id": "c3ee8d0c",
   "metadata": {},
   "outputs": [
    {
     "data": {
      "text/plain": [
       "(8050, 17)"
      ]
     },
     "execution_count": 2,
     "metadata": {},
     "output_type": "execute_result"
    }
   ],
   "source": [
    "incidents['Multiple Drugs'] = 0\n",
    "incidents.loc[incidents['All Drugs'].str.contains(' | ', regex = False), 'Multiple Drugs'] = 1\n",
    "incidents[incidents['Multiple Drugs'] == 1].shape"
   ]
  },
  {
   "cell_type": "markdown",
   "id": "367e4e9a-63b2-4562-b9dd-5e05e11e8c0a",
   "metadata": {
    "tags": []
   },
   "source": [
    "## Fentanyl"
   ]
  },
  {
   "cell_type": "code",
   "execution_count": 3,
   "id": "01d7b1d3",
   "metadata": {},
   "outputs": [
    {
     "data": {
      "text/plain": [
       "0    13342\n",
       "1     7255\n",
       "Name: Fentanyl, dtype: int64"
      ]
     },
     "execution_count": 3,
     "metadata": {},
     "output_type": "execute_result"
    }
   ],
   "source": [
    "incidents['Fentanyl'] = 0\n",
    "incidents.loc[incidents['All Drugs'].str.contains('FENTANYL', regex = False), 'Fentanyl'] = 1\n",
    "incidents['Fentanyl'].value_counts()"
   ]
  },
  {
   "cell_type": "markdown",
   "id": "d938779a",
   "metadata": {},
   "source": [
    "## Year, Month and Age Range"
   ]
  },
  {
   "cell_type": "code",
   "execution_count": 4,
   "id": "17c7b8d9",
   "metadata": {},
   "outputs": [],
   "source": [
    "def agerange_weekend(df):\n",
    "    \n",
    "    df_cpy = df.copy()\n",
    "    for i, row in df_cpy.iterrows():\n",
    "        \n",
    "        # Weekend Binary Feature\n",
    "        if row['Day'] in ['Friday', \"Saturday\", \"Sunday\"]:\n",
    "            df_cpy.loc[i,'Weekend_OD'] = 1\n",
    "        else:\n",
    "            df_cpy.loc[i,'Weekend_OD'] = 0\n",
    "        \n",
    "        # Season Features - Winter, Spring, Summer and Fall\n",
    "        if row['month'] in [1, 12, 2]:\n",
    "            df_cpy.loc[i,'Season'] = 'Winter'\n",
    "            \n",
    "        elif row['month'] in [3,4, 5]:\n",
    "            df_cpy.loc[i,'Season'] = 'Spring'\n",
    "            \n",
    "        elif row['month'] in [6, 7, 8]:\n",
    "            df_cpy.loc[i,'Season'] = 'Summer'\n",
    "            \n",
    "        elif row['month'] in [9, 10, 11]:\n",
    "            df_cpy.loc[i,'Season'] = 'Fall' \n",
    "        \n",
    "        # Age Binary feature - over/below 40 years old\n",
    "        if row['Age Range'] in ['0 - 9', '10 - 14', '15 - 19', '20 - 24','25 - 29', '30 - 39']:\n",
    "            df_cpy.loc[i,'Over 40'] = 0\n",
    "        else:    \n",
    "            df_cpy.loc[i,'Over 40'] = 1\n",
    "        \n",
    "    # Ensure dtype for binary features is int\n",
    "    df_cpy['Over 40'] = df_cpy['Over 40'].astype(int)\n",
    "    df_cpy['Weekend_OD'] = df_cpy['Weekend_OD'].astype(int)\n",
    "        \n",
    "    return df_cpy"
   ]
  },
  {
   "cell_type": "code",
   "execution_count": 5,
   "id": "3f73ce05",
   "metadata": {},
   "outputs": [
    {
     "data": {
      "text/plain": [
       "30 - 39    7653\n",
       "25 - 29    4082\n",
       "40 - 49    3434\n",
       "20 - 24    2030\n",
       "50 - 59    1871\n",
       "60 - 69     634\n",
       "0 - 9       530\n",
       "15 - 19     276\n",
       "70 - 79      70\n",
       "80 - *       10\n",
       "10 - 14       7\n",
       "Name: Age Range, dtype: int64"
      ]
     },
     "execution_count": 5,
     "metadata": {},
     "output_type": "execute_result"
    }
   ],
   "source": [
    "incidents[\"year\"] = incidents['Incident Date'].apply(lambda x: datetime.strptime(x, '%m/%d/%Y').year)\n",
    "incidents[\"month\"] = incidents['Incident Date'].apply(lambda x: datetime.strptime(x, '%m/%d/%Y').month)\n",
    "\n",
    "# Fix value typo\n",
    "incidents[\"Age Range\"] = incidents[\"Age Range\"].apply(lambda x: \"10 - 14\" if x == \"14-Oct\" else x)\n",
    "\n",
    "# Sanity Check\n",
    "incidents['Age Range'].value_counts()"
   ]
  },
  {
   "cell_type": "code",
   "execution_count": 6,
   "id": "75b02a71",
   "metadata": {},
   "outputs": [
    {
     "data": {
      "text/html": [
       "<div>\n",
       "<style scoped>\n",
       "    .dataframe tbody tr th:only-of-type {\n",
       "        vertical-align: middle;\n",
       "    }\n",
       "\n",
       "    .dataframe tbody tr th {\n",
       "        vertical-align: top;\n",
       "    }\n",
       "\n",
       "    .dataframe thead th {\n",
       "        text-align: right;\n",
       "    }\n",
       "</style>\n",
       "<table border=\"1\" class=\"dataframe\">\n",
       "  <thead>\n",
       "    <tr style=\"text-align: right;\">\n",
       "      <th></th>\n",
       "      <th>Incident ID</th>\n",
       "      <th>Incident Date</th>\n",
       "      <th>Incident Time</th>\n",
       "      <th>Day</th>\n",
       "      <th>Incident County Name</th>\n",
       "      <th>Incident State</th>\n",
       "      <th>Victim ID</th>\n",
       "      <th>Gender Desc</th>\n",
       "      <th>Age Range</th>\n",
       "      <th>Race</th>\n",
       "      <th>...</th>\n",
       "      <th>Response Desc</th>\n",
       "      <th>All Drugs</th>\n",
       "      <th>Incident Date ym</th>\n",
       "      <th>Multiple Drugs</th>\n",
       "      <th>Fentanyl</th>\n",
       "      <th>year</th>\n",
       "      <th>month</th>\n",
       "      <th>Weekend_OD</th>\n",
       "      <th>Season</th>\n",
       "      <th>Over 40</th>\n",
       "    </tr>\n",
       "  </thead>\n",
       "  <tbody>\n",
       "    <tr>\n",
       "      <th>0</th>\n",
       "      <td>1</td>\n",
       "      <td>1/4/2018</td>\n",
       "      <td>0:42:00</td>\n",
       "      <td>Thursday</td>\n",
       "      <td>Delaware</td>\n",
       "      <td>Pennsylvania</td>\n",
       "      <td>1</td>\n",
       "      <td>Male</td>\n",
       "      <td>50 - 59</td>\n",
       "      <td>White</td>\n",
       "      <td>...</td>\n",
       "      <td>NO RESPONSE TO NALOXONE</td>\n",
       "      <td>COCAINE/CRACK | HEROIN</td>\n",
       "      <td>2018</td>\n",
       "      <td>1</td>\n",
       "      <td>0</td>\n",
       "      <td>2018</td>\n",
       "      <td>1</td>\n",
       "      <td>0</td>\n",
       "      <td>Winter</td>\n",
       "      <td>1</td>\n",
       "    </tr>\n",
       "    <tr>\n",
       "      <th>1</th>\n",
       "      <td>26</td>\n",
       "      <td>1/26/2018</td>\n",
       "      <td>9:14:00</td>\n",
       "      <td>Friday</td>\n",
       "      <td>Chester</td>\n",
       "      <td>Pennsylvania</td>\n",
       "      <td>5</td>\n",
       "      <td>Male</td>\n",
       "      <td>25 - 29</td>\n",
       "      <td>White</td>\n",
       "      <td>...</td>\n",
       "      <td>None</td>\n",
       "      <td>HEROIN</td>\n",
       "      <td>2018</td>\n",
       "      <td>0</td>\n",
       "      <td>0</td>\n",
       "      <td>2018</td>\n",
       "      <td>1</td>\n",
       "      <td>1</td>\n",
       "      <td>Winter</td>\n",
       "      <td>0</td>\n",
       "    </tr>\n",
       "  </tbody>\n",
       "</table>\n",
       "<p>2 rows × 23 columns</p>\n",
       "</div>"
      ],
      "text/plain": [
       "   Incident ID Incident Date Incident Time       Day Incident County Name  \\\n",
       "0            1      1/4/2018       0:42:00  Thursday             Delaware   \n",
       "1           26     1/26/2018       9:14:00    Friday              Chester   \n",
       "\n",
       "  Incident State  Victim ID Gender Desc Age Range   Race  ...  \\\n",
       "0   Pennsylvania          1        Male   50 - 59  White  ...   \n",
       "1   Pennsylvania          5        Male   25 - 29  White  ...   \n",
       "\n",
       "             Response Desc               All Drugs  Incident Date ym  \\\n",
       "0  NO RESPONSE TO NALOXONE  COCAINE/CRACK | HEROIN              2018   \n",
       "1                     None                  HEROIN              2018   \n",
       "\n",
       "  Multiple Drugs Fentanyl  year  month  Weekend_OD  Season  Over 40  \n",
       "0              1        0  2018      1           0  Winter        1  \n",
       "1              0        0  2018      1           1  Winter        0  \n",
       "\n",
       "[2 rows x 23 columns]"
      ]
     },
     "execution_count": 6,
     "metadata": {},
     "output_type": "execute_result"
    }
   ],
   "source": [
    "incidents2 = agerange_weekend(incidents)\n",
    "incidents2.head(2)"
   ]
  },
  {
   "cell_type": "code",
   "execution_count": 7,
   "id": "2e746153",
   "metadata": {},
   "outputs": [
    {
     "data": {
      "text/plain": [
       "{1: 15492, 0: 5105}"
      ]
     },
     "execution_count": 7,
     "metadata": {},
     "output_type": "execute_result"
    }
   ],
   "source": [
    "#### Good\n",
    "\n",
    "X = incidents2[['Over 40','Naloxone Administered','Fentanyl','Multiple Drugs']]\n",
    "y = incidents2[['Survive']]\n",
    "\n",
    "# Class weights are required because of class imbalance issue\n",
    "class_weight_m = dict(y['Survive'].value_counts())\n",
    "class_weight_m"
   ]
  },
  {
   "cell_type": "markdown",
   "id": "82ecec8b",
   "metadata": {
    "tags": []
   },
   "source": [
    "## Pipeline Definition"
   ]
  },
  {
   "cell_type": "code",
   "execution_count": 8,
   "id": "36124c1a",
   "metadata": {},
   "outputs": [],
   "source": [
    "##pipeline  NOT GOOD\n",
    "\n",
    "#label_features =['Season']\n",
    "#label_transformer = OneHotEncoder(sparse = False, handle_unknown = 'ignore')\n",
    "\n",
    "\n",
    "\n",
    "#preprocessor = ColumnTransformer(\n",
    "    #transformers=[\n",
    "        #('label', label_transformer, label_features)\n",
    "        #])   \n",
    "\n",
    "\n",
    "#model =  Pipeline(steps=[('preprocessor', preprocessor),\n",
    "                     # ('randomforest', RandomForestClassifier(n_estimators=1000,\n",
    "                      #                                        class_weight=class_weight_m))])"
   ]
  },
  {
   "cell_type": "code",
   "execution_count": 9,
   "id": "dc3d9ef3",
   "metadata": {},
   "outputs": [],
   "source": [
    "#### Good\n",
    "\n",
    "# Random Forest\n",
    "rf_model =  Pipeline(steps=[\n",
    "                      ('randomforest', RandomForestClassifier(n_estimators=1000,\n",
    "                                                              class_weight=class_weight_m))])\n",
    "\n",
    "# Logistic regression\n",
    "lr_model = Pipeline(steps=[\n",
    "                           ('logisticregression', LogisticRegression(class_weight=class_weight_m))])\n",
    "\n",
    "# Decision Tree\n",
    "dt_model =  Pipeline(steps=[\n",
    "                           ('decisiontree',DecisionTreeClassifier(random_state = 42,\n",
    "                                                                  class_weight=class_weight_m))])"
   ]
  },
  {
   "cell_type": "markdown",
   "id": "fc9d6393-c160-48d3-985e-1aa67f5e2ff5",
   "metadata": {},
   "source": [
    "## Split data"
   ]
  },
  {
   "cell_type": "code",
   "execution_count": 10,
   "id": "cdee7a1c",
   "metadata": {},
   "outputs": [],
   "source": [
    "# Split data with stratify\n",
    "X_train, X_test, y_train, y_test = train_test_split(X, y, stratify=y, random_state=42)"
   ]
  },
  {
   "cell_type": "markdown",
   "id": "1b6d0de5-b75b-4b7a-8e16-5436d324df22",
   "metadata": {},
   "source": [
    "## Baseline\n",
    "\n",
    "Dummy classifier predict survived (1) when Naloxone was administered AND there were no multiple drugs. Otherwise died."
   ]
  },
  {
   "cell_type": "code",
   "execution_count": 11,
   "id": "4e09167c-e999-4310-b61b-7f72922458da",
   "metadata": {},
   "outputs": [
    {
     "name": "stdout",
     "output_type": "stream",
     "text": [
      "              precision    recall  f1-score   support\n",
      "\n",
      "        Died       0.36      0.85      0.51      3829\n",
      "    Survived       0.91      0.51      0.65     11618\n",
      "\n",
      "    accuracy                           0.59     15447\n",
      "   macro avg       0.64      0.68      0.58     15447\n",
      "weighted avg       0.77      0.59      0.62     15447\n",
      "\n",
      "0.3118325529188974\n"
     ]
    }
   ],
   "source": [
    "dummy_clf = X_train[[\"Naloxone Administered\", 'Multiple Drugs']].apply(lambda x: 1 if x[0] == 1 and x[1] == 0 else 0, axis = 1)\n",
    "print(classification_report(y_train, dummy_clf, target_names=[\"Died\", \"Survived\"]))\n",
    "\n",
    "print(matthews_corrcoef(y_train,dummy_clf))"
   ]
  },
  {
   "cell_type": "markdown",
   "id": "416a662d-02a2-4eb1-a7d2-91c8ea6f2f27",
   "metadata": {},
   "source": [
    "## Fit Models"
   ]
  },
  {
   "cell_type": "code",
   "execution_count": 12,
   "id": "b8eadd85",
   "metadata": {},
   "outputs": [
    {
     "data": {
      "text/html": [
       "<style>#sk-container-id-1 {color: black;background-color: white;}#sk-container-id-1 pre{padding: 0;}#sk-container-id-1 div.sk-toggleable {background-color: white;}#sk-container-id-1 label.sk-toggleable__label {cursor: pointer;display: block;width: 100%;margin-bottom: 0;padding: 0.3em;box-sizing: border-box;text-align: center;}#sk-container-id-1 label.sk-toggleable__label-arrow:before {content: \"▸\";float: left;margin-right: 0.25em;color: #696969;}#sk-container-id-1 label.sk-toggleable__label-arrow:hover:before {color: black;}#sk-container-id-1 div.sk-estimator:hover label.sk-toggleable__label-arrow:before {color: black;}#sk-container-id-1 div.sk-toggleable__content {max-height: 0;max-width: 0;overflow: hidden;text-align: left;background-color: #f0f8ff;}#sk-container-id-1 div.sk-toggleable__content pre {margin: 0.2em;color: black;border-radius: 0.25em;background-color: #f0f8ff;}#sk-container-id-1 input.sk-toggleable__control:checked~div.sk-toggleable__content {max-height: 200px;max-width: 100%;overflow: auto;}#sk-container-id-1 input.sk-toggleable__control:checked~label.sk-toggleable__label-arrow:before {content: \"▾\";}#sk-container-id-1 div.sk-estimator input.sk-toggleable__control:checked~label.sk-toggleable__label {background-color: #d4ebff;}#sk-container-id-1 div.sk-label input.sk-toggleable__control:checked~label.sk-toggleable__label {background-color: #d4ebff;}#sk-container-id-1 input.sk-hidden--visually {border: 0;clip: rect(1px 1px 1px 1px);clip: rect(1px, 1px, 1px, 1px);height: 1px;margin: -1px;overflow: hidden;padding: 0;position: absolute;width: 1px;}#sk-container-id-1 div.sk-estimator {font-family: monospace;background-color: #f0f8ff;border: 1px dotted black;border-radius: 0.25em;box-sizing: border-box;margin-bottom: 0.5em;}#sk-container-id-1 div.sk-estimator:hover {background-color: #d4ebff;}#sk-container-id-1 div.sk-parallel-item::after {content: \"\";width: 100%;border-bottom: 1px solid gray;flex-grow: 1;}#sk-container-id-1 div.sk-label:hover label.sk-toggleable__label {background-color: #d4ebff;}#sk-container-id-1 div.sk-serial::before {content: \"\";position: absolute;border-left: 1px solid gray;box-sizing: border-box;top: 0;bottom: 0;left: 50%;z-index: 0;}#sk-container-id-1 div.sk-serial {display: flex;flex-direction: column;align-items: center;background-color: white;padding-right: 0.2em;padding-left: 0.2em;position: relative;}#sk-container-id-1 div.sk-item {position: relative;z-index: 1;}#sk-container-id-1 div.sk-parallel {display: flex;align-items: stretch;justify-content: center;background-color: white;position: relative;}#sk-container-id-1 div.sk-item::before, #sk-container-id-1 div.sk-parallel-item::before {content: \"\";position: absolute;border-left: 1px solid gray;box-sizing: border-box;top: 0;bottom: 0;left: 50%;z-index: -1;}#sk-container-id-1 div.sk-parallel-item {display: flex;flex-direction: column;z-index: 1;position: relative;background-color: white;}#sk-container-id-1 div.sk-parallel-item:first-child::after {align-self: flex-end;width: 50%;}#sk-container-id-1 div.sk-parallel-item:last-child::after {align-self: flex-start;width: 50%;}#sk-container-id-1 div.sk-parallel-item:only-child::after {width: 0;}#sk-container-id-1 div.sk-dashed-wrapped {border: 1px dashed gray;margin: 0 0.4em 0.5em 0.4em;box-sizing: border-box;padding-bottom: 0.4em;background-color: white;}#sk-container-id-1 div.sk-label label {font-family: monospace;font-weight: bold;display: inline-block;line-height: 1.2em;}#sk-container-id-1 div.sk-label-container {text-align: center;}#sk-container-id-1 div.sk-container {/* jupyter's `normalize.less` sets `[hidden] { display: none; }` but bootstrap.min.css set `[hidden] { display: none !important; }` so we also need the `!important` here to be able to override the default hidden behavior on the sphinx rendered scikit-learn.org. See: https://github.com/scikit-learn/scikit-learn/issues/21755 */display: inline-block !important;position: relative;}#sk-container-id-1 div.sk-text-repr-fallback {display: none;}</style><div id=\"sk-container-id-1\" class=\"sk-top-container\"><div class=\"sk-text-repr-fallback\"><pre>Pipeline(steps=[(&#x27;randomforest&#x27;,\n",
       "                 RandomForestClassifier(class_weight={0: 5105, 1: 15492},\n",
       "                                        n_estimators=1000))])</pre><b>In a Jupyter environment, please rerun this cell to show the HTML representation or trust the notebook. <br />On GitHub, the HTML representation is unable to render, please try loading this page with nbviewer.org.</b></div><div class=\"sk-container\" hidden><div class=\"sk-item sk-dashed-wrapped\"><div class=\"sk-label-container\"><div class=\"sk-label sk-toggleable\"><input class=\"sk-toggleable__control sk-hidden--visually\" id=\"sk-estimator-id-1\" type=\"checkbox\" ><label for=\"sk-estimator-id-1\" class=\"sk-toggleable__label sk-toggleable__label-arrow\">Pipeline</label><div class=\"sk-toggleable__content\"><pre>Pipeline(steps=[(&#x27;randomforest&#x27;,\n",
       "                 RandomForestClassifier(class_weight={0: 5105, 1: 15492},\n",
       "                                        n_estimators=1000))])</pre></div></div></div><div class=\"sk-serial\"><div class=\"sk-item\"><div class=\"sk-estimator sk-toggleable\"><input class=\"sk-toggleable__control sk-hidden--visually\" id=\"sk-estimator-id-2\" type=\"checkbox\" ><label for=\"sk-estimator-id-2\" class=\"sk-toggleable__label sk-toggleable__label-arrow\">RandomForestClassifier</label><div class=\"sk-toggleable__content\"><pre>RandomForestClassifier(class_weight={0: 5105, 1: 15492}, n_estimators=1000)</pre></div></div></div></div></div></div></div>"
      ],
      "text/plain": [
       "Pipeline(steps=[('randomforest',\n",
       "                 RandomForestClassifier(class_weight={0: 5105, 1: 15492},\n",
       "                                        n_estimators=1000))])"
      ]
     },
     "execution_count": 12,
     "metadata": {},
     "output_type": "execute_result"
    }
   ],
   "source": [
    "# Random Forest\n",
    "rf_model.fit(X_train,y_train)"
   ]
  },
  {
   "cell_type": "code",
   "execution_count": 13,
   "id": "b0bf90d1",
   "metadata": {},
   "outputs": [
    {
     "data": {
      "text/html": [
       "<style>#sk-container-id-2 {color: black;background-color: white;}#sk-container-id-2 pre{padding: 0;}#sk-container-id-2 div.sk-toggleable {background-color: white;}#sk-container-id-2 label.sk-toggleable__label {cursor: pointer;display: block;width: 100%;margin-bottom: 0;padding: 0.3em;box-sizing: border-box;text-align: center;}#sk-container-id-2 label.sk-toggleable__label-arrow:before {content: \"▸\";float: left;margin-right: 0.25em;color: #696969;}#sk-container-id-2 label.sk-toggleable__label-arrow:hover:before {color: black;}#sk-container-id-2 div.sk-estimator:hover label.sk-toggleable__label-arrow:before {color: black;}#sk-container-id-2 div.sk-toggleable__content {max-height: 0;max-width: 0;overflow: hidden;text-align: left;background-color: #f0f8ff;}#sk-container-id-2 div.sk-toggleable__content pre {margin: 0.2em;color: black;border-radius: 0.25em;background-color: #f0f8ff;}#sk-container-id-2 input.sk-toggleable__control:checked~div.sk-toggleable__content {max-height: 200px;max-width: 100%;overflow: auto;}#sk-container-id-2 input.sk-toggleable__control:checked~label.sk-toggleable__label-arrow:before {content: \"▾\";}#sk-container-id-2 div.sk-estimator input.sk-toggleable__control:checked~label.sk-toggleable__label {background-color: #d4ebff;}#sk-container-id-2 div.sk-label input.sk-toggleable__control:checked~label.sk-toggleable__label {background-color: #d4ebff;}#sk-container-id-2 input.sk-hidden--visually {border: 0;clip: rect(1px 1px 1px 1px);clip: rect(1px, 1px, 1px, 1px);height: 1px;margin: -1px;overflow: hidden;padding: 0;position: absolute;width: 1px;}#sk-container-id-2 div.sk-estimator {font-family: monospace;background-color: #f0f8ff;border: 1px dotted black;border-radius: 0.25em;box-sizing: border-box;margin-bottom: 0.5em;}#sk-container-id-2 div.sk-estimator:hover {background-color: #d4ebff;}#sk-container-id-2 div.sk-parallel-item::after {content: \"\";width: 100%;border-bottom: 1px solid gray;flex-grow: 1;}#sk-container-id-2 div.sk-label:hover label.sk-toggleable__label {background-color: #d4ebff;}#sk-container-id-2 div.sk-serial::before {content: \"\";position: absolute;border-left: 1px solid gray;box-sizing: border-box;top: 0;bottom: 0;left: 50%;z-index: 0;}#sk-container-id-2 div.sk-serial {display: flex;flex-direction: column;align-items: center;background-color: white;padding-right: 0.2em;padding-left: 0.2em;position: relative;}#sk-container-id-2 div.sk-item {position: relative;z-index: 1;}#sk-container-id-2 div.sk-parallel {display: flex;align-items: stretch;justify-content: center;background-color: white;position: relative;}#sk-container-id-2 div.sk-item::before, #sk-container-id-2 div.sk-parallel-item::before {content: \"\";position: absolute;border-left: 1px solid gray;box-sizing: border-box;top: 0;bottom: 0;left: 50%;z-index: -1;}#sk-container-id-2 div.sk-parallel-item {display: flex;flex-direction: column;z-index: 1;position: relative;background-color: white;}#sk-container-id-2 div.sk-parallel-item:first-child::after {align-self: flex-end;width: 50%;}#sk-container-id-2 div.sk-parallel-item:last-child::after {align-self: flex-start;width: 50%;}#sk-container-id-2 div.sk-parallel-item:only-child::after {width: 0;}#sk-container-id-2 div.sk-dashed-wrapped {border: 1px dashed gray;margin: 0 0.4em 0.5em 0.4em;box-sizing: border-box;padding-bottom: 0.4em;background-color: white;}#sk-container-id-2 div.sk-label label {font-family: monospace;font-weight: bold;display: inline-block;line-height: 1.2em;}#sk-container-id-2 div.sk-label-container {text-align: center;}#sk-container-id-2 div.sk-container {/* jupyter's `normalize.less` sets `[hidden] { display: none; }` but bootstrap.min.css set `[hidden] { display: none !important; }` so we also need the `!important` here to be able to override the default hidden behavior on the sphinx rendered scikit-learn.org. See: https://github.com/scikit-learn/scikit-learn/issues/21755 */display: inline-block !important;position: relative;}#sk-container-id-2 div.sk-text-repr-fallback {display: none;}</style><div id=\"sk-container-id-2\" class=\"sk-top-container\"><div class=\"sk-text-repr-fallback\"><pre>Pipeline(steps=[(&#x27;logisticregression&#x27;,\n",
       "                 LogisticRegression(class_weight={0: 5105, 1: 15492}))])</pre><b>In a Jupyter environment, please rerun this cell to show the HTML representation or trust the notebook. <br />On GitHub, the HTML representation is unable to render, please try loading this page with nbviewer.org.</b></div><div class=\"sk-container\" hidden><div class=\"sk-item sk-dashed-wrapped\"><div class=\"sk-label-container\"><div class=\"sk-label sk-toggleable\"><input class=\"sk-toggleable__control sk-hidden--visually\" id=\"sk-estimator-id-3\" type=\"checkbox\" ><label for=\"sk-estimator-id-3\" class=\"sk-toggleable__label sk-toggleable__label-arrow\">Pipeline</label><div class=\"sk-toggleable__content\"><pre>Pipeline(steps=[(&#x27;logisticregression&#x27;,\n",
       "                 LogisticRegression(class_weight={0: 5105, 1: 15492}))])</pre></div></div></div><div class=\"sk-serial\"><div class=\"sk-item\"><div class=\"sk-estimator sk-toggleable\"><input class=\"sk-toggleable__control sk-hidden--visually\" id=\"sk-estimator-id-4\" type=\"checkbox\" ><label for=\"sk-estimator-id-4\" class=\"sk-toggleable__label sk-toggleable__label-arrow\">LogisticRegression</label><div class=\"sk-toggleable__content\"><pre>LogisticRegression(class_weight={0: 5105, 1: 15492})</pre></div></div></div></div></div></div></div>"
      ],
      "text/plain": [
       "Pipeline(steps=[('logisticregression',\n",
       "                 LogisticRegression(class_weight={0: 5105, 1: 15492}))])"
      ]
     },
     "execution_count": 13,
     "metadata": {},
     "output_type": "execute_result"
    }
   ],
   "source": [
    "# Logistic Regression\n",
    "lr_model.fit(X_train,y_train)"
   ]
  },
  {
   "cell_type": "code",
   "execution_count": 14,
   "id": "aaf75b04",
   "metadata": {},
   "outputs": [
    {
     "data": {
      "text/html": [
       "<style>#sk-container-id-3 {color: black;background-color: white;}#sk-container-id-3 pre{padding: 0;}#sk-container-id-3 div.sk-toggleable {background-color: white;}#sk-container-id-3 label.sk-toggleable__label {cursor: pointer;display: block;width: 100%;margin-bottom: 0;padding: 0.3em;box-sizing: border-box;text-align: center;}#sk-container-id-3 label.sk-toggleable__label-arrow:before {content: \"▸\";float: left;margin-right: 0.25em;color: #696969;}#sk-container-id-3 label.sk-toggleable__label-arrow:hover:before {color: black;}#sk-container-id-3 div.sk-estimator:hover label.sk-toggleable__label-arrow:before {color: black;}#sk-container-id-3 div.sk-toggleable__content {max-height: 0;max-width: 0;overflow: hidden;text-align: left;background-color: #f0f8ff;}#sk-container-id-3 div.sk-toggleable__content pre {margin: 0.2em;color: black;border-radius: 0.25em;background-color: #f0f8ff;}#sk-container-id-3 input.sk-toggleable__control:checked~div.sk-toggleable__content {max-height: 200px;max-width: 100%;overflow: auto;}#sk-container-id-3 input.sk-toggleable__control:checked~label.sk-toggleable__label-arrow:before {content: \"▾\";}#sk-container-id-3 div.sk-estimator input.sk-toggleable__control:checked~label.sk-toggleable__label {background-color: #d4ebff;}#sk-container-id-3 div.sk-label input.sk-toggleable__control:checked~label.sk-toggleable__label {background-color: #d4ebff;}#sk-container-id-3 input.sk-hidden--visually {border: 0;clip: rect(1px 1px 1px 1px);clip: rect(1px, 1px, 1px, 1px);height: 1px;margin: -1px;overflow: hidden;padding: 0;position: absolute;width: 1px;}#sk-container-id-3 div.sk-estimator {font-family: monospace;background-color: #f0f8ff;border: 1px dotted black;border-radius: 0.25em;box-sizing: border-box;margin-bottom: 0.5em;}#sk-container-id-3 div.sk-estimator:hover {background-color: #d4ebff;}#sk-container-id-3 div.sk-parallel-item::after {content: \"\";width: 100%;border-bottom: 1px solid gray;flex-grow: 1;}#sk-container-id-3 div.sk-label:hover label.sk-toggleable__label {background-color: #d4ebff;}#sk-container-id-3 div.sk-serial::before {content: \"\";position: absolute;border-left: 1px solid gray;box-sizing: border-box;top: 0;bottom: 0;left: 50%;z-index: 0;}#sk-container-id-3 div.sk-serial {display: flex;flex-direction: column;align-items: center;background-color: white;padding-right: 0.2em;padding-left: 0.2em;position: relative;}#sk-container-id-3 div.sk-item {position: relative;z-index: 1;}#sk-container-id-3 div.sk-parallel {display: flex;align-items: stretch;justify-content: center;background-color: white;position: relative;}#sk-container-id-3 div.sk-item::before, #sk-container-id-3 div.sk-parallel-item::before {content: \"\";position: absolute;border-left: 1px solid gray;box-sizing: border-box;top: 0;bottom: 0;left: 50%;z-index: -1;}#sk-container-id-3 div.sk-parallel-item {display: flex;flex-direction: column;z-index: 1;position: relative;background-color: white;}#sk-container-id-3 div.sk-parallel-item:first-child::after {align-self: flex-end;width: 50%;}#sk-container-id-3 div.sk-parallel-item:last-child::after {align-self: flex-start;width: 50%;}#sk-container-id-3 div.sk-parallel-item:only-child::after {width: 0;}#sk-container-id-3 div.sk-dashed-wrapped {border: 1px dashed gray;margin: 0 0.4em 0.5em 0.4em;box-sizing: border-box;padding-bottom: 0.4em;background-color: white;}#sk-container-id-3 div.sk-label label {font-family: monospace;font-weight: bold;display: inline-block;line-height: 1.2em;}#sk-container-id-3 div.sk-label-container {text-align: center;}#sk-container-id-3 div.sk-container {/* jupyter's `normalize.less` sets `[hidden] { display: none; }` but bootstrap.min.css set `[hidden] { display: none !important; }` so we also need the `!important` here to be able to override the default hidden behavior on the sphinx rendered scikit-learn.org. See: https://github.com/scikit-learn/scikit-learn/issues/21755 */display: inline-block !important;position: relative;}#sk-container-id-3 div.sk-text-repr-fallback {display: none;}</style><div id=\"sk-container-id-3\" class=\"sk-top-container\"><div class=\"sk-text-repr-fallback\"><pre>Pipeline(steps=[(&#x27;decisiontree&#x27;,\n",
       "                 DecisionTreeClassifier(class_weight={0: 5105, 1: 15492},\n",
       "                                        random_state=42))])</pre><b>In a Jupyter environment, please rerun this cell to show the HTML representation or trust the notebook. <br />On GitHub, the HTML representation is unable to render, please try loading this page with nbviewer.org.</b></div><div class=\"sk-container\" hidden><div class=\"sk-item sk-dashed-wrapped\"><div class=\"sk-label-container\"><div class=\"sk-label sk-toggleable\"><input class=\"sk-toggleable__control sk-hidden--visually\" id=\"sk-estimator-id-5\" type=\"checkbox\" ><label for=\"sk-estimator-id-5\" class=\"sk-toggleable__label sk-toggleable__label-arrow\">Pipeline</label><div class=\"sk-toggleable__content\"><pre>Pipeline(steps=[(&#x27;decisiontree&#x27;,\n",
       "                 DecisionTreeClassifier(class_weight={0: 5105, 1: 15492},\n",
       "                                        random_state=42))])</pre></div></div></div><div class=\"sk-serial\"><div class=\"sk-item\"><div class=\"sk-estimator sk-toggleable\"><input class=\"sk-toggleable__control sk-hidden--visually\" id=\"sk-estimator-id-6\" type=\"checkbox\" ><label for=\"sk-estimator-id-6\" class=\"sk-toggleable__label sk-toggleable__label-arrow\">DecisionTreeClassifier</label><div class=\"sk-toggleable__content\"><pre>DecisionTreeClassifier(class_weight={0: 5105, 1: 15492}, random_state=42)</pre></div></div></div></div></div></div></div>"
      ],
      "text/plain": [
       "Pipeline(steps=[('decisiontree',\n",
       "                 DecisionTreeClassifier(class_weight={0: 5105, 1: 15492},\n",
       "                                        random_state=42))])"
      ]
     },
     "execution_count": 14,
     "metadata": {},
     "output_type": "execute_result"
    }
   ],
   "source": [
    "# Decision Tree\n",
    "dt_model.fit(X_train,y_train)"
   ]
  },
  {
   "cell_type": "markdown",
   "id": "1927423d-271c-4d85-bd9e-094d1103edc8",
   "metadata": {},
   "source": [
    "## Predict"
   ]
  },
  {
   "cell_type": "code",
   "execution_count": 15,
   "id": "bf632fe3",
   "metadata": {},
   "outputs": [
    {
     "name": "stdout",
     "output_type": "stream",
     "text": [
      "accuracy: 0.777864077669903\n"
     ]
    }
   ],
   "source": [
    "# Random Forest \n",
    "predictions_classweights = rf_model.predict(X_test)\n",
    "print(\"accuracy:\",accuracy_score(y_test, predictions_classweights))"
   ]
  },
  {
   "cell_type": "code",
   "execution_count": 16,
   "id": "fafccb24",
   "metadata": {},
   "outputs": [
    {
     "name": "stdout",
     "output_type": "stream",
     "text": [
      "accuracy: 0.7522330097087379\n"
     ]
    }
   ],
   "source": [
    "# Logistic Regression\n",
    "LR_predictions_classweights = lr_model.predict(X_test)\n",
    "print(\"accuracy:\",accuracy_score(y_test, LR_predictions_classweights))\n"
   ]
  },
  {
   "cell_type": "code",
   "execution_count": 17,
   "id": "abfc45b6",
   "metadata": {},
   "outputs": [
    {
     "name": "stdout",
     "output_type": "stream",
     "text": [
      "accuracy: 0.777864077669903\n"
     ]
    }
   ],
   "source": [
    "# Decision Tree\n",
    "dt_predictions_classweights = dt_model.predict(X_test)\n",
    "print(\"accuracy:\",accuracy_score(y_test, dt_predictions_classweights))\n"
   ]
  },
  {
   "cell_type": "markdown",
   "id": "3427a084-c0a3-45c8-8285-f7b6e9b2e54e",
   "metadata": {},
   "source": [
    "# Cross Validation"
   ]
  },
  {
   "cell_type": "code",
   "execution_count": 32,
   "id": "3a429eb7-d8c2-4eb7-b472-1ababad01b38",
   "metadata": {},
   "outputs": [],
   "source": [
    "def cross_validation(X, y, model, n_splits = 5,  **kwargs):\n",
    "    \n",
    "    # KFold object\n",
    "    kf = StratifiedKFold(n_splits=n_splits,random_state=0, shuffle=True)\n",
    "    \n",
    "    # Empty lists\n",
    "    acc_score = []\n",
    "    pred = []\n",
    "    y_test_all = []\n",
    "    pred_prob = []\n",
    "    \n",
    "    # KFold iterations\n",
    "    for i, (train_index, test_index) in enumerate(kf.split(X,y)):\n",
    "        print(f\"Run #{i}\")\n",
    "        \n",
    "        # Train and test features and target\n",
    "        X_train , X_test = X.iloc[train_index,:],X.iloc[test_index,:]\n",
    "        y_train , y_test = y.iloc[train_index] , y.iloc[test_index]\n",
    "        \n",
    "        # Fit and score model\n",
    "        model.fit(X_train,y_train)\n",
    "        print(model.score(X_test, y_test))\n",
    "        num = model.score(X_test, y_test)\n",
    "        num = num.astype(float)\n",
    "        acc_score.append(num)\n",
    "        \n",
    "        # Predict\n",
    "        predictions_classweights = model.predict(X_test)\n",
    "        proba = model.predict_proba(X_test)\n",
    "        pred_prob.append(proba)                           \n",
    "        \n",
    "        # Store results\n",
    "        pred.append(predictions_classweights)\n",
    "        y_test_all.append(y_test)\n",
    "        \n",
    "        # Print ROC AUC results\n",
    "        print(f\"ROC AUC Score: {roc_auc_score(y_test,predictions_classweights)}\", end = \"\\n\")\n",
    "        \n",
    "        print(f\"Matthews Correlation: {matthews_corrcoef(y_test,predictions_classweights)}\", end = \"\\n\\n\")\n",
    "        \n",
    "    # Return lists\n",
    "    return pred, y_test_all, pred_prob\n"
   ]
  },
  {
   "cell_type": "code",
   "execution_count": 33,
   "id": "35eba309-b274-40f0-9c11-1e4f16b8e6ad",
   "metadata": {},
   "outputs": [
    {
     "name": "stdout",
     "output_type": "stream",
     "text": [
      "Run #0\n",
      "0.7694174757281553\n",
      "ROC AUC Score: 0.5465912829610133\n",
      "Matthews Correlation: 0.21979231846357772\n",
      "\n",
      "Run #1\n",
      "0.7735436893203883\n",
      "ROC AUC Score: 0.5578718167277112\n",
      "Matthews Correlation: 0.24578335025642434\n",
      "\n",
      "Run #2\n",
      "0.7521243020150522\n",
      "ROC AUC Score: 0.5\n",
      "Matthews Correlation: 0.0\n",
      "\n",
      "Run #3\n",
      "0.7708181597475116\n",
      "ROC AUC Score: 0.5531392405703595\n",
      "Matthews Correlation: 0.23004473056258826\n",
      "\n",
      "Run #4\n",
      "0.7696042728817675\n",
      "ROC AUC Score: 0.5500340177132382\n",
      "Matthews Correlation: 0.22228411038795723\n",
      "\n"
     ]
    }
   ],
   "source": [
    "rf_cross_pred, rf_cross_test, rf_cross_prob = cross_validation(X, y, rf_model)"
   ]
  },
  {
   "cell_type": "code",
   "execution_count": 34,
   "id": "f5e647f9-a29e-460b-a160-d505c2c30b39",
   "metadata": {},
   "outputs": [
    {
     "name": "stdout",
     "output_type": "stream",
     "text": [
      "Run #0\n",
      "0.7521844660194175\n",
      "ROC AUC Score: 0.5\n",
      "Matthews Correlation: 0.0\n",
      "\n",
      "Run #1\n",
      "0.7521844660194175\n",
      "ROC AUC Score: 0.5\n",
      "Matthews Correlation: 0.0\n",
      "\n",
      "Run #2\n",
      "0.7521243020150522\n",
      "ROC AUC Score: 0.5\n",
      "Matthews Correlation: 0.0\n",
      "\n",
      "Run #3\n",
      "0.7521243020150522\n",
      "ROC AUC Score: 0.5\n",
      "Matthews Correlation: 0.0\n",
      "\n",
      "Run #4\n",
      "0.7521243020150522\n",
      "ROC AUC Score: 0.5\n",
      "Matthews Correlation: 0.0\n",
      "\n"
     ]
    }
   ],
   "source": [
    "lr_cross_pred,lr_cross_test, lr_cross_prob = cross_validation(X, y, lr_model)"
   ]
  },
  {
   "cell_type": "code",
   "execution_count": 35,
   "id": "edeace6f-6b7d-4e2b-ac9d-fd86a9d9eef5",
   "metadata": {},
   "outputs": [
    {
     "name": "stdout",
     "output_type": "stream",
     "text": [
      "Run #0\n",
      "0.7694174757281553\n",
      "ROC AUC Score: 0.5465912829610133\n",
      "Matthews Correlation: 0.21979231846357772\n",
      "\n",
      "Run #1\n",
      "0.7735436893203883\n",
      "ROC AUC Score: 0.5578718167277112\n",
      "Matthews Correlation: 0.24578335025642434\n",
      "\n",
      "Run #2\n",
      "0.7521243020150522\n",
      "ROC AUC Score: 0.5\n",
      "Matthews Correlation: 0.0\n",
      "\n",
      "Run #3\n",
      "0.7708181597475116\n",
      "ROC AUC Score: 0.5531392405703595\n",
      "Matthews Correlation: 0.23004473056258826\n",
      "\n",
      "Run #4\n",
      "0.7696042728817675\n",
      "ROC AUC Score: 0.5500340177132382\n",
      "Matthews Correlation: 0.22228411038795723\n",
      "\n"
     ]
    }
   ],
   "source": [
    "dt_cross_pred, dt_cross_test, dt_cross_prob= cross_validation(X, y, dt_model)"
   ]
  },
  {
   "cell_type": "code",
   "execution_count": 36,
   "id": "24f70804-fbb2-4abf-b7ab-64ce9b4ece66",
   "metadata": {},
   "outputs": [],
   "source": [
    "def change_threshold(pred_prob_all, y_test_all, threshold: int = .5):\n",
    "    y_test_master = pd.concat(y_test_all)\n",
    "    \n",
    "    probs = [pd.DataFrame(a, columns = ['zero', 'one']) for a in pred_prob_all]\n",
    "    probs_final = pd.concat(probs)\n",
    "    probs_final = probs_final[['one']]\n",
    "    \n",
    "    probs_final['one'] = np.select([probs_final['one'] > threshold],  ### setting threshold\n",
    "                                    [1],\n",
    "                                    default=0)\n",
    "    \n",
    "    print(\"Confusion Matrix: \")\n",
    "    print(confusion_matrix(y_test_master,probs_final), end = \"\\n\\n\")\n",
    "    \n",
    "     # Print ROC AUC results\n",
    "    print(f\"ROC AUC Score: {roc_auc_score(y_test_master,probs_final)}\", end = \"\\n\")\n",
    "    print(f\"Matthews Correlation: {matthews_corrcoef(y_test_master,probs_final)}\", end = \"\\n\\n\")\n",
    "    \n",
    "    target_names = ['Died', 'Survived']\n",
    "    print(\"Classification Report: \")\n",
    "    print(classification_report(y_test_master, probs_final, target_names=target_names))\n",
    "    \n",
    "    \n",
    "    \n",
    "    return probs_final\n"
   ]
  },
  {
   "cell_type": "code",
   "execution_count": 37,
   "id": "c670e944",
   "metadata": {},
   "outputs": [
    {
     "name": "stdout",
     "output_type": "stream",
     "text": [
      "Confusion Matrix: \n",
      "[[ 3279  1826]\n",
      " [ 2638 12854]]\n",
      "\n",
      "ROC AUC Score: 0.7360150118869604\n",
      "Matthews Correlation: 0.45040938175931294\n",
      "\n",
      "Classification Report: \n",
      "              precision    recall  f1-score   support\n",
      "\n",
      "        Died       0.55      0.64      0.59      5105\n",
      "    Survived       0.88      0.83      0.85     15492\n",
      "\n",
      "    accuracy                           0.78     20597\n",
      "   macro avg       0.71      0.74      0.72     20597\n",
      "weighted avg       0.80      0.78      0.79     20597\n",
      "\n"
     ]
    },
    {
     "data": {
      "text/html": [
       "<div>\n",
       "<style scoped>\n",
       "    .dataframe tbody tr th:only-of-type {\n",
       "        vertical-align: middle;\n",
       "    }\n",
       "\n",
       "    .dataframe tbody tr th {\n",
       "        vertical-align: top;\n",
       "    }\n",
       "\n",
       "    .dataframe thead th {\n",
       "        text-align: right;\n",
       "    }\n",
       "</style>\n",
       "<table border=\"1\" class=\"dataframe\">\n",
       "  <thead>\n",
       "    <tr style=\"text-align: right;\">\n",
       "      <th></th>\n",
       "      <th>one</th>\n",
       "    </tr>\n",
       "  </thead>\n",
       "  <tbody>\n",
       "    <tr>\n",
       "      <th>0</th>\n",
       "      <td>0</td>\n",
       "    </tr>\n",
       "    <tr>\n",
       "      <th>1</th>\n",
       "      <td>0</td>\n",
       "    </tr>\n",
       "    <tr>\n",
       "      <th>2</th>\n",
       "      <td>0</td>\n",
       "    </tr>\n",
       "    <tr>\n",
       "      <th>3</th>\n",
       "      <td>0</td>\n",
       "    </tr>\n",
       "    <tr>\n",
       "      <th>4</th>\n",
       "      <td>0</td>\n",
       "    </tr>\n",
       "    <tr>\n",
       "      <th>...</th>\n",
       "      <td>...</td>\n",
       "    </tr>\n",
       "    <tr>\n",
       "      <th>4114</th>\n",
       "      <td>1</td>\n",
       "    </tr>\n",
       "    <tr>\n",
       "      <th>4115</th>\n",
       "      <td>0</td>\n",
       "    </tr>\n",
       "    <tr>\n",
       "      <th>4116</th>\n",
       "      <td>1</td>\n",
       "    </tr>\n",
       "    <tr>\n",
       "      <th>4117</th>\n",
       "      <td>1</td>\n",
       "    </tr>\n",
       "    <tr>\n",
       "      <th>4118</th>\n",
       "      <td>1</td>\n",
       "    </tr>\n",
       "  </tbody>\n",
       "</table>\n",
       "<p>20597 rows × 1 columns</p>\n",
       "</div>"
      ],
      "text/plain": [
       "      one\n",
       "0       0\n",
       "1       0\n",
       "2       0\n",
       "3       0\n",
       "4       0\n",
       "...   ...\n",
       "4114    1\n",
       "4115    0\n",
       "4116    1\n",
       "4117    1\n",
       "4118    1\n",
       "\n",
       "[20597 rows x 1 columns]"
      ]
     },
     "execution_count": 37,
     "metadata": {},
     "output_type": "execute_result"
    }
   ],
   "source": [
    "change_threshold(rf_cross_prob, rf_cross_test, .8)"
   ]
  },
  {
   "cell_type": "code",
   "execution_count": 38,
   "id": "a39f2975-f60e-4b29-8cb8-46dc6aaa11c9",
   "metadata": {},
   "outputs": [
    {
     "name": "stdout",
     "output_type": "stream",
     "text": [
      "Confusion Matrix: \n",
      "[[ 3511  1594]\n",
      " [ 2935 12557]]\n",
      "\n",
      "ROC AUC Score: 0.7491522400870132\n",
      "Matthews Correlation: 0.4639890090794525\n",
      "\n",
      "Classification Report: \n",
      "              precision    recall  f1-score   support\n",
      "\n",
      "        Died       0.54      0.69      0.61      5105\n",
      "    Survived       0.89      0.81      0.85     15492\n",
      "\n",
      "    accuracy                           0.78     20597\n",
      "   macro avg       0.72      0.75      0.73     20597\n",
      "weighted avg       0.80      0.78      0.79     20597\n",
      "\n"
     ]
    },
    {
     "data": {
      "text/html": [
       "<div>\n",
       "<style scoped>\n",
       "    .dataframe tbody tr th:only-of-type {\n",
       "        vertical-align: middle;\n",
       "    }\n",
       "\n",
       "    .dataframe tbody tr th {\n",
       "        vertical-align: top;\n",
       "    }\n",
       "\n",
       "    .dataframe thead th {\n",
       "        text-align: right;\n",
       "    }\n",
       "</style>\n",
       "<table border=\"1\" class=\"dataframe\">\n",
       "  <thead>\n",
       "    <tr style=\"text-align: right;\">\n",
       "      <th></th>\n",
       "      <th>one</th>\n",
       "    </tr>\n",
       "  </thead>\n",
       "  <tbody>\n",
       "    <tr>\n",
       "      <th>0</th>\n",
       "      <td>0</td>\n",
       "    </tr>\n",
       "    <tr>\n",
       "      <th>1</th>\n",
       "      <td>0</td>\n",
       "    </tr>\n",
       "    <tr>\n",
       "      <th>2</th>\n",
       "      <td>0</td>\n",
       "    </tr>\n",
       "    <tr>\n",
       "      <th>3</th>\n",
       "      <td>0</td>\n",
       "    </tr>\n",
       "    <tr>\n",
       "      <th>4</th>\n",
       "      <td>0</td>\n",
       "    </tr>\n",
       "    <tr>\n",
       "      <th>...</th>\n",
       "      <td>...</td>\n",
       "    </tr>\n",
       "    <tr>\n",
       "      <th>4114</th>\n",
       "      <td>1</td>\n",
       "    </tr>\n",
       "    <tr>\n",
       "      <th>4115</th>\n",
       "      <td>0</td>\n",
       "    </tr>\n",
       "    <tr>\n",
       "      <th>4116</th>\n",
       "      <td>1</td>\n",
       "    </tr>\n",
       "    <tr>\n",
       "      <th>4117</th>\n",
       "      <td>1</td>\n",
       "    </tr>\n",
       "    <tr>\n",
       "      <th>4118</th>\n",
       "      <td>1</td>\n",
       "    </tr>\n",
       "  </tbody>\n",
       "</table>\n",
       "<p>20597 rows × 1 columns</p>\n",
       "</div>"
      ],
      "text/plain": [
       "      one\n",
       "0       0\n",
       "1       0\n",
       "2       0\n",
       "3       0\n",
       "4       0\n",
       "...   ...\n",
       "4114    1\n",
       "4115    0\n",
       "4116    1\n",
       "4117    1\n",
       "4118    1\n",
       "\n",
       "[20597 rows x 1 columns]"
      ]
     },
     "execution_count": 38,
     "metadata": {},
     "output_type": "execute_result"
    }
   ],
   "source": [
    "change_threshold(lr_cross_prob, lr_cross_test, .8)"
   ]
  },
  {
   "cell_type": "code",
   "execution_count": 39,
   "id": "d8ae7485-2c04-4e5b-bb29-dc21e79066e1",
   "metadata": {},
   "outputs": [
    {
     "name": "stdout",
     "output_type": "stream",
     "text": [
      "Confusion Matrix: \n",
      "[[ 3279  1826]\n",
      " [ 2638 12854]]\n",
      "\n",
      "ROC AUC Score: 0.7360150118869604\n",
      "Matthews Correlation: 0.45040938175931294\n",
      "\n",
      "Classification Report: \n",
      "              precision    recall  f1-score   support\n",
      "\n",
      "        Died       0.55      0.64      0.59      5105\n",
      "    Survived       0.88      0.83      0.85     15492\n",
      "\n",
      "    accuracy                           0.78     20597\n",
      "   macro avg       0.71      0.74      0.72     20597\n",
      "weighted avg       0.80      0.78      0.79     20597\n",
      "\n"
     ]
    },
    {
     "data": {
      "text/html": [
       "<div>\n",
       "<style scoped>\n",
       "    .dataframe tbody tr th:only-of-type {\n",
       "        vertical-align: middle;\n",
       "    }\n",
       "\n",
       "    .dataframe tbody tr th {\n",
       "        vertical-align: top;\n",
       "    }\n",
       "\n",
       "    .dataframe thead th {\n",
       "        text-align: right;\n",
       "    }\n",
       "</style>\n",
       "<table border=\"1\" class=\"dataframe\">\n",
       "  <thead>\n",
       "    <tr style=\"text-align: right;\">\n",
       "      <th></th>\n",
       "      <th>one</th>\n",
       "    </tr>\n",
       "  </thead>\n",
       "  <tbody>\n",
       "    <tr>\n",
       "      <th>0</th>\n",
       "      <td>0</td>\n",
       "    </tr>\n",
       "    <tr>\n",
       "      <th>1</th>\n",
       "      <td>0</td>\n",
       "    </tr>\n",
       "    <tr>\n",
       "      <th>2</th>\n",
       "      <td>0</td>\n",
       "    </tr>\n",
       "    <tr>\n",
       "      <th>3</th>\n",
       "      <td>0</td>\n",
       "    </tr>\n",
       "    <tr>\n",
       "      <th>4</th>\n",
       "      <td>0</td>\n",
       "    </tr>\n",
       "    <tr>\n",
       "      <th>...</th>\n",
       "      <td>...</td>\n",
       "    </tr>\n",
       "    <tr>\n",
       "      <th>4114</th>\n",
       "      <td>1</td>\n",
       "    </tr>\n",
       "    <tr>\n",
       "      <th>4115</th>\n",
       "      <td>0</td>\n",
       "    </tr>\n",
       "    <tr>\n",
       "      <th>4116</th>\n",
       "      <td>1</td>\n",
       "    </tr>\n",
       "    <tr>\n",
       "      <th>4117</th>\n",
       "      <td>1</td>\n",
       "    </tr>\n",
       "    <tr>\n",
       "      <th>4118</th>\n",
       "      <td>1</td>\n",
       "    </tr>\n",
       "  </tbody>\n",
       "</table>\n",
       "<p>20597 rows × 1 columns</p>\n",
       "</div>"
      ],
      "text/plain": [
       "      one\n",
       "0       0\n",
       "1       0\n",
       "2       0\n",
       "3       0\n",
       "4       0\n",
       "...   ...\n",
       "4114    1\n",
       "4115    0\n",
       "4116    1\n",
       "4117    1\n",
       "4118    1\n",
       "\n",
       "[20597 rows x 1 columns]"
      ]
     },
     "execution_count": 39,
     "metadata": {},
     "output_type": "execute_result"
    }
   ],
   "source": [
    "change_threshold(dt_cross_prob, dt_cross_test, .8)"
   ]
  },
  {
   "cell_type": "markdown",
   "id": "397a5e90-6c3d-4905-afe3-3a38ebd17172",
   "metadata": {},
   "source": [
    "## ROC Plot"
   ]
  },
  {
   "cell_type": "code",
   "execution_count": 40,
   "id": "819ab4df-911f-45ad-91a4-ba59a3b8e443",
   "metadata": {},
   "outputs": [],
   "source": [
    "def plot_roc(pred_probs, y_test, threshold):\n",
    "    # probs = [pd.DataFrame(a, columns = ['zero', 'one']) for a in pred_probs]\n",
    "    # probs_final = pd.concat(probs)\n",
    "    # probs_final = probs_final[['one']]\n",
    "    probs_final = change_threshold(pred_probs, y_test, threshold = threshold)\n",
    "    y_test_master = pd.concat(y_test)\n",
    "    \n",
    "    fpr, tpr, _ = roc_curve(y_test_master,probs_final)\n",
    "    auc = roc_auc_score(y_test_master,probs_final)\n",
    "    plt.figure(figsize=(10,10))\n",
    "    plt.plot(fpr,tpr,label=\" auc=\"+str(auc))\n",
    "    plt.legend(loc=4)\n",
    "    plt.show()"
   ]
  },
  {
   "cell_type": "code",
   "execution_count": 41,
   "id": "bc774254-2c30-48bf-8cb3-d445f0949529",
   "metadata": {
    "tags": []
   },
   "outputs": [
    {
     "name": "stdout",
     "output_type": "stream",
     "text": [
      "Confusion Matrix: \n",
      "[[ 3279  1826]\n",
      " [ 2638 12854]]\n",
      "\n",
      "ROC AUC Score: 0.7360150118869604\n",
      "Matthews Correlation: 0.45040938175931294\n",
      "\n",
      "Classification Report: \n",
      "              precision    recall  f1-score   support\n",
      "\n",
      "        Died       0.55      0.64      0.59      5105\n",
      "    Survived       0.88      0.83      0.85     15492\n",
      "\n",
      "    accuracy                           0.78     20597\n",
      "   macro avg       0.71      0.74      0.72     20597\n",
      "weighted avg       0.80      0.78      0.79     20597\n",
      "\n"
     ]
    },
    {
     "data": {
      "image/png": "[encoded data removed]",
      "text/plain": [
       "<Figure size 1000x1000 with 1 Axes>"
      ]
     },
     "metadata": {},
     "output_type": "display_data"
    }
   ],
   "source": [
    "plot_roc(rf_cross_prob, rf_cross_test, 0.8)"
   ]
  },
  {
   "cell_type": "markdown",
   "id": "870fd93c-39e1-4962-9ccd-fa695acdd50a",
   "metadata": {},
   "source": [
    "# Feature Importance"
   ]
  },
  {
   "cell_type": "code",
   "execution_count": 42,
   "id": "1fc7e917",
   "metadata": {},
   "outputs": [],
   "source": [
    "# for gini importance\n",
    "from sklearn.feature_extraction import DictVectorizer\n",
    "from sklearn.preprocessing import FunctionTransformer\n",
    "from sklearn.pipeline import make_pipeline"
   ]
  },
  {
   "cell_type": "code",
   "execution_count": 43,
   "id": "3a42ebb0-199e-4df7-96e4-076317793ab7",
   "metadata": {},
   "outputs": [],
   "source": [
    "def row_to_dict(x,y=None):\n",
    "    return X.apply(dict,axis=1)\n",
    "    \n",
    "def plot_importance(X, y, model, rot = 75, figsize = (20,5), kind = \"bar\"):\n",
    "    ft = FunctionTransformer(row_to_dict, validate=False)\n",
    "    dv = DictVectorizer()\n",
    "\n",
    "    pipe = make_pipeline(ft,dv,model)\n",
    "    pipe.fit(X,y)\n",
    "    feature_importances = zip(dv.feature_names_,model[0].feature_importances_)\n",
    "    \n",
    "    feats = {}\n",
    "    for feature, importance in zip(dv.feature_names_,feature_importances):\n",
    "        feats[feature] = importance\n",
    "        \n",
    "    importances = pd.DataFrame.from_dict(feats, orient='index').rename(columns={0: 'Gini-importance'})\n",
    "    importances.sort_values(by='Gini-importance').plot(kind=kind, rot=rot, figsize = figsize)"
   ]
  },
  {
   "cell_type": "code",
   "execution_count": 44,
   "id": "dfca2968-b8f2-4358-8176-389417d88ba5",
   "metadata": {},
   "outputs": [
    {
     "data": {
      "text/plain": [
       "array([0.02333838, 0.83026648, 0.11110216, 0.03529298])"
      ]
     },
     "execution_count": 44,
     "metadata": {},
     "output_type": "execute_result"
    }
   ],
   "source": [
    "rf_model[0].feature_importances_"
   ]
  },
  {
   "cell_type": "code",
   "execution_count": 45,
   "id": "1d5f9614-951c-46de-8d49-b9237979732f",
   "metadata": {},
   "outputs": [
    {
     "data": {
      "image/png": "[encoded data removed]",
      "text/plain": [
       "<Figure size 2000x500 with 1 Axes>"
      ]
     },
     "metadata": {},
     "output_type": "display_data"
    }
   ],
   "source": [
    "plot_importance(X, y, rf_model, rot = 75, figsize = (20,5))"
   ]
  },
  {
   "cell_type": "code",
   "execution_count": 46,
   "id": "6af5dad5-bb50-4732-b267-299bffd341b2",
   "metadata": {},
   "outputs": [
    {
     "data": {
      "image/png": "[encoded data removed]",
      "text/plain": [
       "<Figure size 2000x500 with 1 Axes>"
      ]
     },
     "metadata": {},
     "output_type": "display_data"
    }
   ],
   "source": [
    "plot_importance(X, y, dt_model, rot = 75, figsize = (20,5))"
   ]
  },
  {
   "cell_type": "markdown",
   "id": "b7884186-5911-4bcc-a49c-e393524ee3f7",
   "metadata": {},
   "source": [
    "# Conclusions\n",
    "After changing threshold to around .8, both ROC and Matthews scores were increased. Recall our baseline results are:\n",
    "\n",
    "Matthews: 0.312 <br>\n",
    "ROC: 0.25 (Cross validation)\n",
    "\n",
    "Higher threshold increased both scores to:<br>\n",
    "Matthews: 0.45<br>\n",
    "ROC: 0.736"
   ]
  }
 ],
 "metadata": {
  "kernelspec": {
   "display_name": "Python 3 (ipykernel)",
   "language": "python",
   "name": "python3"
  },
  "language_info": {
   "codemirror_mode": {
    "name": "ipython",
    "version": 3
   },
   "file_extension": ".py",
   "mimetype": "text/x-python",
   "name": "python",
   "nbconvert_exporter": "python",
   "pygments_lexer": "ipython3",
   "version": "3.10.8"
  }
 },
 "nbformat": 4,
 "nbformat_minor": 5
}
