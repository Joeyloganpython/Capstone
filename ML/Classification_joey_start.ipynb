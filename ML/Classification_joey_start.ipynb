{
 "cells": [
  {
   "cell_type": "markdown",
   "metadata": {},
   "source": [
    "# Setup"
   ]
  },
  {
   "cell_type": "code",
   "execution_count": 33,
   "metadata": {},
   "outputs": [],
   "source": [
    "import pandas as pd\n",
    "import numpy as np\n",
    "import seaborn as sns\n",
    "import matplotlib.pyplot as plt\n",
    "from datetime import datetime\n",
    "\n",
    "# SKlearn \n",
    "from sklearn.metrics import confusion_matrix, f1_score, precision_score, recall_score,accuracy_score\n",
    "\n",
    "from sklearn.preprocessing import OneHotEncoder,StandardScaler\n",
    "from sklearn.compose import ColumnTransformer\n",
    "from sklearn.pipeline import Pipeline\n",
    "from sklearn.model_selection import train_test_split\n",
    "from sklearn.metrics import classification_report\n",
    "from sklearn.ensemble import RandomForestClassifier"
   ]
  },
  {
   "cell_type": "markdown",
   "metadata": {},
   "source": [
    "## Multi-drug use"
   ]
  },
  {
   "cell_type": "code",
   "execution_count": 96,
   "metadata": {},
   "outputs": [
    {
     "data": {
      "text/plain": [
       "(8050, 17)"
      ]
     },
     "execution_count": 96,
     "metadata": {},
     "output_type": "execute_result"
    }
   ],
   "source": [
    "incidents = pd.read_csv('../data/Aggregated/incidents.csv', )\n",
    "incidents['Multiple Drugs'] = 0\n",
    "incidents.loc[incidents['All Drugs'].str.contains(' | ', regex = False), 'Multiple Drugs'] = 1\n",
    "incidents[incidents['Multiple Drugs'] == 1].shape"
   ]
  },
  {
   "cell_type": "code",
   "execution_count": 97,
   "metadata": {},
   "outputs": [
    {
     "data": {
      "text/plain": [
       "(7255, 18)"
      ]
     },
     "execution_count": 97,
     "metadata": {},
     "output_type": "execute_result"
    }
   ],
   "source": [
    "### fenytanl\n",
    "\n",
    "incidents['Fentnyl'] = 0\n",
    "incidents.loc[incidents['All Drugs'].str.contains('FENTANYL', regex = False), 'Fentnyl'] = 1\n",
    "incidents[incidents['Fentnyl'] == 1].shape"
   ]
  },
  {
   "cell_type": "code",
   "execution_count": 98,
   "metadata": {},
   "outputs": [
    {
     "data": {
      "text/plain": [
       "0    13342\n",
       "1     7255\n",
       "Name: Fentnyl, dtype: int64"
      ]
     },
     "execution_count": 98,
     "metadata": {},
     "output_type": "execute_result"
    }
   ],
   "source": [
    "incidents['Fentnyl'].value_counts()"
   ]
  },
  {
   "cell_type": "code",
   "execution_count": 99,
   "metadata": {},
   "outputs": [
    {
     "data": {
      "text/plain": [
       "Index(['Incident ID', 'Incident Date', 'Incident Time', 'Day',\n",
       "       'Incident County Name', 'Incident State', 'Victim ID', 'Gender Desc',\n",
       "       'Age Range', 'Race', 'Ethnicity Desc', 'Naloxone Administered',\n",
       "       'Survive', 'Response Desc', 'All Drugs', 'Incident Date ym',\n",
       "       'Multiple Drugs', 'Fentnyl'],\n",
       "      dtype='object')"
      ]
     },
     "execution_count": 99,
     "metadata": {},
     "output_type": "execute_result"
    }
   ],
   "source": [
    "incidents.columns"
   ]
  },
  {
   "cell_type": "markdown",
   "metadata": {},
   "source": [
    "### Year, Month and Age Range"
   ]
  },
  {
   "cell_type": "code",
   "execution_count": 100,
   "metadata": {},
   "outputs": [],
   "source": [
    "incidents[\"year\"] = incidents['Incident Date'].apply(lambda x: datetime.strptime(x, '%m/%d/%Y').year)\n",
    "incidents[\"month\"] = incidents['Incident Date'].apply(lambda x: datetime.strptime(x, '%m/%d/%Y').month)\n",
    "\n",
    "# Fix value typo\n",
    "incidents[\"Age Range\"] = incidents[\"Age Range\"].apply(lambda x: \"10 - 14\" if x == \"14-Oct\" else x)"
   ]
  },
  {
   "cell_type": "code",
   "execution_count": 101,
   "metadata": {},
   "outputs": [
    {
     "data": {
      "text/html": [
       "<div>\n",
       "<style scoped>\n",
       "    .dataframe tbody tr th:only-of-type {\n",
       "        vertical-align: middle;\n",
       "    }\n",
       "\n",
       "    .dataframe tbody tr th {\n",
       "        vertical-align: top;\n",
       "    }\n",
       "\n",
       "    .dataframe thead th {\n",
       "        text-align: right;\n",
       "    }\n",
       "</style>\n",
       "<table border=\"1\" class=\"dataframe\">\n",
       "  <thead>\n",
       "    <tr style=\"text-align: right;\">\n",
       "      <th></th>\n",
       "      <th>Incident ID</th>\n",
       "      <th>Incident Date</th>\n",
       "      <th>Incident Time</th>\n",
       "      <th>Day</th>\n",
       "      <th>Incident County Name</th>\n",
       "      <th>Incident State</th>\n",
       "      <th>Victim ID</th>\n",
       "      <th>Gender Desc</th>\n",
       "      <th>Age Range</th>\n",
       "      <th>Race</th>\n",
       "      <th>Ethnicity Desc</th>\n",
       "      <th>Naloxone Administered</th>\n",
       "      <th>Survive</th>\n",
       "      <th>Response Desc</th>\n",
       "      <th>All Drugs</th>\n",
       "      <th>Incident Date ym</th>\n",
       "      <th>Multiple Drugs</th>\n",
       "      <th>Fentnyl</th>\n",
       "      <th>year</th>\n",
       "      <th>month</th>\n",
       "    </tr>\n",
       "  </thead>\n",
       "  <tbody>\n",
       "    <tr>\n",
       "      <th>0</th>\n",
       "      <td>1</td>\n",
       "      <td>1/4/2018</td>\n",
       "      <td>0:42:00</td>\n",
       "      <td>Thursday</td>\n",
       "      <td>Delaware</td>\n",
       "      <td>Pennsylvania</td>\n",
       "      <td>1</td>\n",
       "      <td>Male</td>\n",
       "      <td>50 - 59</td>\n",
       "      <td>White</td>\n",
       "      <td>Not Hispanic</td>\n",
       "      <td>1</td>\n",
       "      <td>0</td>\n",
       "      <td>NO RESPONSE TO NALOXONE</td>\n",
       "      <td>COCAINE/CRACK | HEROIN</td>\n",
       "      <td>2018</td>\n",
       "      <td>1</td>\n",
       "      <td>0</td>\n",
       "      <td>2018</td>\n",
       "      <td>1</td>\n",
       "    </tr>\n",
       "    <tr>\n",
       "      <th>1</th>\n",
       "      <td>26</td>\n",
       "      <td>1/26/2018</td>\n",
       "      <td>9:14:00</td>\n",
       "      <td>Friday</td>\n",
       "      <td>Chester</td>\n",
       "      <td>Pennsylvania</td>\n",
       "      <td>5</td>\n",
       "      <td>Male</td>\n",
       "      <td>25 - 29</td>\n",
       "      <td>White</td>\n",
       "      <td>Not Hispanic</td>\n",
       "      <td>0</td>\n",
       "      <td>0</td>\n",
       "      <td>None</td>\n",
       "      <td>HEROIN</td>\n",
       "      <td>2018</td>\n",
       "      <td>0</td>\n",
       "      <td>0</td>\n",
       "      <td>2018</td>\n",
       "      <td>1</td>\n",
       "    </tr>\n",
       "  </tbody>\n",
       "</table>\n",
       "</div>"
      ],
      "text/plain": [
       "   Incident ID Incident Date Incident Time       Day Incident County Name  \\\n",
       "0            1      1/4/2018       0:42:00  Thursday             Delaware   \n",
       "1           26     1/26/2018       9:14:00    Friday              Chester   \n",
       "\n",
       "  Incident State  Victim ID Gender Desc Age Range   Race Ethnicity Desc  \\\n",
       "0   Pennsylvania          1        Male   50 - 59  White   Not Hispanic   \n",
       "1   Pennsylvania          5        Male   25 - 29  White   Not Hispanic   \n",
       "\n",
       "   Naloxone Administered  Survive            Response Desc  \\\n",
       "0                      1        0  NO RESPONSE TO NALOXONE   \n",
       "1                      0        0                     None   \n",
       "\n",
       "                All Drugs  Incident Date ym  Multiple Drugs  Fentnyl  year  \\\n",
       "0  COCAINE/CRACK | HEROIN              2018               1        0  2018   \n",
       "1                  HEROIN              2018               0        0  2018   \n",
       "\n",
       "   month  \n",
       "0      1  \n",
       "1      1  "
      ]
     },
     "execution_count": 101,
     "metadata": {},
     "output_type": "execute_result"
    }
   ],
   "source": [
    "incidents.head(2)"
   ]
  },
  {
   "cell_type": "code",
   "execution_count": 102,
   "metadata": {},
   "outputs": [
    {
     "data": {
      "text/plain": [
       "30 - 39    7653\n",
       "25 - 29    4082\n",
       "40 - 49    3434\n",
       "20 - 24    2030\n",
       "50 - 59    1871\n",
       "60 - 69     634\n",
       "0 - 9       530\n",
       "15 - 19     276\n",
       "70 - 79      70\n",
       "80 - *       10\n",
       "10 - 14       7\n",
       "Name: Age Range, dtype: int64"
      ]
     },
     "execution_count": 102,
     "metadata": {},
     "output_type": "execute_result"
    }
   ],
   "source": [
    "incidents['Age Range'].value_counts()"
   ]
  },
  {
   "cell_type": "code",
   "execution_count": 110,
   "metadata": {},
   "outputs": [],
   "source": [
    "def agerange_weekend(df):\n",
    "    for i, row in df.iterrows():\n",
    "        if row['Day'] == 'Friday' or row['Day'] == 'Saturday' or row['Day'] == 'Sunday':\n",
    "            df.loc[i,'Weekend_OD'] = 1\n",
    "        else:\n",
    "            df.loc[i,'Weekend_OD'] = 0\n",
    "        \n",
    "        if row['month'] == 1 or row['month'] == 12 or row['month'] == 2:\n",
    "            df.loc[i,'Season'] = 'Winter'\n",
    "        elif row['month'] == 3 or row['month'] == 4 or row['month'] == 5:\n",
    "            df.loc[i,'Season'] = 'Spring'\n",
    "        elif row['month'] == 6 or row['month'] == 7 or row['month'] == 8:\n",
    "            df.loc[i,'Season'] = 'Summer'\n",
    "        elif row['month'] == 9 or row['month'] == 10 or row['month'] == 11:\n",
    "            df.loc[i,'Season'] = 'Fall' \n",
    "            \n",
    "        if row['Age Range'] == '0 - 9' or row['Age Range'] == '10 - 14' or row['Age Range'] == '15 - 19' or row['Age Range'] == '20 - 24' or row['Age Range'] == '30 - 39':\n",
    "            df.loc[i,'Over 40'] = 0\n",
    "        else:    \n",
    "        \n",
    "            df.loc[i,'Over 40'] = 1\n",
    "            \n",
    "    return(df)            \n",
    "                \n",
    "            \n",
    "            \n",
    "            "
   ]
  },
  {
   "cell_type": "code",
   "execution_count": 139,
   "metadata": {},
   "outputs": [],
   "source": [
    "incidents2 = agerange_weekend(incidents.copy())"
   ]
  },
  {
   "cell_type": "code",
   "execution_count": 142,
   "metadata": {},
   "outputs": [
    {
     "data": {
      "text/html": [
       "<div>\n",
       "<style scoped>\n",
       "    .dataframe tbody tr th:only-of-type {\n",
       "        vertical-align: middle;\n",
       "    }\n",
       "\n",
       "    .dataframe tbody tr th {\n",
       "        vertical-align: top;\n",
       "    }\n",
       "\n",
       "    .dataframe thead th {\n",
       "        text-align: right;\n",
       "    }\n",
       "</style>\n",
       "<table border=\"1\" class=\"dataframe\">\n",
       "  <thead>\n",
       "    <tr style=\"text-align: right;\">\n",
       "      <th></th>\n",
       "      <th>Incident ID</th>\n",
       "      <th>Incident Date</th>\n",
       "      <th>Incident Time</th>\n",
       "      <th>Day</th>\n",
       "      <th>Incident County Name</th>\n",
       "      <th>Incident State</th>\n",
       "      <th>Victim ID</th>\n",
       "      <th>Gender Desc</th>\n",
       "      <th>Age Range</th>\n",
       "      <th>Race</th>\n",
       "      <th>...</th>\n",
       "      <th>Response Desc</th>\n",
       "      <th>All Drugs</th>\n",
       "      <th>Incident Date ym</th>\n",
       "      <th>Multiple Drugs</th>\n",
       "      <th>Fentnyl</th>\n",
       "      <th>year</th>\n",
       "      <th>month</th>\n",
       "      <th>Weekend_OD</th>\n",
       "      <th>Season</th>\n",
       "      <th>Over 40</th>\n",
       "    </tr>\n",
       "  </thead>\n",
       "  <tbody>\n",
       "    <tr>\n",
       "      <th>0</th>\n",
       "      <td>1</td>\n",
       "      <td>1/4/2018</td>\n",
       "      <td>0:42:00</td>\n",
       "      <td>Thursday</td>\n",
       "      <td>Delaware</td>\n",
       "      <td>Pennsylvania</td>\n",
       "      <td>1</td>\n",
       "      <td>Male</td>\n",
       "      <td>50 - 59</td>\n",
       "      <td>White</td>\n",
       "      <td>...</td>\n",
       "      <td>NO RESPONSE TO NALOXONE</td>\n",
       "      <td>COCAINE/CRACK | HEROIN</td>\n",
       "      <td>2018</td>\n",
       "      <td>1</td>\n",
       "      <td>0</td>\n",
       "      <td>2018</td>\n",
       "      <td>1</td>\n",
       "      <td>0</td>\n",
       "      <td>Winter</td>\n",
       "      <td>1</td>\n",
       "    </tr>\n",
       "    <tr>\n",
       "      <th>1</th>\n",
       "      <td>26</td>\n",
       "      <td>1/26/2018</td>\n",
       "      <td>9:14:00</td>\n",
       "      <td>Friday</td>\n",
       "      <td>Chester</td>\n",
       "      <td>Pennsylvania</td>\n",
       "      <td>5</td>\n",
       "      <td>Male</td>\n",
       "      <td>25 - 29</td>\n",
       "      <td>White</td>\n",
       "      <td>...</td>\n",
       "      <td>None</td>\n",
       "      <td>HEROIN</td>\n",
       "      <td>2018</td>\n",
       "      <td>0</td>\n",
       "      <td>0</td>\n",
       "      <td>2018</td>\n",
       "      <td>1</td>\n",
       "      <td>1</td>\n",
       "      <td>Winter</td>\n",
       "      <td>1</td>\n",
       "    </tr>\n",
       "  </tbody>\n",
       "</table>\n",
       "<p>2 rows × 23 columns</p>\n",
       "</div>"
      ],
      "text/plain": [
       "   Incident ID Incident Date Incident Time       Day Incident County Name  \\\n",
       "0            1      1/4/2018       0:42:00  Thursday             Delaware   \n",
       "1           26     1/26/2018       9:14:00    Friday              Chester   \n",
       "\n",
       "  Incident State  Victim ID Gender Desc Age Range   Race  ...  \\\n",
       "0   Pennsylvania          1        Male   50 - 59  White  ...   \n",
       "1   Pennsylvania          5        Male   25 - 29  White  ...   \n",
       "\n",
       "             Response Desc               All Drugs  Incident Date ym  \\\n",
       "0  NO RESPONSE TO NALOXONE  COCAINE/CRACK | HEROIN              2018   \n",
       "1                     None                  HEROIN              2018   \n",
       "\n",
       "  Multiple Drugs Fentnyl  year  month  Weekend_OD  Season  Over 40  \n",
       "0              1       0  2018      1           0  Winter        1  \n",
       "1              0       0  2018      1           1  Winter        1  \n",
       "\n",
       "[2 rows x 23 columns]"
      ]
     },
     "execution_count": 142,
     "metadata": {},
     "output_type": "execute_result"
    }
   ],
   "source": [
    "incidents2.head(2)"
   ]
  },
  {
   "cell_type": "code",
   "execution_count": 146,
   "metadata": {},
   "outputs": [],
   "source": [
    "incidents2['Over 40'] = incidents2['Over 40'].astype(int)\n",
    "incidents2['Weekend_OD'] = incidents2['Weekend_OD'].astype(int)"
   ]
  },
  {
   "cell_type": "code",
   "execution_count": 147,
   "metadata": {},
   "outputs": [
    {
     "data": {
      "text/plain": [
       "Incident ID               int64\n",
       "Incident Date            object\n",
       "Incident Time            object\n",
       "Day                      object\n",
       "Incident County Name     object\n",
       "Incident State           object\n",
       "Victim ID                 int64\n",
       "Gender Desc              object\n",
       "Age Range                object\n",
       "Race                     object\n",
       "Ethnicity Desc           object\n",
       "Naloxone Administered     int64\n",
       "Survive                   int64\n",
       "Response Desc            object\n",
       "All Drugs                object\n",
       "Incident Date ym          int64\n",
       "Multiple Drugs            int64\n",
       "Fentnyl                   int64\n",
       "year                      int64\n",
       "month                     int64\n",
       "Weekend_OD                int32\n",
       "Season                   object\n",
       "Over 40                   int32\n",
       "dtype: object"
      ]
     },
     "execution_count": 147,
     "metadata": {},
     "output_type": "execute_result"
    }
   ],
   "source": [
    "incidents2.dtypes"
   ]
  },
  {
   "cell_type": "code",
   "execution_count": 148,
   "metadata": {},
   "outputs": [],
   "source": [
    "#### NOT GOOD\n",
    "\n",
    "#X = incidents2[['Over 40','Naloxone Administered','Weekend_OD','Fentnyl','Season']]\n",
    "#y = incidents2[['Survive']]"
   ]
  },
  {
   "cell_type": "code",
   "execution_count": 165,
   "metadata": {},
   "outputs": [],
   "source": [
    "#### Good\n",
    "\n",
    "X = incidents2[['Over 40','Naloxone Administered','Fentnyl']]\n",
    "y = incidents2[['Survive']]"
   ]
  },
  {
   "cell_type": "code",
   "execution_count": 166,
   "metadata": {},
   "outputs": [
    {
     "data": {
      "text/plain": [
       "1    15492\n",
       "0     5105\n",
       "Name: Survive, dtype: int64"
      ]
     },
     "execution_count": 166,
     "metadata": {},
     "output_type": "execute_result"
    }
   ],
   "source": [
    "y['Survive'].value_counts()"
   ]
  },
  {
   "cell_type": "code",
   "execution_count": 167,
   "metadata": {},
   "outputs": [],
   "source": [
    "class_weight_m = {0:15492,1:5105}"
   ]
  },
  {
   "cell_type": "markdown",
   "metadata": {},
   "source": [
    "## Pipeline Definition"
   ]
  },
  {
   "cell_type": "code",
   "execution_count": 168,
   "metadata": {},
   "outputs": [],
   "source": [
    "##pipeline  NOT GOOD\n",
    "\n",
    "#label_features =['Season']\n",
    "#label_transformer = OneHotEncoder(sparse = False, handle_unknown = 'ignore')\n",
    "\n",
    "\n",
    "\n",
    "#preprocessor = ColumnTransformer(\n",
    "    #transformers=[\n",
    "        #('label', label_transformer, label_features)\n",
    "        #])   \n",
    "\n",
    "\n",
    "#model =  Pipeline(steps=[('preprocessor', preprocessor),\n",
    "                      ('randomforest', RandomForestClassifier(n_estimators=1000,\n",
    "                                                              class_weight=class_weight_m))])"
   ]
  },
  {
   "cell_type": "code",
   "execution_count": 174,
   "metadata": {},
   "outputs": [],
   "source": [
    " \n",
    "####Good\n",
    "\n",
    "model =  Pipeline(steps=[\n",
    "                      ('randomforest', RandomForestClassifier(n_estimators=1000,\n",
    "                                                              class_weight=class_weight_m))])"
   ]
  },
  {
   "cell_type": "code",
   "execution_count": 175,
   "metadata": {},
   "outputs": [],
   "source": [
    "# Split data with stratify\n",
    "X_train, X_test, y_train, y_test = train_test_split(\n",
    "    X, y, stratify=y, random_state=42)"
   ]
  },
  {
   "cell_type": "code",
   "execution_count": 176,
   "metadata": {},
   "outputs": [
    {
     "name": "stderr",
     "output_type": "stream",
     "text": [
      "C:\\Users\\Loganj2\\AppData\\Local\\Continuum\\anaconda3\\lib\\site-packages\\sklearn\\pipeline.py:267: DataConversionWarning: A column-vector y was passed when a 1d array was expected. Please change the shape of y to (n_samples,), for example using ravel().\n",
      "  self._final_estimator.fit(Xt, y, **fit_params)\n"
     ]
    },
    {
     "data": {
      "text/plain": [
       "Pipeline(memory=None,\n",
       "     steps=[('randomforest', RandomForestClassifier(bootstrap=True, class_weight={0: 15492, 1: 5105},\n",
       "            criterion='gini', max_depth=None, max_features='auto',\n",
       "            max_leaf_nodes=None, min_impurity_decrease=0.0,\n",
       "            min_impurity_split=None, min_samples_leaf=1,\n",
       "            min_samples_split=2, min_weight_fraction_leaf=0.0,\n",
       "            n_estimators=1000, n_jobs=None, oob_score=False,\n",
       "            random_state=None, verbose=0, warm_start=False))])"
      ]
     },
     "execution_count": 176,
     "metadata": {},
     "output_type": "execute_result"
    }
   ],
   "source": [
    "model.fit(X_train,y_train)\n"
   ]
  },
  {
   "cell_type": "code",
   "execution_count": 177,
   "metadata": {},
   "outputs": [
    {
     "name": "stdout",
     "output_type": "stream",
     "text": [
      "accuracy: 0.7821359223300971\n"
     ]
    }
   ],
   "source": [
    "predictions_classweights = model.predict(X_test)\n",
    "print(\"accuracy:\",accuracy_score(y_test, predictions_classweights))"
   ]
  },
  {
   "cell_type": "code",
   "execution_count": 184,
   "metadata": {},
   "outputs": [
    {
     "name": "stderr",
     "output_type": "stream",
     "text": [
      "C:\\Users\\Loganj2\\AppData\\Local\\Continuum\\anaconda3\\lib\\site-packages\\sklearn\\pipeline.py:267: DataConversionWarning: A column-vector y was passed when a 1d array was expected. Please change the shape of y to (n_samples,), for example using ravel().\n",
      "  self._final_estimator.fit(Xt, y, **fit_params)\n"
     ]
    },
    {
     "name": "stdout",
     "output_type": "stream",
     "text": [
      "0.7762135922330097\n"
     ]
    },
    {
     "name": "stderr",
     "output_type": "stream",
     "text": [
      "C:\\Users\\Loganj2\\AppData\\Local\\Continuum\\anaconda3\\lib\\site-packages\\sklearn\\pipeline.py:267: DataConversionWarning: A column-vector y was passed when a 1d array was expected. Please change the shape of y to (n_samples,), for example using ravel().\n",
      "  self._final_estimator.fit(Xt, y, **fit_params)\n"
     ]
    },
    {
     "name": "stdout",
     "output_type": "stream",
     "text": [
      "0.7776699029126214\n"
     ]
    },
    {
     "name": "stderr",
     "output_type": "stream",
     "text": [
      "C:\\Users\\Loganj2\\AppData\\Local\\Continuum\\anaconda3\\lib\\site-packages\\sklearn\\pipeline.py:267: DataConversionWarning: A column-vector y was passed when a 1d array was expected. Please change the shape of y to (n_samples,), for example using ravel().\n",
      "  self._final_estimator.fit(Xt, y, **fit_params)\n"
     ]
    },
    {
     "name": "stdout",
     "output_type": "stream",
     "text": [
      "0.7836853605243991\n"
     ]
    },
    {
     "name": "stderr",
     "output_type": "stream",
     "text": [
      "C:\\Users\\Loganj2\\AppData\\Local\\Continuum\\anaconda3\\lib\\site-packages\\sklearn\\pipeline.py:267: DataConversionWarning: A column-vector y was passed when a 1d array was expected. Please change the shape of y to (n_samples,), for example using ravel().\n",
      "  self._final_estimator.fit(Xt, y, **fit_params)\n"
     ]
    },
    {
     "name": "stdout",
     "output_type": "stream",
     "text": [
      "0.7882981306142267\n"
     ]
    },
    {
     "name": "stderr",
     "output_type": "stream",
     "text": [
      "C:\\Users\\Loganj2\\AppData\\Local\\Continuum\\anaconda3\\lib\\site-packages\\sklearn\\pipeline.py:267: DataConversionWarning: A column-vector y was passed when a 1d array was expected. Please change the shape of y to (n_samples,), for example using ravel().\n",
      "  self._final_estimator.fit(Xt, y, **fit_params)\n"
     ]
    },
    {
     "name": "stdout",
     "output_type": "stream",
     "text": [
      "0.7747025977178927\n"
     ]
    }
   ],
   "source": [
    "from sklearn.model_selection import StratifiedKFold\n",
    "import numpy\n",
    "kf = StratifiedKFold(n_splits=5,random_state=0, shuffle=True)\n",
    "\n",
    " \n",
    "acc_score = []\n",
    "pred = []\n",
    "y_test_all = []\n",
    "predprob = []\n",
    " \n",
    "for train_index , test_index in kf.split(X,y):\n",
    "    X_train , X_test = X.iloc[train_index,:],X.iloc[test_index,:]\n",
    "    y_train , y_test = y.iloc[train_index] , y.iloc[test_index]\n",
    "     \n",
    "    model.fit(X_train,y_train)\n",
    "    print(model.score(X_test, y_test))\n",
    "    num = model.score(X_test, y_test)\n",
    "    num = num.astype(float)\n",
    "    acc_score.append(num)\n",
    "    predictions_classweights = model.predict(X_test)\n",
    "    proba = model.predict_proba(X_test)\n",
    "    predprob.append(proba)                           \n",
    "    \n",
    "    #predict_class = np.argmax(test_predictions, axis=1)\n",
    "    #predict_class = predict_class.tolist()\n",
    "    \n",
    "    pred.append(predictions_classweights)\n",
    "    y_test_all.append(y_test)\n"
   ]
  },
  {
   "cell_type": "code",
   "execution_count": 185,
   "metadata": {},
   "outputs": [],
   "source": [
    "pred_master = np.hstack(([pred[0],pred[1],pred[2],pred[3],pred[4]]))\n",
    "y_test_master = pd.concat(y_test_all)"
   ]
  },
  {
   "cell_type": "code",
   "execution_count": 190,
   "metadata": {},
   "outputs": [],
   "source": [
    "pr0 = pd.DataFrame(predprob[0],columns=['zero','one'])\n",
    "pr1 = pd.DataFrame(predprob[1],columns=['zero','one'])\n",
    "pr2 = pd.DataFrame(predprob[2],columns=['zero','one'])\n",
    "pr3 = pd.DataFrame(predprob[3],columns=['zero','one'])\n",
    "pr4 = pd.DataFrame(predprob[4],columns=['zero','one'])"
   ]
  },
  {
   "cell_type": "code",
   "execution_count": 237,
   "metadata": {},
   "outputs": [],
   "source": [
    "prdf1 = pd.concat([pr0,pr1,pr2,pr3,pr4])\n",
    "prdf1 = prdf1[['one']]\n",
    "prdf2 =prdf1.copy()"
   ]
  },
  {
   "cell_type": "code",
   "execution_count": 238,
   "metadata": {},
   "outputs": [],
   "source": [
    "prdf2['one'] = np.select([prdf2['one']>.64],  ### setting threshold\n",
    "                        [1],\n",
    "                        default=0)"
   ]
  },
  {
   "cell_type": "code",
   "execution_count": 239,
   "metadata": {},
   "outputs": [],
   "source": [
    "confusion = confusion_matrix(y_test_master,prdf2)"
   ]
  },
  {
   "cell_type": "code",
   "execution_count": 240,
   "metadata": {},
   "outputs": [
    {
     "name": "stdout",
     "output_type": "stream",
     "text": [
      "[[ 3568  1537]\n",
      " [ 3345 12147]]\n"
     ]
    }
   ],
   "source": [
    "print(confusion)"
   ]
  },
  {
   "cell_type": "code",
   "execution_count": 241,
   "metadata": {},
   "outputs": [
    {
     "name": "stdout",
     "output_type": "stream",
     "text": [
      "              precision    recall  f1-score   support\n",
      "\n",
      "        Died       0.52      0.70      0.59      5105\n",
      "    Survived       0.89      0.78      0.83     15492\n",
      "\n",
      "   micro avg       0.76      0.76      0.76     20597\n",
      "   macro avg       0.70      0.74      0.71     20597\n",
      "weighted avg       0.80      0.76      0.77     20597\n",
      "\n"
     ]
    }
   ],
   "source": [
    "target_names = ['Died', 'Survived']\n",
    "print(classification_report(y_test_master, prdf2, target_names=target_names))"
   ]
  },
  {
   "cell_type": "code",
   "execution_count": null,
   "metadata": {},
   "outputs": [],
   "source": []
  },
  {
   "cell_type": "code",
   "execution_count": null,
   "metadata": {},
   "outputs": [],
   "source": []
  }
 ],
 "metadata": {
  "kernelspec": {
   "display_name": "Python 3",
   "language": "python",
   "name": "python3"
  },
  "language_info": {
   "codemirror_mode": {
    "name": "ipython",
    "version": 3
   },
   "file_extension": ".py",
   "mimetype": "text/x-python",
   "name": "python",
   "nbconvert_exporter": "python",
   "pygments_lexer": "ipython3",
   "version": "3.7.3"
  }
 },
 "nbformat": 4,
 "nbformat_minor": 5
}
