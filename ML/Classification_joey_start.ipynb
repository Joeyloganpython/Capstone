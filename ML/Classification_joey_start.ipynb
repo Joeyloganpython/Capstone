{
 "cells": [
  {
   "cell_type": "markdown",
   "id": "cca01b15",
   "metadata": {},
   "source": [
    "# Setup"
   ]
  },
  {
   "cell_type": "code",
   "execution_count": 104,
   "id": "c791c3e3",
   "metadata": {},
   "outputs": [
    {
     "data": {
      "text/plain": [
       "Index(['Incident ID', 'Incident Date', 'Incident Time', 'Day',\n",
       "       'Incident County Name', 'Incident State', 'Victim ID', 'Gender Desc',\n",
       "       'Age Range', 'Race', 'Ethnicity Desc', 'Naloxone Administered',\n",
       "       'Survive', 'Response Desc', 'All Drugs', 'Incident Date ym'],\n",
       "      dtype='object')"
      ]
     },
     "execution_count": 104,
     "metadata": {},
     "output_type": "execute_result"
    }
   ],
   "source": [
    "import pandas as pd\n",
    "import numpy as np\n",
    "import seaborn as sns\n",
    "import matplotlib.pyplot as plt\n",
    "from matplotlib.ticker import FuncFormatter\n",
    "from datetime import datetime\n",
    "\n",
    "# SKlearn \n",
    "from sklearn.metrics import confusion_matrix, f1_score, precision_score, recall_score,accuracy_score\n",
    "from sklearn.metrics import classification_report, roc_curve, roc_auc_score, matthews_corrcoef\n",
    "from sklearn.linear_model import LogisticRegression\n",
    "from sklearn.tree import DecisionTreeClassifier\n",
    "from sklearn.preprocessing import OneHotEncoder,StandardScaler\n",
    "from sklearn.compose import ColumnTransformer\n",
    "from sklearn.pipeline import Pipeline\n",
    "from sklearn.model_selection import train_test_split\n",
    "from sklearn.ensemble import RandomForestClassifier\n",
    "from sklearn.model_selection import StratifiedKFold\n",
    "\n",
    "import warnings\n",
    "warnings.filterwarnings(\"ignore\")\n",
    "\n",
    "# Read Incidents Dataset - Capstone I \n",
    "incidents = pd.read_csv('../data/Aggregated/incidents.csv')\n",
    "incidents.columns"
   ]
  },
  {
   "cell_type": "code",
   "execution_count": 105,
   "id": "6a18f38e",
   "metadata": {},
   "outputs": [],
   "source": [
    "cluster_Map = pd.read_csv('..\\data\\Aggregated\\cluster_mapping.csv')"
   ]
  },
  {
   "cell_type": "markdown",
   "id": "c0bedc8f",
   "metadata": {},
   "source": [
    "# Pre-processing"
   ]
  },
  {
   "cell_type": "markdown",
   "id": "355ffac4",
   "metadata": {
    "tags": []
   },
   "source": [
    "## Multi-drug use"
   ]
  },
  {
   "cell_type": "code",
   "execution_count": 106,
   "id": "90be515d",
   "metadata": {},
   "outputs": [
    {
     "data": {
      "text/plain": [
       "(8050, 17)"
      ]
     },
     "execution_count": 106,
     "metadata": {},
     "output_type": "execute_result"
    }
   ],
   "source": [
    "incidents['Multiple Drugs'] = 0\n",
    "incidents.loc[incidents['All Drugs'].str.contains(' | ', regex = False), 'Multiple Drugs'] = 1\n",
    "incidents[incidents['Multiple Drugs'] == 1].shape"
   ]
  },
  {
   "cell_type": "markdown",
   "id": "a5483cfc",
   "metadata": {
    "tags": []
   },
   "source": [
    "## Fentanyl"
   ]
  },
  {
   "cell_type": "code",
   "execution_count": 107,
   "id": "3e5b2767",
   "metadata": {},
   "outputs": [
    {
     "data": {
      "text/plain": [
       "0    13342\n",
       "1     7255\n",
       "Name: Fentanyl, dtype: int64"
      ]
     },
     "execution_count": 107,
     "metadata": {},
     "output_type": "execute_result"
    }
   ],
   "source": [
    "incidents['Fentanyl'] = 0\n",
    "incidents.loc[incidents['All Drugs'].str.contains('FENTANYL', regex = False), 'Fentanyl'] = 1\n",
    "incidents['Fentanyl'].value_counts()"
   ]
  },
  {
   "cell_type": "markdown",
   "id": "88e3ff31",
   "metadata": {},
   "source": [
    "## Year, Month and Age Range"
   ]
  },
  {
   "cell_type": "code",
   "execution_count": 108,
   "id": "a3384feb",
   "metadata": {},
   "outputs": [],
   "source": [
    "def agerange_weekend(df):\n",
    "    \n",
    "    df_cpy = df.copy()\n",
    "    for i, row in df_cpy.iterrows():\n",
    "        \n",
    "        # Weekend Binary Feature\n",
    "        if row['Day'] in ['Friday', \"Saturday\", \"Sunday\"]:\n",
    "            df_cpy.loc[i,'Weekend_OD'] = 1\n",
    "        else:\n",
    "            df_cpy.loc[i,'Weekend_OD'] = 0\n",
    "        \n",
    "        # Season Features - Winter, Spring, Summer and Fall\n",
    "        if row['month'] in [1, 12, 2]:\n",
    "            df_cpy.loc[i,'Season'] = 'Winter'\n",
    "            \n",
    "        elif row['month'] in [3,4, 5]:\n",
    "            df_cpy.loc[i,'Season'] = 'Spring'\n",
    "            \n",
    "        elif row['month'] in [6, 7, 8]:\n",
    "            df_cpy.loc[i,'Season'] = 'Summer'\n",
    "            \n",
    "        elif row['month'] in [9, 10, 11]:\n",
    "            df_cpy.loc[i,'Season'] = 'Fall' \n",
    "        \n",
    "        # Age Binary feature - over/below 40 years old\n",
    "        if row['Age Range'] in ['0 - 9', '10 - 14', '15 - 19', '20 - 24','25 - 29', '30 - 39']:\n",
    "            df_cpy.loc[i,'Over 40'] = 0\n",
    "        else:    \n",
    "            df_cpy.loc[i,'Over 40'] = 1\n",
    "        \n",
    "    # Ensure dtype for binary features is int\n",
    "    df_cpy['Over 40'] = df_cpy['Over 40'].astype(int)\n",
    "    df_cpy['Weekend_OD'] = df_cpy['Weekend_OD'].astype(int)\n",
    "        \n",
    "    return df_cpy"
   ]
  },
  {
   "cell_type": "code",
   "execution_count": 109,
   "id": "67e47b78",
   "metadata": {},
   "outputs": [
    {
     "data": {
      "text/plain": [
       "30 - 39    7653\n",
       "25 - 29    4082\n",
       "40 - 49    3434\n",
       "20 - 24    2030\n",
       "50 - 59    1871\n",
       "60 - 69     634\n",
       "0 - 9       530\n",
       "15 - 19     276\n",
       "70 - 79      70\n",
       "80 - *       10\n",
       "10 - 14       7\n",
       "Name: Age Range, dtype: int64"
      ]
     },
     "execution_count": 109,
     "metadata": {},
     "output_type": "execute_result"
    }
   ],
   "source": [
    "incidents[\"year\"] = incidents['Incident Date'].apply(lambda x: datetime.strptime(x, '%m/%d/%Y').year)\n",
    "incidents[\"month\"] = incidents['Incident Date'].apply(lambda x: datetime.strptime(x, '%m/%d/%Y').month)\n",
    "\n",
    "# Fix value typo\n",
    "incidents[\"Age Range\"] = incidents[\"Age Range\"].apply(lambda x: \"10 - 14\" if x == \"14-Oct\" else x)\n",
    "\n",
    "# Sanity Check\n",
    "incidents['Age Range'].value_counts()"
   ]
  },
  {
   "cell_type": "code",
   "execution_count": 110,
   "id": "4c4d95bb",
   "metadata": {},
   "outputs": [
    {
     "data": {
      "text/html": [
       "<div>\n",
       "<style scoped>\n",
       "    .dataframe tbody tr th:only-of-type {\n",
       "        vertical-align: middle;\n",
       "    }\n",
       "\n",
       "    .dataframe tbody tr th {\n",
       "        vertical-align: top;\n",
       "    }\n",
       "\n",
       "    .dataframe thead th {\n",
       "        text-align: right;\n",
       "    }\n",
       "</style>\n",
       "<table border=\"1\" class=\"dataframe\">\n",
       "  <thead>\n",
       "    <tr style=\"text-align: right;\">\n",
       "      <th></th>\n",
       "      <th>Incident ID</th>\n",
       "      <th>Incident Date</th>\n",
       "      <th>Incident Time</th>\n",
       "      <th>Day</th>\n",
       "      <th>Incident County Name</th>\n",
       "      <th>Incident State</th>\n",
       "      <th>Victim ID</th>\n",
       "      <th>Gender Desc</th>\n",
       "      <th>Age Range</th>\n",
       "      <th>Race</th>\n",
       "      <th>...</th>\n",
       "      <th>Response Desc</th>\n",
       "      <th>All Drugs</th>\n",
       "      <th>Incident Date ym</th>\n",
       "      <th>Multiple Drugs</th>\n",
       "      <th>Fentanyl</th>\n",
       "      <th>year</th>\n",
       "      <th>month</th>\n",
       "      <th>Weekend_OD</th>\n",
       "      <th>Season</th>\n",
       "      <th>Over 40</th>\n",
       "    </tr>\n",
       "  </thead>\n",
       "  <tbody>\n",
       "    <tr>\n",
       "      <th>0</th>\n",
       "      <td>1</td>\n",
       "      <td>1/4/2018</td>\n",
       "      <td>0:42:00</td>\n",
       "      <td>Thursday</td>\n",
       "      <td>Delaware</td>\n",
       "      <td>Pennsylvania</td>\n",
       "      <td>1</td>\n",
       "      <td>Male</td>\n",
       "      <td>50 - 59</td>\n",
       "      <td>White</td>\n",
       "      <td>...</td>\n",
       "      <td>NO RESPONSE TO NALOXONE</td>\n",
       "      <td>COCAINE/CRACK | HEROIN</td>\n",
       "      <td>2018</td>\n",
       "      <td>1</td>\n",
       "      <td>0</td>\n",
       "      <td>2018</td>\n",
       "      <td>1</td>\n",
       "      <td>0</td>\n",
       "      <td>Winter</td>\n",
       "      <td>1</td>\n",
       "    </tr>\n",
       "    <tr>\n",
       "      <th>1</th>\n",
       "      <td>26</td>\n",
       "      <td>1/26/2018</td>\n",
       "      <td>9:14:00</td>\n",
       "      <td>Friday</td>\n",
       "      <td>Chester</td>\n",
       "      <td>Pennsylvania</td>\n",
       "      <td>5</td>\n",
       "      <td>Male</td>\n",
       "      <td>25 - 29</td>\n",
       "      <td>White</td>\n",
       "      <td>...</td>\n",
       "      <td>None</td>\n",
       "      <td>HEROIN</td>\n",
       "      <td>2018</td>\n",
       "      <td>0</td>\n",
       "      <td>0</td>\n",
       "      <td>2018</td>\n",
       "      <td>1</td>\n",
       "      <td>1</td>\n",
       "      <td>Winter</td>\n",
       "      <td>0</td>\n",
       "    </tr>\n",
       "  </tbody>\n",
       "</table>\n",
       "<p>2 rows × 23 columns</p>\n",
       "</div>"
      ],
      "text/plain": [
       "   Incident ID Incident Date Incident Time       Day Incident County Name  \\\n",
       "0            1      1/4/2018       0:42:00  Thursday             Delaware   \n",
       "1           26     1/26/2018       9:14:00    Friday              Chester   \n",
       "\n",
       "  Incident State  Victim ID Gender Desc Age Range   Race  ...  \\\n",
       "0   Pennsylvania          1        Male   50 - 59  White  ...   \n",
       "1   Pennsylvania          5        Male   25 - 29  White  ...   \n",
       "\n",
       "             Response Desc               All Drugs  Incident Date ym  \\\n",
       "0  NO RESPONSE TO NALOXONE  COCAINE/CRACK | HEROIN              2018   \n",
       "1                     None                  HEROIN              2018   \n",
       "\n",
       "  Multiple Drugs Fentanyl  year  month  Weekend_OD  Season  Over 40  \n",
       "0              1        0  2018      1           0  Winter        1  \n",
       "1              0        0  2018      1           1  Winter        0  \n",
       "\n",
       "[2 rows x 23 columns]"
      ]
     },
     "execution_count": 110,
     "metadata": {},
     "output_type": "execute_result"
    }
   ],
   "source": [
    "incidents2 = agerange_weekend(incidents)\n",
    "incidents2.head(2)"
   ]
  },
  {
   "cell_type": "code",
   "execution_count": 111,
   "id": "372bb0e6",
   "metadata": {},
   "outputs": [],
   "source": [
    "incidents3 = pd.merge(incidents2,cluster_Map, how=\"inner\",left_on = 'Incident County Name',right_on = 'County')"
   ]
  },
  {
   "cell_type": "code",
   "execution_count": 112,
   "id": "745c7551",
   "metadata": {},
   "outputs": [],
   "source": [
    "incidents3['Cluster'] = incidents3['Cluster'].astype(str)"
   ]
  },
  {
   "cell_type": "code",
   "execution_count": 113,
   "id": "f01cc5fc",
   "metadata": {},
   "outputs": [],
   "source": [
    "def isphila(df):\n",
    "    for i, row in df.iterrows():\n",
    "        if row['Incident County Name'] == 'Philadelphia':\n",
    "            df.loc[i,'Phila'] = 1\n",
    "        else:\n",
    "            df.loc[i,'Phila'] = 0\n",
    "    return (df) "
   ]
  },
  {
   "cell_type": "code",
   "execution_count": 114,
   "id": "e220201a",
   "metadata": {},
   "outputs": [],
   "source": [
    "incidents3 = isphila(incidents3.copy())"
   ]
  },
  {
   "cell_type": "code",
   "execution_count": 115,
   "id": "df35ff35",
   "metadata": {},
   "outputs": [],
   "source": [
    "incidents3['Phila'] = incidents3['Phila'].astype(int)"
   ]
  },
  {
   "cell_type": "code",
   "execution_count": 116,
   "id": "a4cb98ac",
   "metadata": {},
   "outputs": [
    {
     "data": {
      "text/plain": [
       "{0: 15472, 1: 5097}"
      ]
     },
     "execution_count": 116,
     "metadata": {},
     "output_type": "execute_result"
    }
   ],
   "source": [
    "#### Good\n",
    "\n",
    "X = incidents3[['Over 40','Naloxone Administered','Fentanyl','Multiple Drugs']]\n",
    "y = incidents3[['Survive']]\n",
    "\n",
    "# Class weights are required because of class imbalance issue\n",
    "class_weight_m = dict(y['Survive'].value_counts())\n",
    "class_weight_m"
   ]
  },
  {
   "cell_type": "markdown",
   "id": "4b3f7eef",
   "metadata": {
    "tags": []
   },
   "source": [
    "## Pipeline Definition"
   ]
  },
  {
   "cell_type": "code",
   "execution_count": 78,
   "id": "d5f4f7bb",
   "metadata": {},
   "outputs": [],
   "source": [
    "##pipeline  NOT GOOD\n",
    "\n",
    "#label_features =['Cluster']\n",
    "#label_transformer = OneHotEncoder(sparse = False, handle_unknown = 'ignore')\n",
    "\n",
    "\n",
    "\n",
    "#preprocessor = ColumnTransformer(\n",
    " #   transformers=[\n",
    "  #      ('label', label_transformer, label_features)\n",
    "   #     ])   \n",
    "\n",
    "\n",
    "#rf_model =  Pipeline(steps=[('preprocessor', preprocessor),\n",
    " #                     ('randomforest', RandomForestClassifier(n_estimators=1000,\n",
    "  #                                                           class_weight=class_weight_m))])"
   ]
  },
  {
   "cell_type": "code",
   "execution_count": 117,
   "id": "c661e8ff",
   "metadata": {},
   "outputs": [],
   "source": [
    "#### Good\n",
    "\n",
    "# Random Forest\n",
    "rf_model =  Pipeline(steps=[\n",
    "                      ('randomforest', RandomForestClassifier(n_estimators=1000,\n",
    "                                                              class_weight=class_weight_m))])\n",
    "\n",
    "# Logistic regression\n",
    "lr_model = Pipeline(steps=[\n",
    "                           ('logisticregression', LogisticRegression(class_weight=class_weight_m))])\n",
    "\n",
    "# Decision Tree\n",
    "dt_model =  Pipeline(steps=[\n",
    "                           ('decisiontree',DecisionTreeClassifier(random_state = 42,\n",
    "                                                                  class_weight=class_weight_m))])"
   ]
  },
  {
   "cell_type": "markdown",
   "id": "59995086",
   "metadata": {},
   "source": [
    "## Split data"
   ]
  },
  {
   "cell_type": "code",
   "execution_count": 118,
   "id": "476e340f",
   "metadata": {},
   "outputs": [],
   "source": [
    "# Split data with stratify\n",
    "X_train, X_test, y_train, y_test = train_test_split(X, y, stratify=y, random_state=42)"
   ]
  },
  {
   "cell_type": "markdown",
   "id": "f4e49a48",
   "metadata": {},
   "source": [
    "## Class Imbalance"
   ]
  },
  {
   "cell_type": "code",
   "execution_count": 81,
   "id": "ed003c5a",
   "metadata": {},
   "outputs": [
    {
     "ename": "AttributeError",
     "evalue": "'DataFrame' object has no attribute 'value_counts'",
     "output_type": "error",
     "traceback": [
      "\u001b[1;31m---------------------------------------------------------------------------\u001b[0m",
      "\u001b[1;31mAttributeError\u001b[0m                            Traceback (most recent call last)",
      "\u001b[1;32m<ipython-input-81-8456fafaad86>\u001b[0m in \u001b[0;36m<module>\u001b[1;34m\u001b[0m\n\u001b[1;32m----> 1\u001b[1;33m \u001b[0mtotal_od\u001b[0m \u001b[1;33m=\u001b[0m \u001b[0msum\u001b[0m\u001b[1;33m(\u001b[0m\u001b[0my\u001b[0m\u001b[1;33m.\u001b[0m\u001b[0mvalue_counts\u001b[0m\u001b[1;33m(\u001b[0m\u001b[1;33m)\u001b[0m\u001b[1;33m)\u001b[0m\u001b[1;33m\u001b[0m\u001b[1;33m\u001b[0m\u001b[0m\n\u001b[0m\u001b[0;32m      2\u001b[0m ax = y.value_counts().plot(kind=\"bar\",\n\u001b[0;32m      3\u001b[0m                            \u001b[0mrot\u001b[0m \u001b[1;33m=\u001b[0m \u001b[1;36m25\u001b[0m\u001b[1;33m,\u001b[0m\u001b[1;33m\u001b[0m\u001b[1;33m\u001b[0m\u001b[0m\n\u001b[0;32m      4\u001b[0m                            \u001b[0mtitle\u001b[0m \u001b[1;33m=\u001b[0m \u001b[1;34m\"Class Distribution\"\u001b[0m\u001b[1;33m,\u001b[0m\u001b[1;33m\u001b[0m\u001b[1;33m\u001b[0m\u001b[0m\n\u001b[0;32m      5\u001b[0m                            \u001b[0mylabel\u001b[0m \u001b[1;33m=\u001b[0m \u001b[1;34m\"Number of Overdoses\"\u001b[0m\u001b[1;33m,\u001b[0m\u001b[1;33m\u001b[0m\u001b[1;33m\u001b[0m\u001b[0m\n",
      "\u001b[1;32m~\\AppData\\Local\\Continuum\\anaconda3\\lib\\site-packages\\pandas\\core\\generic.py\u001b[0m in \u001b[0;36m__getattr__\u001b[1;34m(self, name)\u001b[0m\n\u001b[0;32m   5065\u001b[0m             \u001b[1;32mif\u001b[0m \u001b[0mself\u001b[0m\u001b[1;33m.\u001b[0m\u001b[0m_info_axis\u001b[0m\u001b[1;33m.\u001b[0m\u001b[0m_can_hold_identifiers_and_holds_name\u001b[0m\u001b[1;33m(\u001b[0m\u001b[0mname\u001b[0m\u001b[1;33m)\u001b[0m\u001b[1;33m:\u001b[0m\u001b[1;33m\u001b[0m\u001b[1;33m\u001b[0m\u001b[0m\n\u001b[0;32m   5066\u001b[0m                 \u001b[1;32mreturn\u001b[0m \u001b[0mself\u001b[0m\u001b[1;33m[\u001b[0m\u001b[0mname\u001b[0m\u001b[1;33m]\u001b[0m\u001b[1;33m\u001b[0m\u001b[1;33m\u001b[0m\u001b[0m\n\u001b[1;32m-> 5067\u001b[1;33m             \u001b[1;32mreturn\u001b[0m \u001b[0mobject\u001b[0m\u001b[1;33m.\u001b[0m\u001b[0m__getattribute__\u001b[0m\u001b[1;33m(\u001b[0m\u001b[0mself\u001b[0m\u001b[1;33m,\u001b[0m \u001b[0mname\u001b[0m\u001b[1;33m)\u001b[0m\u001b[1;33m\u001b[0m\u001b[1;33m\u001b[0m\u001b[0m\n\u001b[0m\u001b[0;32m   5068\u001b[0m \u001b[1;33m\u001b[0m\u001b[0m\n\u001b[0;32m   5069\u001b[0m     \u001b[1;32mdef\u001b[0m \u001b[0m__setattr__\u001b[0m\u001b[1;33m(\u001b[0m\u001b[0mself\u001b[0m\u001b[1;33m,\u001b[0m \u001b[0mname\u001b[0m\u001b[1;33m,\u001b[0m \u001b[0mvalue\u001b[0m\u001b[1;33m)\u001b[0m\u001b[1;33m:\u001b[0m\u001b[1;33m\u001b[0m\u001b[1;33m\u001b[0m\u001b[0m\n",
      "\u001b[1;31mAttributeError\u001b[0m: 'DataFrame' object has no attribute 'value_counts'"
     ]
    }
   ],
   "source": [
    "total_od = sum(y.value_counts())\n",
    "ax = y.value_counts().plot(kind=\"bar\",\n",
    "                           rot = 25,\n",
    "                           title = \"Class Distribution\",\n",
    "                           ylabel = \"Number of Overdoses\",\n",
    "                           xlabel = \"Survival\",\n",
    "                           grid = True,\n",
    "                           color = [\"Blue\", \"Orange\"])\n",
    "ax.get_yaxis().set_major_formatter(FuncFormatter(lambda x, _: format(int(x), ',')))\n",
    "ax.set_xticklabels([\"Survived\", \"Died\"])\n",
    "\n",
    "for patch in ax.patches:\n",
    "    ax.annotate('{:.2f}%'.format(patch.get_height() / total_od * 100),                # Count\n",
    "               (patch.get_x() + 0.15, patch.get_height()+150),          # x,y coordinates for label.\n",
    "               fontsize=12)  "
   ]
  },
  {
   "cell_type": "code",
   "execution_count": 82,
   "id": "b5400b81",
   "metadata": {},
   "outputs": [
    {
     "data": {
      "text/plain": [
       "<matplotlib.axes._subplots.AxesSubplot at 0x1740b2b6ac8>"
      ]
     },
     "execution_count": 82,
     "metadata": {},
     "output_type": "execute_result"
    },
    {
     "data": {
      "image/png": "[encoded data removed]",
      "text/plain": [
       "<Figure size 864x576 with 2 Axes>"
      ]
     },
     "metadata": {
      "needs_background": "light"
     },
     "output_type": "display_data"
    }
   ],
   "source": [
    "cor = incidents2.drop(['Incident ID', 'Victim ID', 'Incident Date ym'], axis = 1).corr(method = \"spearman\")\n",
    "plt.figure(figsize = (12,8))\n",
    "plt.title(\"Spearman Correlation\")\n",
    "sns.heatmap(cor, annot = True, cmap = 'rocket',annot_kws={\"fontsize\":15})"
   ]
  },
  {
   "cell_type": "markdown",
   "id": "50686ce2",
   "metadata": {},
   "source": [
    "## Baseline\n",
    "\n",
    "Dummy classifier predict survived (1) when Naloxone was administered AND there were no multiple drugs. Otherwise died."
   ]
  },
  {
   "cell_type": "code",
   "execution_count": 83,
   "id": "4a3c4ea8",
   "metadata": {},
   "outputs": [
    {
     "name": "stdout",
     "output_type": "stream",
     "text": [
      "              precision    recall  f1-score   support\n",
      "\n",
      "        Died       0.36      0.84      0.51      3823\n",
      "    Survived       0.91      0.52      0.66     11603\n",
      "\n",
      "   micro avg       0.59      0.59      0.59     15426\n",
      "   macro avg       0.63      0.68      0.58     15426\n",
      "weighted avg       0.77      0.59      0.62     15426\n",
      "\n",
      "0.30698195777698684\n"
     ]
    }
   ],
   "source": [
    "dummy_clf = X_train[[\"Naloxone Administered\", 'Multiple Drugs']].apply(lambda x: 1 if x[0] == 1 and x[1] == 0 else 0, axis = 1)\n",
    "print(classification_report(y_train, dummy_clf, target_names=[\"Died\", \"Survived\"]))\n",
    "\n",
    "print(matthews_corrcoef(y_train,dummy_clf))"
   ]
  },
  {
   "cell_type": "markdown",
   "id": "3b4d5332",
   "metadata": {},
   "source": [
    "## Fit Models"
   ]
  },
  {
   "cell_type": "code",
   "execution_count": 119,
   "id": "64560d72",
   "metadata": {},
   "outputs": [
    {
     "data": {
      "text/plain": [
       "Pipeline(memory=None,\n",
       "     steps=[('randomforest', RandomForestClassifier(bootstrap=True, class_weight={0: 15472, 1: 5097},\n",
       "            criterion='gini', max_depth=None, max_features='auto',\n",
       "            max_leaf_nodes=None, min_impurity_decrease=0.0,\n",
       "            min_impurity_split=None, min_samples_leaf=1,\n",
       "            min_samples_split=2, min_weight_fraction_leaf=0.0,\n",
       "            n_estimators=1000, n_jobs=None, oob_score=False,\n",
       "            random_state=None, verbose=0, warm_start=False))])"
      ]
     },
     "execution_count": 119,
     "metadata": {},
     "output_type": "execute_result"
    }
   ],
   "source": [
    "# Random Forest\n",
    "rf_model.fit(X_train,y_train)"
   ]
  },
  {
   "cell_type": "code",
   "execution_count": 120,
   "id": "ad43eae2",
   "metadata": {},
   "outputs": [
    {
     "data": {
      "text/plain": [
       "Pipeline(memory=None,\n",
       "     steps=[('logisticregression', LogisticRegression(C=1.0, class_weight={0: 15472, 1: 5097}, dual=False,\n",
       "          fit_intercept=True, intercept_scaling=1, max_iter=100,\n",
       "          multi_class='warn', n_jobs=None, penalty='l2', random_state=None,\n",
       "          solver='warn', tol=0.0001, verbose=0, warm_start=False))])"
      ]
     },
     "execution_count": 120,
     "metadata": {},
     "output_type": "execute_result"
    }
   ],
   "source": [
    "# Logistic Regression\n",
    "lr_model.fit(X_train,y_train)"
   ]
  },
  {
   "cell_type": "code",
   "execution_count": 121,
   "id": "0532d318",
   "metadata": {},
   "outputs": [
    {
     "data": {
      "text/plain": [
       "Pipeline(memory=None,\n",
       "     steps=[('decisiontree', DecisionTreeClassifier(class_weight={0: 15472, 1: 5097}, criterion='gini',\n",
       "            max_depth=None, max_features=None, max_leaf_nodes=None,\n",
       "            min_impurity_decrease=0.0, min_impurity_split=None,\n",
       "            min_samples_leaf=1, min_samples_split=2,\n",
       "            min_weight_fraction_leaf=0.0, presort=False, random_state=42,\n",
       "            splitter='best'))])"
      ]
     },
     "execution_count": 121,
     "metadata": {},
     "output_type": "execute_result"
    }
   ],
   "source": [
    "# Decision Tree\n",
    "dt_model.fit(X_train,y_train)"
   ]
  },
  {
   "cell_type": "code",
   "execution_count": null,
   "id": "f3014b27",
   "metadata": {},
   "outputs": [],
   "source": []
  },
  {
   "cell_type": "markdown",
   "id": "518abdb9",
   "metadata": {},
   "source": [
    "## Predict"
   ]
  },
  {
   "cell_type": "code",
   "execution_count": 122,
   "id": "73d102da",
   "metadata": {},
   "outputs": [
    {
     "name": "stdout",
     "output_type": "stream",
     "text": [
      "accuracy: 0.7828115885669843\n"
     ]
    }
   ],
   "source": [
    "# Random Forest \n",
    "predictions_classweights = rf_model.predict(X_test)\n",
    "print(\"accuracy:\",accuracy_score(y_test, predictions_classweights))"
   ]
  },
  {
   "cell_type": "code",
   "execution_count": 123,
   "id": "58b521eb",
   "metadata": {},
   "outputs": [
    {
     "name": "stdout",
     "output_type": "stream",
     "text": [
      "accuracy: 0.7828115885669843\n"
     ]
    }
   ],
   "source": [
    "# Logistic Regression\n",
    "LR_predictions_classweights = lr_model.predict(X_test)\n",
    "print(\"accuracy:\",accuracy_score(y_test, LR_predictions_classweights))\n"
   ]
  },
  {
   "cell_type": "code",
   "execution_count": 124,
   "id": "3516e1ea",
   "metadata": {},
   "outputs": [
    {
     "name": "stdout",
     "output_type": "stream",
     "text": [
      "accuracy: 0.7828115885669843\n"
     ]
    }
   ],
   "source": [
    "# Decision Tree\n",
    "dt_predictions_classweights = dt_model.predict(X_test)\n",
    "print(\"accuracy:\",accuracy_score(y_test, dt_predictions_classweights))\n"
   ]
  },
  {
   "cell_type": "code",
   "execution_count": 145,
   "id": "97e67f40",
   "metadata": {},
   "outputs": [],
   "source": [
    "from sklearn import tree\n"
   ]
  },
  {
   "cell_type": "code",
   "execution_count": 146,
   "id": "c22d0a77",
   "metadata": {},
   "outputs": [
    {
     "ename": "AttributeError",
     "evalue": "module 'sklearn.tree' has no attribute 'plot_tree'",
     "output_type": "error",
     "traceback": [
      "\u001b[1;31m---------------------------------------------------------------------------\u001b[0m",
      "\u001b[1;31mAttributeError\u001b[0m                            Traceback (most recent call last)",
      "\u001b[1;32m<ipython-input-146-b94d3f17f563>\u001b[0m in \u001b[0;36m<module>\u001b[1;34m\u001b[0m\n\u001b[1;32m----> 1\u001b[1;33m \u001b[0mtree\u001b[0m\u001b[1;33m.\u001b[0m\u001b[0mplot_tree\u001b[0m\u001b[1;33m(\u001b[0m\u001b[0mdt_model\u001b[0m\u001b[1;33m)\u001b[0m\u001b[1;33m\u001b[0m\u001b[1;33m\u001b[0m\u001b[0m\n\u001b[0m",
      "\u001b[1;31mAttributeError\u001b[0m: module 'sklearn.tree' has no attribute 'plot_tree'"
     ]
    }
   ],
   "source": [
    "tree.plot_tree(dt_model)"
   ]
  },
  {
   "cell_type": "markdown",
   "id": "2bdc7005",
   "metadata": {},
   "source": [
    "# Cross Validation"
   ]
  },
  {
   "cell_type": "code",
   "execution_count": 125,
   "id": "d177d48f",
   "metadata": {},
   "outputs": [],
   "source": [
    "def cross_validation(X, y, model, n_splits = 5,  **kwargs):\n",
    "    \n",
    "    # KFold object\n",
    "    kf = StratifiedKFold(n_splits=n_splits,random_state=0, shuffle=True)\n",
    "    \n",
    "    # Empty lists\n",
    "    acc_score = []\n",
    "    pred = []\n",
    "    y_test_all = []\n",
    "    pred_prob = []\n",
    "    \n",
    "    # KFold iterations\n",
    "    for i, (train_index, test_index) in enumerate(kf.split(X,y)):\n",
    "        print(f\"Run #{i}\")\n",
    "        \n",
    "        # Train and test features and target\n",
    "        X_train , X_test = X.iloc[train_index,:],X.iloc[test_index,:]\n",
    "        y_train , y_test = y.iloc[train_index] , y.iloc[test_index]\n",
    "        \n",
    "        # Fit and score model\n",
    "        model.fit(X_train,y_train)\n",
    "        print(model.score(X_test, y_test))\n",
    "        num = model.score(X_test, y_test)\n",
    "        num = num.astype(float)\n",
    "        acc_score.append(num)\n",
    "        \n",
    "        # Predict\n",
    "        predictions_classweights = model.predict(X_test)\n",
    "        proba = model.predict_proba(X_test)\n",
    "        pred_prob.append(proba)                           \n",
    "        \n",
    "        # Store results\n",
    "        pred.append(predictions_classweights)\n",
    "        y_test_all.append(y_test)\n",
    "        \n",
    "        # Print ROC AUC results\n",
    "        print(f\"ROC AUC Score: {roc_auc_score(y_test,predictions_classweights)}\", end = \"\\n\")\n",
    "        \n",
    "        print(f\"Matthews Correlation: {matthews_corrcoef(y_test,predictions_classweights)}\", end = \"\\n\\n\")\n",
    "        \n",
    "    # Return lists\n",
    "    return pred, y_test_all, pred_prob\n"
   ]
  },
  {
   "cell_type": "code",
   "execution_count": 126,
   "id": "84c1e701",
   "metadata": {},
   "outputs": [
    {
     "name": "stdout",
     "output_type": "stream",
     "text": [
      "Run #0\n",
      "0.7752126366950183\n",
      "ROC AUC Score: 0.7434270962019703\n",
      "Matthews Correlation: 0.4528470673336938\n",
      "\n",
      "Run #1\n",
      "0.7771567436208991\n",
      "ROC AUC Score: 0.7473486648294212\n",
      "Matthews Correlation: 0.4593770386910319\n",
      "\n",
      "Run #2\n",
      "0.7896912229516169\n",
      "ROC AUC Score: 0.7598457364375507\n",
      "Matthews Correlation: 0.48520517851972367\n",
      "\n",
      "Run #3\n",
      "0.7831266715292974\n",
      "ROC AUC Score: 0.7541661565358385\n",
      "Matthews Correlation: 0.4726842670691011\n",
      "\n",
      "Run #4\n",
      "0.7760758570386579\n",
      "ROC AUC Score: 0.7412528157635818\n",
      "Matthews Correlation: 0.45068225713484533\n",
      "\n"
     ]
    }
   ],
   "source": [
    "rf_cross_pred, rf_cross_test, rf_cross_prob = cross_validation(X, y, rf_model)"
   ]
  },
  {
   "cell_type": "code",
   "execution_count": 127,
   "id": "7cd85c0d",
   "metadata": {},
   "outputs": [
    {
     "name": "stdout",
     "output_type": "stream",
     "text": [
      "Run #0\n",
      "0.7752126366950183\n",
      "ROC AUC Score: 0.7434270962019703\n",
      "Matthews Correlation: 0.4528470673336938\n",
      "\n",
      "Run #1\n",
      "0.7771567436208991\n",
      "ROC AUC Score: 0.7473486648294212\n",
      "Matthews Correlation: 0.4593770386910319\n",
      "\n",
      "Run #2\n",
      "0.7896912229516169\n",
      "ROC AUC Score: 0.7598457364375507\n",
      "Matthews Correlation: 0.48520517851972367\n",
      "\n",
      "Run #3\n",
      "0.7831266715292974\n",
      "ROC AUC Score: 0.7541661565358385\n",
      "Matthews Correlation: 0.4726842670691011\n",
      "\n",
      "Run #4\n",
      "0.7760758570386579\n",
      "ROC AUC Score: 0.7412528157635818\n",
      "Matthews Correlation: 0.45068225713484533\n",
      "\n"
     ]
    }
   ],
   "source": [
    "lr_cross_pred,lr_cross_test, lr_cross_prob = cross_validation(X, y, lr_model)"
   ]
  },
  {
   "cell_type": "code",
   "execution_count": 128,
   "id": "97d72269",
   "metadata": {},
   "outputs": [
    {
     "name": "stdout",
     "output_type": "stream",
     "text": [
      "Run #0\n",
      "0.7752126366950183\n",
      "ROC AUC Score: 0.7434270962019703\n",
      "Matthews Correlation: 0.4528470673336938\n",
      "\n",
      "Run #1\n",
      "0.7771567436208991\n",
      "ROC AUC Score: 0.7473486648294212\n",
      "Matthews Correlation: 0.4593770386910319\n",
      "\n",
      "Run #2\n",
      "0.7896912229516169\n",
      "ROC AUC Score: 0.7598457364375507\n",
      "Matthews Correlation: 0.48520517851972367\n",
      "\n",
      "Run #3\n",
      "0.7831266715292974\n",
      "ROC AUC Score: 0.7541661565358385\n",
      "Matthews Correlation: 0.4726842670691011\n",
      "\n",
      "Run #4\n",
      "0.7760758570386579\n",
      "ROC AUC Score: 0.7412528157635818\n",
      "Matthews Correlation: 0.45068225713484533\n",
      "\n"
     ]
    }
   ],
   "source": [
    "dt_cross_pred, dt_cross_test, dt_cross_prob= cross_validation(X, y, dt_model)"
   ]
  },
  {
   "cell_type": "code",
   "execution_count": 129,
   "id": "4af0f15f",
   "metadata": {},
   "outputs": [],
   "source": [
    "def change_threshold(pred_prob_all, \n",
    "                     y_test_all, \n",
    "                     threshold: int = .5,\n",
    "                     log: bool = False):\n",
    "    y_test_master = pd.concat(y_test_all)\n",
    "    \n",
    "    probs = [pd.DataFrame(a, columns = ['zero', 'one']) for a in pred_prob_all]\n",
    "    probs_final = pd.concat(probs)\n",
    "    probs_final = probs_final[['one']]\n",
    "    \n",
    "    probs_final['one'] = np.select([probs_final['one'] > threshold],  ### setting threshold\n",
    "                                    [1],\n",
    "                                    default=0)\n",
    "    \n",
    "    conf_matrix = confusion_matrix(y_test_master,probs_final)\n",
    "    roc_score = roc_auc_score(y_test_master,probs_final)\n",
    "    matthews_score = matthews_corrcoef(y_test_master,probs_final)\n",
    "    target_names = ['Died', 'Survived']\n",
    "    clf_report = classification_report(y_test_master, probs_final, target_names=target_names)\n",
    "    if log:\n",
    "        print(\"Confusion Matrix: \")\n",
    "        print(conf_matrix, end = \"\\n\\n\")\n",
    "\n",
    "         # Print ROC AUC results\n",
    "        print(f\"ROC AUC Score: {roc_score}\", end = \"\\n\")\n",
    "        print(f\"Matthews Correlation: {matthews_score}\", end = \"\\n\\n\")\n",
    "\n",
    "        \n",
    "        print(\"Classification Report: \")\n",
    "        print(clf_report)\n",
    "    \n",
    "    \n",
    "    \n",
    "    return conf_matrix, roc_score, matthews_score, clf_report, probs_final\n",
    "\n",
    "\n",
    "## Print classification report\n",
    "# _ = change_threshold(...)\n",
    "# print(\"\".join(_[3]))"
   ]
  },
  {
   "cell_type": "code",
   "execution_count": null,
   "id": "427abbdf",
   "metadata": {},
   "outputs": [],
   "source": [
    "lr_cross_pred,lr_cross_test, lr_cross_prob"
   ]
  },
  {
   "cell_type": "code",
   "execution_count": null,
   "id": "ae8ad048",
   "metadata": {},
   "outputs": [],
   "source": [
    "dt_cross_pred, dt_cross_test, dt_cross_prob= cross_validation(X, y, dt_model)"
   ]
  },
  {
   "cell_type": "code",
   "execution_count": 143,
   "id": "533ef3ea",
   "metadata": {},
   "outputs": [
    {
     "name": "stdout",
     "output_type": "stream",
     "text": [
      "Confusion Matrix: \n",
      "[[ 3747  1350]\n",
      " [ 4503 10969]]\n",
      "\n",
      "ROC AUC Score: 0.7220482172736199\n",
      "Matthews Correlation: 0.39119485085824784\n",
      "\n",
      "Classification Report: \n",
      "              precision    recall  f1-score   support\n",
      "\n",
      "        Died       0.45      0.74      0.56      5097\n",
      "    Survived       0.89      0.71      0.79     15472\n",
      "\n",
      "   micro avg       0.72      0.72      0.72     20569\n",
      "   macro avg       0.67      0.72      0.68     20569\n",
      "weighted avg       0.78      0.72      0.73     20569\n",
      "\n"
     ]
    },
    {
     "data": {
      "text/plain": [
       "(array([[ 3747,  1350],\n",
       "        [ 4503, 10969]], dtype=int64),\n",
       " 0.7220482172736199,\n",
       " 0.39119485085824784,\n",
       " '              precision    recall  f1-score   support\\n\\n        Died       0.45      0.74      0.56      5097\\n    Survived       0.89      0.71      0.79     15472\\n\\n   micro avg       0.72      0.72      0.72     20569\\n   macro avg       0.67      0.72      0.68     20569\\nweighted avg       0.78      0.72      0.73     20569\\n',\n",
       "       one\n",
       " 0       1\n",
       " 1       1\n",
       " 2       1\n",
       " 3       1\n",
       " 4       1\n",
       " 5       1\n",
       " 6       0\n",
       " 7       0\n",
       " 8       1\n",
       " 9       1\n",
       " 10      1\n",
       " 11      0\n",
       " 12      1\n",
       " 13      0\n",
       " 14      1\n",
       " 15      1\n",
       " 16      0\n",
       " 17      1\n",
       " 18      0\n",
       " 19      1\n",
       " 20      0\n",
       " 21      0\n",
       " 22      0\n",
       " 23      0\n",
       " 24      0\n",
       " 25      0\n",
       " 26      1\n",
       " 27      1\n",
       " 28      0\n",
       " 29      1\n",
       " ...   ...\n",
       " 4083    1\n",
       " 4084    0\n",
       " 4085    0\n",
       " 4086    0\n",
       " 4087    1\n",
       " 4088    1\n",
       " 4089    1\n",
       " 4090    0\n",
       " 4091    1\n",
       " 4092    0\n",
       " 4093    1\n",
       " 4094    1\n",
       " 4095    0\n",
       " 4096    1\n",
       " 4097    1\n",
       " 4098    0\n",
       " 4099    1\n",
       " 4100    0\n",
       " 4101    0\n",
       " 4102    0\n",
       " 4103    0\n",
       " 4104    0\n",
       " 4105    0\n",
       " 4106    1\n",
       " 4107    0\n",
       " 4108    0\n",
       " 4109    1\n",
       " 4110    0\n",
       " 4111    1\n",
       " 4112    0\n",
       " \n",
       " [20569 rows x 1 columns])"
      ]
     },
     "execution_count": 143,
     "metadata": {},
     "output_type": "execute_result"
    }
   ],
   "source": [
    "change_threshold(dt_cross_prob, dt_cross_test, .65, log = True)"
   ]
  },
  {
   "cell_type": "code",
   "execution_count": 140,
   "id": "d0ed43ab",
   "metadata": {
    "collapsed": true,
    "jupyter": {
     "outputs_hidden": true
    }
   },
   "outputs": [
    {
     "name": "stdout",
     "output_type": "stream",
     "text": [
      "Confusion Matrix: \n",
      "[[ 3692  1405]\n",
      " [ 3989 11483]]\n",
      "\n",
      "ROC AUC Score: 0.7332635381864832\n",
      "Matthews Correlation: 0.4163952372354537\n",
      "\n",
      "Classification Report: \n",
      "              precision    recall  f1-score   support\n",
      "\n",
      "        Died       0.48      0.72      0.58      5097\n",
      "    Survived       0.89      0.74      0.81     15472\n",
      "\n",
      "   micro avg       0.74      0.74      0.74     20569\n",
      "   macro avg       0.69      0.73      0.69     20569\n",
      "weighted avg       0.79      0.74      0.75     20569\n",
      "\n"
     ]
    },
    {
     "data": {
      "text/plain": [
       "(array([[ 3692,  1405],\n",
       "        [ 3989, 11483]], dtype=int64),\n",
       " 0.7332635381864832,\n",
       " 0.4163952372354537,\n",
       " '              precision    recall  f1-score   support\\n\\n        Died       0.48      0.72      0.58      5097\\n    Survived       0.89      0.74      0.81     15472\\n\\n   micro avg       0.74      0.74      0.74     20569\\n   macro avg       0.69      0.73      0.69     20569\\nweighted avg       0.79      0.74      0.75     20569\\n',\n",
       "       one\n",
       " 0       1\n",
       " 1       1\n",
       " 2       1\n",
       " 3       1\n",
       " 4       1\n",
       " 5       1\n",
       " 6       0\n",
       " 7       0\n",
       " 8       1\n",
       " 9       1\n",
       " 10      1\n",
       " 11      0\n",
       " 12      1\n",
       " 13      0\n",
       " 14      1\n",
       " 15      1\n",
       " 16      0\n",
       " 17      1\n",
       " 18      0\n",
       " 19      1\n",
       " 20      0\n",
       " 21      0\n",
       " 22      0\n",
       " 23      0\n",
       " 24      0\n",
       " 25      0\n",
       " 26      1\n",
       " 27      1\n",
       " 28      0\n",
       " 29      1\n",
       " ...   ...\n",
       " 4083    1\n",
       " 4084    0\n",
       " 4085    0\n",
       " 4086    0\n",
       " 4087    1\n",
       " 4088    1\n",
       " 4089    1\n",
       " 4090    0\n",
       " 4091    1\n",
       " 4092    0\n",
       " 4093    1\n",
       " 4094    1\n",
       " 4095    0\n",
       " 4096    1\n",
       " 4097    1\n",
       " 4098    0\n",
       " 4099    1\n",
       " 4100    0\n",
       " 4101    0\n",
       " 4102    0\n",
       " 4103    0\n",
       " 4104    0\n",
       " 4105    0\n",
       " 4106    1\n",
       " 4107    0\n",
       " 4108    0\n",
       " 4109    1\n",
       " 4110    0\n",
       " 4111    1\n",
       " 4112    0\n",
       " \n",
       " [20569 rows x 1 columns])"
      ]
     },
     "execution_count": 140,
     "metadata": {},
     "output_type": "execute_result"
    }
   ],
   "source": [
    "change_threshold(lr_cross_prob, lr_cross_test, .60, log = True)"
   ]
  },
  {
   "cell_type": "code",
   "execution_count": 133,
   "id": "07dca830",
   "metadata": {},
   "outputs": [
    {
     "name": "stdout",
     "output_type": "stream",
     "text": [
      "Confusion Matrix: \n",
      "[[ 3662  1435]\n",
      " [ 3996 11476]]\n",
      "\n",
      "ROC AUC Score: 0.7300944154955396\n",
      "Matthews Correlation: 0.4109878636858169\n",
      "\n",
      "Classification Report: \n",
      "              precision    recall  f1-score   support\n",
      "\n",
      "        Died       0.48      0.72      0.57      5097\n",
      "    Survived       0.89      0.74      0.81     15472\n",
      "\n",
      "   micro avg       0.74      0.74      0.74     20569\n",
      "   macro avg       0.68      0.73      0.69     20569\n",
      "weighted avg       0.79      0.74      0.75     20569\n",
      "\n"
     ]
    },
    {
     "data": {
      "text/plain": [
       "(array([[ 3662,  1435],\n",
       "        [ 3996, 11476]], dtype=int64),\n",
       " 0.7300944154955396,\n",
       " 0.4109878636858169,\n",
       " '              precision    recall  f1-score   support\\n\\n        Died       0.48      0.72      0.57      5097\\n    Survived       0.89      0.74      0.81     15472\\n\\n   micro avg       0.74      0.74      0.74     20569\\n   macro avg       0.68      0.73      0.69     20569\\nweighted avg       0.79      0.74      0.75     20569\\n',\n",
       "       one\n",
       " 0       1\n",
       " 1       1\n",
       " 2       1\n",
       " 3       1\n",
       " 4       1\n",
       " 5       1\n",
       " 6       0\n",
       " 7       0\n",
       " 8       1\n",
       " 9       1\n",
       " 10      1\n",
       " 11      0\n",
       " 12      1\n",
       " 13      0\n",
       " 14      1\n",
       " 15      1\n",
       " 16      0\n",
       " 17      1\n",
       " 18      0\n",
       " 19      1\n",
       " 20      0\n",
       " 21      0\n",
       " 22      0\n",
       " 23      0\n",
       " 24      0\n",
       " 25      0\n",
       " 26      1\n",
       " 27      1\n",
       " 28      0\n",
       " 29      1\n",
       " ...   ...\n",
       " 4083    1\n",
       " 4084    0\n",
       " 4085    0\n",
       " 4086    0\n",
       " 4087    1\n",
       " 4088    1\n",
       " 4089    1\n",
       " 4090    0\n",
       " 4091    1\n",
       " 4092    0\n",
       " 4093    1\n",
       " 4094    1\n",
       " 4095    0\n",
       " 4096    1\n",
       " 4097    1\n",
       " 4098    0\n",
       " 4099    1\n",
       " 4100    0\n",
       " 4101    0\n",
       " 4102    0\n",
       " 4103    0\n",
       " 4104    0\n",
       " 4105    0\n",
       " 4106    1\n",
       " 4107    0\n",
       " 4108    0\n",
       " 4109    1\n",
       " 4110    0\n",
       " 4111    1\n",
       " 4112    0\n",
       " \n",
       " [20569 rows x 1 columns])"
      ]
     },
     "execution_count": 133,
     "metadata": {},
     "output_type": "execute_result"
    }
   ],
   "source": [
    "change_threshold(rf_cross_prob, rf_cross_test, .65, log = True)"
   ]
  },
  {
   "cell_type": "code",
   "execution_count": null,
   "id": "d1d737cd",
   "metadata": {},
   "outputs": [],
   "source": []
  },
  {
   "cell_type": "code",
   "execution_count": 132,
   "id": "7a8d3935",
   "metadata": {},
   "outputs": [],
   "source": [
    "change_threshold(rf_cross_prob, rf_cross_test, .7)\n",
    "thresholds_ls, matthews_score_ls, roc_score_ls = [], [], []\n",
    "\n",
    "for i  in range(20, 95, 5):\n",
    "    threshold = i / 100\n",
    "    thresholds_ls.append(threshold)\n",
    "    _ = change_threshold(rf_cross_prob, rf_cross_test, threshold)\n",
    "    matthews_score_ls.append(_[2])\n",
    "    roc_score_ls.append(_[1])"
   ]
  },
  {
   "cell_type": "code",
   "execution_count": 131,
   "id": "59572d2e",
   "metadata": {},
   "outputs": [
    {
     "data": {
      "text/plain": [
       "<matplotlib.legend.Legend at 0x1740be36908>"
      ]
     },
     "execution_count": 131,
     "metadata": {},
     "output_type": "execute_result"
    },
    {
     "data": {
      "image/png": "[encoded data removed]",
      "text/plain": [
       "<Figure size 720x360 with 1 Axes>"
      ]
     },
     "metadata": {
      "needs_background": "light"
     },
     "output_type": "display_data"
    }
   ],
   "source": [
    "\n",
    "fig, ax = plt.subplots(figsize=(10, 5))\n",
    "ax.plot(thresholds_ls, matthews_score_ls , marker = \"*\", color = 'Orange', label='Matthew\\'s Score')\n",
    "ax.plot(thresholds_ls, roc_score_ls, marker='.', color = 'Blue', label='ROC Score')\n",
    "ax.set_xlabel(\"Threshold\", fontsize = 12)\n",
    "ax.set_ylabel(\"Score\", fontsize = 12)\n",
    "ax.set_title(\"Threshold Scores\")\n",
    "plt.rcParams.update({\"font.size\": 12})\n",
    "plt.legend()"
   ]
  },
  {
   "cell_type": "markdown",
   "id": "7947e4ac",
   "metadata": {},
   "source": [
    "## ROC Plot"
   ]
  },
  {
   "cell_type": "code",
   "execution_count": 98,
   "id": "2deb2611",
   "metadata": {},
   "outputs": [],
   "source": [
    "def plot_roc(pred_probs, y_test, threshold):\n",
    "    # probs = [pd.DataFrame(a, columns = ['zero', 'one']) for a in pred_probs]\n",
    "    # probs_final = pd.concat(probs)\n",
    "    # probs_final = probs_final[['one']]\n",
    "    probs_final = change_threshold(pred_probs, y_test, threshold = threshold)[4]\n",
    "    y_test_master = pd.concat(y_test)\n",
    "    \n",
    "    fpr, tpr, _ = roc_curve(y_test_master,probs_final)\n",
    "    auc = roc_auc_score(y_test_master,probs_final)\n",
    "    plt.figure(figsize=(10,10))\n",
    "    plt.plot(fpr,tpr,label=\" auc=\"+str(auc))\n",
    "    plt.legend(loc=4)\n",
    "    plt.show()"
   ]
  },
  {
   "cell_type": "code",
   "execution_count": 99,
   "id": "3b5f2a37",
   "metadata": {
    "tags": []
   },
   "outputs": [
    {
     "data": {
      "image/png": "[encoded data removed]",
      "text/plain": [
       "<Figure size 720x720 with 1 Axes>"
      ]
     },
     "metadata": {
      "needs_background": "light"
     },
     "output_type": "display_data"
    }
   ],
   "source": [
    "plot_roc(rf_cross_prob, rf_cross_test, 0.65)"
   ]
  },
  {
   "cell_type": "markdown",
   "id": "50c17c81",
   "metadata": {},
   "source": [
    "# Feature Importance"
   ]
  },
  {
   "cell_type": "code",
   "execution_count": 100,
   "id": "5fa5dfc1",
   "metadata": {},
   "outputs": [],
   "source": [
    "# for gini importance\n",
    "from sklearn.feature_extraction import DictVectorizer\n",
    "from sklearn.preprocessing import FunctionTransformer\n",
    "from sklearn.pipeline import make_pipeline"
   ]
  },
  {
   "cell_type": "code",
   "execution_count": 101,
   "id": "ea363f8a",
   "metadata": {},
   "outputs": [],
   "source": [
    "def row_to_dict(x,y=None):\n",
    "    return X.apply(dict,axis=1)\n",
    "    \n",
    "def plot_importance(X, y, model, rot = 75, figsize = (20,5), kind = \"bar\"):\n",
    "    ft = FunctionTransformer(row_to_dict, validate=False)\n",
    "    dv = DictVectorizer()\n",
    "\n",
    "    pipe = make_pipeline(ft,dv,model)\n",
    "    pipe.fit(X,y)\n",
    "    feature_importances = zip(dv.feature_names_,model[0].feature_importances_)\n",
    "    \n",
    "    feats = {}\n",
    "    for feature, importance in zip(dv.feature_names_,feature_importances):\n",
    "        feats[feature] = importance\n",
    "        \n",
    "    importances = pd.DataFrame.from_dict(feats, orient='index').rename(columns={0: 'Gini-importance'})\n",
    "    importances.sort_values(by='Gini-importance').plot(kind=kind, rot=rot, figsize = figsize, fontsize=16)"
   ]
  },
  {
   "cell_type": "code",
   "execution_count": 102,
   "id": "a1fff36c",
   "metadata": {},
   "outputs": [
    {
     "ename": "TypeError",
     "evalue": "'Pipeline' object is not subscriptable",
     "output_type": "error",
     "traceback": [
      "\u001b[1;31m---------------------------------------------------------------------------\u001b[0m",
      "\u001b[1;31mTypeError\u001b[0m                                 Traceback (most recent call last)",
      "\u001b[1;32m<ipython-input-102-44a543611f7c>\u001b[0m in \u001b[0;36m<module>\u001b[1;34m\u001b[0m\n\u001b[1;32m----> 1\u001b[1;33m \u001b[0mrf_model\u001b[0m\u001b[1;33m[\u001b[0m\u001b[1;36m0\u001b[0m\u001b[1;33m]\u001b[0m\u001b[1;33m.\u001b[0m\u001b[0mfeature_importances_\u001b[0m\u001b[1;33m\u001b[0m\u001b[1;33m\u001b[0m\u001b[0m\n\u001b[0m",
      "\u001b[1;31mTypeError\u001b[0m: 'Pipeline' object is not subscriptable"
     ]
    }
   ],
   "source": [
    "rf_model[0].feature_importances_"
   ]
  },
  {
   "cell_type": "code",
   "execution_count": 103,
   "id": "dd0ee9f3",
   "metadata": {},
   "outputs": [
    {
     "ename": "TypeError",
     "evalue": "'Pipeline' object is not subscriptable",
     "output_type": "error",
     "traceback": [
      "\u001b[1;31m---------------------------------------------------------------------------\u001b[0m",
      "\u001b[1;31mTypeError\u001b[0m                                 Traceback (most recent call last)",
      "\u001b[1;32m<ipython-input-103-ea9abf792ec6>\u001b[0m in \u001b[0;36m<module>\u001b[1;34m\u001b[0m\n\u001b[1;32m----> 1\u001b[1;33m \u001b[0mplot_importance\u001b[0m\u001b[1;33m(\u001b[0m\u001b[0mX\u001b[0m\u001b[1;33m,\u001b[0m \u001b[0my\u001b[0m\u001b[1;33m,\u001b[0m \u001b[0mrf_model\u001b[0m\u001b[1;33m,\u001b[0m \u001b[0mrot\u001b[0m \u001b[1;33m=\u001b[0m \u001b[1;36m75\u001b[0m\u001b[1;33m,\u001b[0m \u001b[0mfigsize\u001b[0m \u001b[1;33m=\u001b[0m \u001b[1;33m(\u001b[0m\u001b[1;36m20\u001b[0m\u001b[1;33m,\u001b[0m\u001b[1;36m5\u001b[0m\u001b[1;33m)\u001b[0m\u001b[1;33m)\u001b[0m\u001b[1;33m\u001b[0m\u001b[1;33m\u001b[0m\u001b[0m\n\u001b[0m",
      "\u001b[1;32m<ipython-input-101-53cb44fb6800>\u001b[0m in \u001b[0;36mplot_importance\u001b[1;34m(X, y, model, rot, figsize, kind)\u001b[0m\n\u001b[0;32m      8\u001b[0m     \u001b[0mpipe\u001b[0m \u001b[1;33m=\u001b[0m \u001b[0mmake_pipeline\u001b[0m\u001b[1;33m(\u001b[0m\u001b[0mft\u001b[0m\u001b[1;33m,\u001b[0m\u001b[0mdv\u001b[0m\u001b[1;33m,\u001b[0m\u001b[0mmodel\u001b[0m\u001b[1;33m)\u001b[0m\u001b[1;33m\u001b[0m\u001b[1;33m\u001b[0m\u001b[0m\n\u001b[0;32m      9\u001b[0m     \u001b[0mpipe\u001b[0m\u001b[1;33m.\u001b[0m\u001b[0mfit\u001b[0m\u001b[1;33m(\u001b[0m\u001b[0mX\u001b[0m\u001b[1;33m,\u001b[0m\u001b[0my\u001b[0m\u001b[1;33m)\u001b[0m\u001b[1;33m\u001b[0m\u001b[1;33m\u001b[0m\u001b[0m\n\u001b[1;32m---> 10\u001b[1;33m     \u001b[0mfeature_importances\u001b[0m \u001b[1;33m=\u001b[0m \u001b[0mzip\u001b[0m\u001b[1;33m(\u001b[0m\u001b[0mdv\u001b[0m\u001b[1;33m.\u001b[0m\u001b[0mfeature_names_\u001b[0m\u001b[1;33m,\u001b[0m\u001b[0mmodel\u001b[0m\u001b[1;33m[\u001b[0m\u001b[1;36m0\u001b[0m\u001b[1;33m]\u001b[0m\u001b[1;33m.\u001b[0m\u001b[0mfeature_importances_\u001b[0m\u001b[1;33m)\u001b[0m\u001b[1;33m\u001b[0m\u001b[1;33m\u001b[0m\u001b[0m\n\u001b[0m\u001b[0;32m     11\u001b[0m \u001b[1;33m\u001b[0m\u001b[0m\n\u001b[0;32m     12\u001b[0m     \u001b[0mfeats\u001b[0m \u001b[1;33m=\u001b[0m \u001b[1;33m{\u001b[0m\u001b[1;33m}\u001b[0m\u001b[1;33m\u001b[0m\u001b[1;33m\u001b[0m\u001b[0m\n",
      "\u001b[1;31mTypeError\u001b[0m: 'Pipeline' object is not subscriptable"
     ]
    }
   ],
   "source": [
    "plot_importance(X, y, rf_model, rot = 75, figsize = (20,5))"
   ]
  },
  {
   "cell_type": "code",
   "execution_count": null,
   "id": "e3347416",
   "metadata": {},
   "outputs": [],
   "source": [
    "plot_importance(X, y, dt_model, rot = 75, figsize = (20,5))"
   ]
  },
  {
   "cell_type": "code",
   "execution_count": null,
   "id": "acadc42e",
   "metadata": {},
   "outputs": [],
   "source": []
  },
  {
   "cell_type": "code",
   "execution_count": null,
   "id": "4fcaefe8",
   "metadata": {},
   "outputs": [],
   "source": []
  },
  {
   "cell_type": "code",
   "execution_count": null,
   "id": "5f22181e",
   "metadata": {},
   "outputs": [],
   "source": []
  }
 ],
 "metadata": {
  "kernelspec": {
   "display_name": "Python 3 (ipykernel)",
   "language": "python",
   "name": "python3"
  },
  "language_info": {
   "codemirror_mode": {
    "name": "ipython",
    "version": 3
   },
   "file_extension": ".py",
   "mimetype": "text/x-python",
   "name": "python",
   "nbconvert_exporter": "python",
   "pygments_lexer": "ipython3",
   "version": "3.10.8"
  }
 },
 "nbformat": 4,
 "nbformat_minor": 5
}
