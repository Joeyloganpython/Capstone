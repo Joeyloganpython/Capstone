{
 "cells": [
  {
   "cell_type": "markdown",
   "metadata": {},
   "source": [
    "# Setup"
   ]
  },
  {
   "cell_type": "code",
   "execution_count": 385,
   "metadata": {},
   "outputs": [],
   "source": [
    "import pandas as pd\n",
    "import numpy as np\n",
    "import seaborn as sns\n",
    "import matplotlib.pyplot as plt\n",
    "from datetime import datetime\n",
    "\n",
    "# SKlearn \n",
    "from sklearn.metrics import confusion_matrix, f1_score, precision_score, recall_score,accuracy_score\n",
    "from sklearn import metrics\n",
    "\n",
    "from sklearn.preprocessing import OneHotEncoder,StandardScaler\n",
    "from sklearn.compose import ColumnTransformer\n",
    "from sklearn.pipeline import Pipeline\n",
    "from sklearn.model_selection import train_test_split\n",
    "from sklearn.metrics import classification_report\n",
    "from sklearn.ensemble import RandomForestClassifier"
   ]
  },
  {
   "cell_type": "markdown",
   "metadata": {},
   "source": [
    "## Multi-drug use"
   ]
  },
  {
   "cell_type": "code",
   "execution_count": 386,
   "metadata": {},
   "outputs": [
    {
     "data": {
      "text/plain": [
       "(8050, 17)"
      ]
     },
     "execution_count": 386,
     "metadata": {},
     "output_type": "execute_result"
    }
   ],
   "source": [
    "incidents = pd.read_csv('../data/Aggregated/incidents.csv', )\n",
    "incidents['Multiple Drugs'] = 0\n",
    "incidents.loc[incidents['All Drugs'].str.contains(' | ', regex = False), 'Multiple Drugs'] = 1\n",
    "incidents[incidents['Multiple Drugs'] == 1].shape"
   ]
  },
  {
   "cell_type": "code",
   "execution_count": 387,
   "metadata": {},
   "outputs": [
    {
     "data": {
      "text/plain": [
       "(7255, 18)"
      ]
     },
     "execution_count": 387,
     "metadata": {},
     "output_type": "execute_result"
    }
   ],
   "source": [
    "### fenytanl\n",
    "\n",
    "incidents['Fentnyl'] = 0\n",
    "incidents.loc[incidents['All Drugs'].str.contains('FENTANYL', regex = False), 'Fentnyl'] = 1\n",
    "incidents[incidents['Fentnyl'] == 1].shape"
   ]
  },
  {
   "cell_type": "code",
   "execution_count": 388,
   "metadata": {},
   "outputs": [
    {
     "data": {
      "text/plain": [
       "0    13342\n",
       "1     7255\n",
       "Name: Fentnyl, dtype: int64"
      ]
     },
     "execution_count": 388,
     "metadata": {},
     "output_type": "execute_result"
    }
   ],
   "source": [
    "incidents['Fentnyl'].value_counts()"
   ]
  },
  {
   "cell_type": "code",
   "execution_count": 389,
   "metadata": {},
   "outputs": [
    {
     "data": {
      "text/plain": [
       "Index(['Incident ID', 'Incident Date', 'Incident Time', 'Day',\n",
       "       'Incident County Name', 'Incident State', 'Victim ID', 'Gender Desc',\n",
       "       'Age Range', 'Race', 'Ethnicity Desc', 'Naloxone Administered',\n",
       "       'Survive', 'Response Desc', 'All Drugs', 'Incident Date ym',\n",
       "       'Multiple Drugs', 'Fentnyl'],\n",
       "      dtype='object')"
      ]
     },
     "execution_count": 389,
     "metadata": {},
     "output_type": "execute_result"
    }
   ],
   "source": [
    "incidents.columns"
   ]
  },
  {
   "cell_type": "markdown",
   "metadata": {},
   "source": [
    "### Year, Month and Age Range"
   ]
  },
  {
   "cell_type": "code",
   "execution_count": 390,
   "metadata": {},
   "outputs": [],
   "source": [
    "incidents[\"year\"] = incidents['Incident Date'].apply(lambda x: datetime.strptime(x, '%m/%d/%Y').year)\n",
    "incidents[\"month\"] = incidents['Incident Date'].apply(lambda x: datetime.strptime(x, '%m/%d/%Y').month)\n",
    "\n",
    "# Fix value typo\n",
    "incidents[\"Age Range\"] = incidents[\"Age Range\"].apply(lambda x: \"10 - 14\" if x == \"14-Oct\" else x)"
   ]
  },
  {
   "cell_type": "code",
   "execution_count": 391,
   "metadata": {},
   "outputs": [
    {
     "data": {
      "text/html": [
       "<div>\n",
       "<style scoped>\n",
       "    .dataframe tbody tr th:only-of-type {\n",
       "        vertical-align: middle;\n",
       "    }\n",
       "\n",
       "    .dataframe tbody tr th {\n",
       "        vertical-align: top;\n",
       "    }\n",
       "\n",
       "    .dataframe thead th {\n",
       "        text-align: right;\n",
       "    }\n",
       "</style>\n",
       "<table border=\"1\" class=\"dataframe\">\n",
       "  <thead>\n",
       "    <tr style=\"text-align: right;\">\n",
       "      <th></th>\n",
       "      <th>Incident ID</th>\n",
       "      <th>Incident Date</th>\n",
       "      <th>Incident Time</th>\n",
       "      <th>Day</th>\n",
       "      <th>Incident County Name</th>\n",
       "      <th>Incident State</th>\n",
       "      <th>Victim ID</th>\n",
       "      <th>Gender Desc</th>\n",
       "      <th>Age Range</th>\n",
       "      <th>Race</th>\n",
       "      <th>Ethnicity Desc</th>\n",
       "      <th>Naloxone Administered</th>\n",
       "      <th>Survive</th>\n",
       "      <th>Response Desc</th>\n",
       "      <th>All Drugs</th>\n",
       "      <th>Incident Date ym</th>\n",
       "      <th>Multiple Drugs</th>\n",
       "      <th>Fentnyl</th>\n",
       "      <th>year</th>\n",
       "      <th>month</th>\n",
       "    </tr>\n",
       "  </thead>\n",
       "  <tbody>\n",
       "    <tr>\n",
       "      <th>0</th>\n",
       "      <td>1</td>\n",
       "      <td>1/4/2018</td>\n",
       "      <td>0:42:00</td>\n",
       "      <td>Thursday</td>\n",
       "      <td>Delaware</td>\n",
       "      <td>Pennsylvania</td>\n",
       "      <td>1</td>\n",
       "      <td>Male</td>\n",
       "      <td>50 - 59</td>\n",
       "      <td>White</td>\n",
       "      <td>Not Hispanic</td>\n",
       "      <td>1</td>\n",
       "      <td>0</td>\n",
       "      <td>NO RESPONSE TO NALOXONE</td>\n",
       "      <td>COCAINE/CRACK | HEROIN</td>\n",
       "      <td>2018</td>\n",
       "      <td>1</td>\n",
       "      <td>0</td>\n",
       "      <td>2018</td>\n",
       "      <td>1</td>\n",
       "    </tr>\n",
       "    <tr>\n",
       "      <th>1</th>\n",
       "      <td>26</td>\n",
       "      <td>1/26/2018</td>\n",
       "      <td>9:14:00</td>\n",
       "      <td>Friday</td>\n",
       "      <td>Chester</td>\n",
       "      <td>Pennsylvania</td>\n",
       "      <td>5</td>\n",
       "      <td>Male</td>\n",
       "      <td>25 - 29</td>\n",
       "      <td>White</td>\n",
       "      <td>Not Hispanic</td>\n",
       "      <td>0</td>\n",
       "      <td>0</td>\n",
       "      <td>None</td>\n",
       "      <td>HEROIN</td>\n",
       "      <td>2018</td>\n",
       "      <td>0</td>\n",
       "      <td>0</td>\n",
       "      <td>2018</td>\n",
       "      <td>1</td>\n",
       "    </tr>\n",
       "  </tbody>\n",
       "</table>\n",
       "</div>"
      ],
      "text/plain": [
       "   Incident ID Incident Date Incident Time       Day Incident County Name  \\\n",
       "0            1      1/4/2018       0:42:00  Thursday             Delaware   \n",
       "1           26     1/26/2018       9:14:00    Friday              Chester   \n",
       "\n",
       "  Incident State  Victim ID Gender Desc Age Range   Race Ethnicity Desc  \\\n",
       "0   Pennsylvania          1        Male   50 - 59  White   Not Hispanic   \n",
       "1   Pennsylvania          5        Male   25 - 29  White   Not Hispanic   \n",
       "\n",
       "   Naloxone Administered  Survive            Response Desc  \\\n",
       "0                      1        0  NO RESPONSE TO NALOXONE   \n",
       "1                      0        0                     None   \n",
       "\n",
       "                All Drugs  Incident Date ym  Multiple Drugs  Fentnyl  year  \\\n",
       "0  COCAINE/CRACK | HEROIN              2018               1        0  2018   \n",
       "1                  HEROIN              2018               0        0  2018   \n",
       "\n",
       "   month  \n",
       "0      1  \n",
       "1      1  "
      ]
     },
     "execution_count": 391,
     "metadata": {},
     "output_type": "execute_result"
    }
   ],
   "source": [
    "incidents.head(2)"
   ]
  },
  {
   "cell_type": "code",
   "execution_count": 392,
   "metadata": {},
   "outputs": [
    {
     "data": {
      "text/plain": [
       "30 - 39    7653\n",
       "25 - 29    4082\n",
       "40 - 49    3434\n",
       "20 - 24    2030\n",
       "50 - 59    1871\n",
       "60 - 69     634\n",
       "0 - 9       530\n",
       "15 - 19     276\n",
       "70 - 79      70\n",
       "80 - *       10\n",
       "10 - 14       7\n",
       "Name: Age Range, dtype: int64"
      ]
     },
     "execution_count": 392,
     "metadata": {},
     "output_type": "execute_result"
    }
   ],
   "source": [
    "incidents['Age Range'].value_counts()"
   ]
  },
  {
   "cell_type": "code",
   "execution_count": 393,
   "metadata": {},
   "outputs": [],
   "source": [
    "def agerange_weekend(df):\n",
    "    for i, row in df.iterrows():\n",
    "        if row['Day'] == 'Friday' or row['Day'] == 'Saturday' or row['Day'] == 'Sunday':\n",
    "            df.loc[i,'Weekend_OD'] = 1\n",
    "        else:\n",
    "            df.loc[i,'Weekend_OD'] = 0\n",
    "        \n",
    "        if row['month'] == 1 or row['month'] == 12 or row['month'] == 2:\n",
    "            df.loc[i,'Season'] = 'Winter'\n",
    "        elif row['month'] == 3 or row['month'] == 4 or row['month'] == 5:\n",
    "            df.loc[i,'Season'] = 'Spring'\n",
    "        elif row['month'] == 6 or row['month'] == 7 or row['month'] == 8:\n",
    "            df.loc[i,'Season'] = 'Summer'\n",
    "        elif row['month'] == 9 or row['month'] == 10 or row['month'] == 11:\n",
    "            df.loc[i,'Season'] = 'Fall' \n",
    "            \n",
    "        if row['Age Range'] == '0 - 9' or row['Age Range'] == '10 - 14' or row['Age Range'] == '15 - 19' or row['Age Range'] == '20 - 24' or row['Age Range'] == '30 - 39':\n",
    "            df.loc[i,'Over 40'] = 0\n",
    "        else:    \n",
    "        \n",
    "            df.loc[i,'Over 40'] = 1\n",
    "            \n",
    "    return(df)            \n",
    "                \n",
    "            \n",
    "            \n",
    "            "
   ]
  },
  {
   "cell_type": "code",
   "execution_count": 394,
   "metadata": {},
   "outputs": [],
   "source": [
    "incidents2 = agerange_weekend(incidents.copy())"
   ]
  },
  {
   "cell_type": "code",
   "execution_count": 395,
   "metadata": {},
   "outputs": [
    {
     "data": {
      "text/html": [
       "<div>\n",
       "<style scoped>\n",
       "    .dataframe tbody tr th:only-of-type {\n",
       "        vertical-align: middle;\n",
       "    }\n",
       "\n",
       "    .dataframe tbody tr th {\n",
       "        vertical-align: top;\n",
       "    }\n",
       "\n",
       "    .dataframe thead th {\n",
       "        text-align: right;\n",
       "    }\n",
       "</style>\n",
       "<table border=\"1\" class=\"dataframe\">\n",
       "  <thead>\n",
       "    <tr style=\"text-align: right;\">\n",
       "      <th></th>\n",
       "      <th>Incident ID</th>\n",
       "      <th>Incident Date</th>\n",
       "      <th>Incident Time</th>\n",
       "      <th>Day</th>\n",
       "      <th>Incident County Name</th>\n",
       "      <th>Incident State</th>\n",
       "      <th>Victim ID</th>\n",
       "      <th>Gender Desc</th>\n",
       "      <th>Age Range</th>\n",
       "      <th>Race</th>\n",
       "      <th>...</th>\n",
       "      <th>Response Desc</th>\n",
       "      <th>All Drugs</th>\n",
       "      <th>Incident Date ym</th>\n",
       "      <th>Multiple Drugs</th>\n",
       "      <th>Fentnyl</th>\n",
       "      <th>year</th>\n",
       "      <th>month</th>\n",
       "      <th>Weekend_OD</th>\n",
       "      <th>Season</th>\n",
       "      <th>Over 40</th>\n",
       "    </tr>\n",
       "  </thead>\n",
       "  <tbody>\n",
       "    <tr>\n",
       "      <th>0</th>\n",
       "      <td>1</td>\n",
       "      <td>1/4/2018</td>\n",
       "      <td>0:42:00</td>\n",
       "      <td>Thursday</td>\n",
       "      <td>Delaware</td>\n",
       "      <td>Pennsylvania</td>\n",
       "      <td>1</td>\n",
       "      <td>Male</td>\n",
       "      <td>50 - 59</td>\n",
       "      <td>White</td>\n",
       "      <td>...</td>\n",
       "      <td>NO RESPONSE TO NALOXONE</td>\n",
       "      <td>COCAINE/CRACK | HEROIN</td>\n",
       "      <td>2018</td>\n",
       "      <td>1</td>\n",
       "      <td>0</td>\n",
       "      <td>2018</td>\n",
       "      <td>1</td>\n",
       "      <td>0.0</td>\n",
       "      <td>Winter</td>\n",
       "      <td>1.0</td>\n",
       "    </tr>\n",
       "    <tr>\n",
       "      <th>1</th>\n",
       "      <td>26</td>\n",
       "      <td>1/26/2018</td>\n",
       "      <td>9:14:00</td>\n",
       "      <td>Friday</td>\n",
       "      <td>Chester</td>\n",
       "      <td>Pennsylvania</td>\n",
       "      <td>5</td>\n",
       "      <td>Male</td>\n",
       "      <td>25 - 29</td>\n",
       "      <td>White</td>\n",
       "      <td>...</td>\n",
       "      <td>None</td>\n",
       "      <td>HEROIN</td>\n",
       "      <td>2018</td>\n",
       "      <td>0</td>\n",
       "      <td>0</td>\n",
       "      <td>2018</td>\n",
       "      <td>1</td>\n",
       "      <td>1.0</td>\n",
       "      <td>Winter</td>\n",
       "      <td>1.0</td>\n",
       "    </tr>\n",
       "  </tbody>\n",
       "</table>\n",
       "<p>2 rows × 23 columns</p>\n",
       "</div>"
      ],
      "text/plain": [
       "   Incident ID Incident Date Incident Time       Day Incident County Name  \\\n",
       "0            1      1/4/2018       0:42:00  Thursday             Delaware   \n",
       "1           26     1/26/2018       9:14:00    Friday              Chester   \n",
       "\n",
       "  Incident State  Victim ID Gender Desc Age Range   Race  ...  \\\n",
       "0   Pennsylvania          1        Male   50 - 59  White  ...   \n",
       "1   Pennsylvania          5        Male   25 - 29  White  ...   \n",
       "\n",
       "             Response Desc               All Drugs  Incident Date ym  \\\n",
       "0  NO RESPONSE TO NALOXONE  COCAINE/CRACK | HEROIN              2018   \n",
       "1                     None                  HEROIN              2018   \n",
       "\n",
       "  Multiple Drugs Fentnyl  year  month  Weekend_OD  Season  Over 40  \n",
       "0              1       0  2018      1         0.0  Winter      1.0  \n",
       "1              0       0  2018      1         1.0  Winter      1.0  \n",
       "\n",
       "[2 rows x 23 columns]"
      ]
     },
     "execution_count": 395,
     "metadata": {},
     "output_type": "execute_result"
    }
   ],
   "source": [
    "incidents2.head(2)"
   ]
  },
  {
   "cell_type": "code",
   "execution_count": 396,
   "metadata": {},
   "outputs": [],
   "source": [
    "incidents2[['hour','min','second']] = incidents2['Incident Time'].str.split(':',expand=True)"
   ]
  },
  {
   "cell_type": "code",
   "execution_count": 397,
   "metadata": {},
   "outputs": [],
   "source": [
    "def hoursplit(df):\n",
    "    for i, row in df.iterrows():\n",
    "        if row['hour'] in['1','2','3','4']:\n",
    "            df.loc[i, 'time_period'] ='late_evening'\n",
    "        elif row['hour'] in['5','6','7','8','9']: \n",
    "            df.loc[i, 'time_period'] ='early_morning'\n",
    "        elif row['hour'] in['10','11','12','13','14']: \n",
    "            df.loc[i, 'time_period'] ='morning_afternoon'  \n",
    "        elif row['hour'] in['15','16','17','18','19']: \n",
    "            df.loc[i, 'time_period'] ='afternoon_even'\n",
    "        else:\n",
    "            df.loc[i, 'time_period'] = 'evening'\n",
    "    return(df)                \n",
    "            "
   ]
  },
  {
   "cell_type": "code",
   "execution_count": 398,
   "metadata": {},
   "outputs": [],
   "source": [
    "incidents2 = hoursplit(incidents2.copy())"
   ]
  },
  {
   "cell_type": "code",
   "execution_count": 399,
   "metadata": {},
   "outputs": [],
   "source": [
    "incidents2['Over 40'] = incidents2['Over 40'].astype(int)\n",
    "incidents2['Weekend_OD'] = incidents2['Weekend_OD'].astype(int)"
   ]
  },
  {
   "cell_type": "code",
   "execution_count": 400,
   "metadata": {},
   "outputs": [
    {
     "data": {
      "text/plain": [
       "Incident ID               int64\n",
       "Incident Date            object\n",
       "Incident Time            object\n",
       "Day                      object\n",
       "Incident County Name     object\n",
       "Incident State           object\n",
       "Victim ID                 int64\n",
       "Gender Desc              object\n",
       "Age Range                object\n",
       "Race                     object\n",
       "Ethnicity Desc           object\n",
       "Naloxone Administered     int64\n",
       "Survive                   int64\n",
       "Response Desc            object\n",
       "All Drugs                object\n",
       "Incident Date ym          int64\n",
       "Multiple Drugs            int64\n",
       "Fentnyl                   int64\n",
       "year                      int64\n",
       "month                     int64\n",
       "Weekend_OD                int32\n",
       "Season                   object\n",
       "Over 40                   int32\n",
       "hour                     object\n",
       "min                      object\n",
       "second                   object\n",
       "time_period              object\n",
       "dtype: object"
      ]
     },
     "execution_count": 400,
     "metadata": {},
     "output_type": "execute_result"
    }
   ],
   "source": [
    "incidents2.dtypes"
   ]
  },
  {
   "cell_type": "code",
   "execution_count": null,
   "metadata": {},
   "outputs": [],
   "source": []
  },
  {
   "cell_type": "code",
   "execution_count": 402,
   "metadata": {},
   "outputs": [],
   "source": [
    "\n",
    "\n",
    "X = incidents2[['Season','Weekend_OD','Fentnyl','Race','Incident County Name','time_period']]\n",
    "y = incidents2[['Naloxone Administered']]"
   ]
  },
  {
   "cell_type": "code",
   "execution_count": 403,
   "metadata": {},
   "outputs": [
    {
     "data": {
      "text/plain": [
       "1    14151\n",
       "0     6446\n",
       "Name: Naloxone Administered, dtype: int64"
      ]
     },
     "execution_count": 403,
     "metadata": {},
     "output_type": "execute_result"
    }
   ],
   "source": [
    "y['Naloxone Administered'].value_counts()"
   ]
  },
  {
   "cell_type": "code",
   "execution_count": 404,
   "metadata": {},
   "outputs": [],
   "source": [
    "class_weight_m = {0:14151,1:6446}"
   ]
  },
  {
   "cell_type": "markdown",
   "metadata": {},
   "source": [
    "## Pipeline Definition"
   ]
  },
  {
   "cell_type": "code",
   "execution_count": 405,
   "metadata": {},
   "outputs": [],
   "source": [
    "##pipeline  \n",
    "label_features =['Season','Race','Incident County Name','time_period']\n",
    "label_transformer = OneHotEncoder(sparse = False, handle_unknown = 'ignore')\n",
    "\n",
    "\n",
    "\n",
    "preprocessor = ColumnTransformer(\n",
    "    transformers=[\n",
    "        ('label', label_transformer, label_features)\n",
    "        ])   \n",
    "\n",
    "\n",
    "model =  Pipeline(steps=[('preprocessor', preprocessor),\n",
    "                      ('randomforest', RandomForestClassifier(n_estimators=1000,\n",
    "                                                              class_weight=class_weight_m))])"
   ]
  },
  {
   "cell_type": "code",
   "execution_count": 406,
   "metadata": {},
   "outputs": [],
   "source": [
    "# Split data with stratify\n",
    "X_train, X_test, y_train, y_test = train_test_split(\n",
    "    X, y, stratify=y, random_state=43)"
   ]
  },
  {
   "cell_type": "code",
   "execution_count": 407,
   "metadata": {},
   "outputs": [
    {
     "name": "stderr",
     "output_type": "stream",
     "text": [
      "C:\\Users\\Loganj2\\AppData\\Local\\Continuum\\anaconda3\\lib\\site-packages\\sklearn\\pipeline.py:267: DataConversionWarning: A column-vector y was passed when a 1d array was expected. Please change the shape of y to (n_samples,), for example using ravel().\n",
      "  self._final_estimator.fit(Xt, y, **fit_params)\n"
     ]
    },
    {
     "data": {
      "text/plain": [
       "Pipeline(memory=None,\n",
       "     steps=[('preprocessor', ColumnTransformer(n_jobs=None, remainder='drop', sparse_threshold=0.3,\n",
       "         transformer_weights=None,\n",
       "         transformers=[('label', OneHotEncoder(categorical_features=None, categories=None,\n",
       "       dtype=<class 'numpy.float64'>, handle_unknown='ignore',\n",
       "       n_values=...rs=1000, n_jobs=None, oob_score=False,\n",
       "            random_state=None, verbose=0, warm_start=False))])"
      ]
     },
     "execution_count": 407,
     "metadata": {},
     "output_type": "execute_result"
    }
   ],
   "source": [
    "model.fit(X_train,y_train)\n"
   ]
  },
  {
   "cell_type": "code",
   "execution_count": 408,
   "metadata": {},
   "outputs": [
    {
     "name": "stdout",
     "output_type": "stream",
     "text": [
      "accuracy: 0.6215533980582524\n"
     ]
    }
   ],
   "source": [
    "predictions_classweights = model.predict(X_test)\n",
    "print(\"accuracy:\",accuracy_score(y_test, predictions_classweights))"
   ]
  },
  {
   "cell_type": "code",
   "execution_count": 409,
   "metadata": {},
   "outputs": [
    {
     "name": "stderr",
     "output_type": "stream",
     "text": [
      "C:\\Users\\Loganj2\\AppData\\Local\\Continuum\\anaconda3\\lib\\site-packages\\sklearn\\pipeline.py:267: DataConversionWarning: A column-vector y was passed when a 1d array was expected. Please change the shape of y to (n_samples,), for example using ravel().\n",
      "  self._final_estimator.fit(Xt, y, **fit_params)\n"
     ]
    },
    {
     "name": "stdout",
     "output_type": "stream",
     "text": [
      "0.6270322737199708\n"
     ]
    },
    {
     "name": "stderr",
     "output_type": "stream",
     "text": [
      "C:\\Users\\Loganj2\\AppData\\Local\\Continuum\\anaconda3\\lib\\site-packages\\sklearn\\pipeline.py:267: DataConversionWarning: A column-vector y was passed when a 1d array was expected. Please change the shape of y to (n_samples,), for example using ravel().\n",
      "  self._final_estimator.fit(Xt, y, **fit_params)\n"
     ]
    },
    {
     "name": "stdout",
     "output_type": "stream",
     "text": [
      "0.6219956300072833\n"
     ]
    },
    {
     "name": "stderr",
     "output_type": "stream",
     "text": [
      "C:\\Users\\Loganj2\\AppData\\Local\\Continuum\\anaconda3\\lib\\site-packages\\sklearn\\pipeline.py:267: DataConversionWarning: A column-vector y was passed when a 1d array was expected. Please change the shape of y to (n_samples,), for example using ravel().\n",
      "  self._final_estimator.fit(Xt, y, **fit_params)\n"
     ]
    },
    {
     "name": "stdout",
     "output_type": "stream",
     "text": [
      "0.623937848992474\n"
     ]
    },
    {
     "name": "stderr",
     "output_type": "stream",
     "text": [
      "C:\\Users\\Loganj2\\AppData\\Local\\Continuum\\anaconda3\\lib\\site-packages\\sklearn\\pipeline.py:267: DataConversionWarning: A column-vector y was passed when a 1d array was expected. Please change the shape of y to (n_samples,), for example using ravel().\n",
      "  self._final_estimator.fit(Xt, y, **fit_params)\n"
     ]
    },
    {
     "name": "stdout",
     "output_type": "stream",
     "text": [
      "0.6120417577081816\n"
     ]
    },
    {
     "name": "stderr",
     "output_type": "stream",
     "text": [
      "C:\\Users\\Loganj2\\AppData\\Local\\Continuum\\anaconda3\\lib\\site-packages\\sklearn\\pipeline.py:267: DataConversionWarning: A column-vector y was passed when a 1d array was expected. Please change the shape of y to (n_samples,), for example using ravel().\n",
      "  self._final_estimator.fit(Xt, y, **fit_params)\n"
     ]
    },
    {
     "name": "stdout",
     "output_type": "stream",
     "text": [
      "0.6246661811119204\n"
     ]
    }
   ],
   "source": [
    "from sklearn.model_selection import StratifiedKFold\n",
    "import numpy\n",
    "kf = StratifiedKFold(n_splits=5,random_state=0, shuffle=True)\n",
    "\n",
    " \n",
    "acc_score = []\n",
    "pred = []\n",
    "y_test_all = []\n",
    "predprob = []\n",
    " \n",
    "for train_index , test_index in kf.split(X,y):\n",
    "    X_train , X_test = X.iloc[train_index,:],X.iloc[test_index,:]\n",
    "    y_train , y_test = y.iloc[train_index] , y.iloc[test_index]\n",
    "     \n",
    "    model.fit(X_train,y_train)\n",
    "    print(model.score(X_test, y_test))\n",
    "    num = model.score(X_test, y_test)\n",
    "    num = num.astype(float)\n",
    "    acc_score.append(num)\n",
    "    predictions_classweights = model.predict(X_test)\n",
    "    proba = model.predict_proba(X_test)\n",
    "    predprob.append(proba)                           \n",
    "    \n",
    "    #predict_class = np.argmax(test_predictions, axis=1)\n",
    "    #predict_class = predict_class.tolist()\n",
    "    \n",
    "    pred.append(predictions_classweights)\n",
    "    y_test_all.append(y_test)\n"
   ]
  },
  {
   "cell_type": "code",
   "execution_count": 410,
   "metadata": {},
   "outputs": [],
   "source": [
    "pred_master = np.hstack(([pred[0],pred[1],pred[2],pred[3],pred[4]]))\n",
    "y_test_master = pd.concat(y_test_all)"
   ]
  },
  {
   "cell_type": "code",
   "execution_count": 411,
   "metadata": {},
   "outputs": [],
   "source": [
    "pr0 = pd.DataFrame(predprob[0],columns=['zero','one'])\n",
    "pr1 = pd.DataFrame(predprob[1],columns=['zero','one'])\n",
    "pr2 = pd.DataFrame(predprob[2],columns=['zero','one'])\n",
    "pr3 = pd.DataFrame(predprob[3],columns=['zero','one'])\n",
    "pr4 = pd.DataFrame(predprob[4],columns=['zero','one'])"
   ]
  },
  {
   "cell_type": "code",
   "execution_count": 412,
   "metadata": {},
   "outputs": [],
   "source": [
    "prdf1 = pd.concat([pr0,pr1,pr2,pr3,pr4])\n",
    "prdf1 = prdf1[['one']]\n",
    "prdf2 =prdf1.copy()"
   ]
  },
  {
   "cell_type": "code",
   "execution_count": 413,
   "metadata": {},
   "outputs": [],
   "source": [
    "prdf2['one'] = np.select([prdf2['one']>=.54],  ### setting threshold\n",
    "                        [1],\n",
    "                        default=0)"
   ]
  },
  {
   "cell_type": "code",
   "execution_count": 414,
   "metadata": {},
   "outputs": [],
   "source": [
    "confusion = confusion_matrix(y_test_master,prdf2)"
   ]
  },
  {
   "cell_type": "code",
   "execution_count": 415,
   "metadata": {},
   "outputs": [
    {
     "name": "stdout",
     "output_type": "stream",
     "text": [
      "[[3835 2611]\n",
      " [5940 8211]]\n"
     ]
    }
   ],
   "source": [
    "print(confusion)"
   ]
  },
  {
   "cell_type": "code",
   "execution_count": 416,
   "metadata": {},
   "outputs": [
    {
     "name": "stdout",
     "output_type": "stream",
     "text": [
      "                    precision    recall  f1-score   support\n",
      "\n",
      "Not Given Naloxone       0.39      0.59      0.47      6446\n",
      "    Given Naloxone       0.76      0.58      0.66     14151\n",
      "\n",
      "         micro avg       0.58      0.58      0.58     20597\n",
      "         macro avg       0.58      0.59      0.57     20597\n",
      "      weighted avg       0.64      0.58      0.60     20597\n",
      "\n"
     ]
    }
   ],
   "source": [
    "target_names = ['Not Given Naloxone', 'Given Naloxone']\n",
    "print(classification_report(y_test_master, prdf2, target_names=target_names))"
   ]
  },
  {
   "cell_type": "code",
   "execution_count": 417,
   "metadata": {},
   "outputs": [
    {
     "data": {
      "image/png": "[encoded data removed]",
      "text/plain": [
       "<Figure size 720x720 with 1 Axes>"
      ]
     },
     "metadata": {
      "needs_background": "light"
     },
     "output_type": "display_data"
    }
   ],
   "source": [
    "fpr, tpr, _ = metrics.roc_curve(y_test_master,prdf1)\n",
    "auc = metrics.roc_auc_score(y_test_master,prdf1)\n",
    "plt.figure(figsize=(10,10))\n",
    "plt.plot(fpr,tpr,label=\" auc=\"+str(auc))\n",
    "plt.legend(loc=4)\n",
    "plt.show()"
   ]
  },
  {
   "cell_type": "code",
   "execution_count": 418,
   "metadata": {},
   "outputs": [],
   "source": [
    "\n",
    "#### for gini importance\n",
    "from sklearn.feature_extraction import DictVectorizer\n",
    "from sklearn.preprocessing import FunctionTransformer\n",
    "from sklearn.pipeline import make_pipeline"
   ]
  },
  {
   "cell_type": "code",
   "execution_count": 419,
   "metadata": {},
   "outputs": [
    {
     "name": "stderr",
     "output_type": "stream",
     "text": [
      "C:\\Users\\Loganj2\\AppData\\Local\\Continuum\\anaconda3\\lib\\site-packages\\sklearn\\pipeline.py:267: DataConversionWarning: A column-vector y was passed when a 1d array was expected. Please change the shape of y to (n_samples,), for example using ravel().\n",
      "  self._final_estimator.fit(Xt, y, **fit_params)\n"
     ]
    }
   ],
   "source": [
    "def row_to_dict(x,y=None):\n",
    "    return X.apply(dict,axis=1)\n",
    "    \n",
    "ft = FunctionTransformer(row_to_dict, validate=False)\n",
    "dv = DictVectorizer()\n",
    "rf = RandomForestClassifier(n_estimators=1000)\n",
    "\n",
    "model = make_pipeline(ft,dv,rf)\n",
    "model.fit(X,y)\n",
    "feature_importances = zip(dv.feature_names_,rf.feature_importances_)\n",
    "\n",
    " \n",
    "\n"
   ]
  },
  {
   "cell_type": "code",
   "execution_count": 420,
   "metadata": {},
   "outputs": [
    {
     "data": {
      "text/plain": [
       "['Fentnyl',\n",
       " 'Incident County Name=Adams',\n",
       " 'Incident County Name=Allegheny',\n",
       " 'Incident County Name=Armstrong',\n",
       " 'Incident County Name=Beaver',\n",
       " 'Incident County Name=Bedford',\n",
       " 'Incident County Name=Berks',\n",
       " 'Incident County Name=Blair',\n",
       " 'Incident County Name=Bradford',\n",
       " 'Incident County Name=Bucks',\n",
       " 'Incident County Name=Butler',\n",
       " 'Incident County Name=Cambria',\n",
       " 'Incident County Name=Carbon',\n",
       " 'Incident County Name=Centre',\n",
       " 'Incident County Name=Chester',\n",
       " 'Incident County Name=Clarion',\n",
       " 'Incident County Name=Clearfield',\n",
       " 'Incident County Name=Clinton',\n",
       " 'Incident County Name=Columbia',\n",
       " 'Incident County Name=Crawford',\n",
       " 'Incident County Name=Cumberland',\n",
       " 'Incident County Name=Dauphin',\n",
       " 'Incident County Name=Delaware',\n",
       " 'Incident County Name=Elk',\n",
       " 'Incident County Name=Erie',\n",
       " 'Incident County Name=Fayette',\n",
       " 'Incident County Name=Forest',\n",
       " 'Incident County Name=Franklin',\n",
       " 'Incident County Name=Fulton',\n",
       " 'Incident County Name=Greene',\n",
       " 'Incident County Name=Huntingdon',\n",
       " 'Incident County Name=Indiana',\n",
       " 'Incident County Name=Jefferson',\n",
       " 'Incident County Name=Juniata',\n",
       " 'Incident County Name=Lackawanna',\n",
       " 'Incident County Name=Lancaster',\n",
       " 'Incident County Name=Lawrence',\n",
       " 'Incident County Name=Lebanon',\n",
       " 'Incident County Name=Lehigh',\n",
       " 'Incident County Name=Luzerne',\n",
       " 'Incident County Name=Lycoming',\n",
       " 'Incident County Name=McKean',\n",
       " 'Incident County Name=Mercer',\n",
       " 'Incident County Name=Mifflin',\n",
       " 'Incident County Name=Monroe',\n",
       " 'Incident County Name=Montgomery',\n",
       " 'Incident County Name=Montour',\n",
       " 'Incident County Name=Northampton',\n",
       " 'Incident County Name=Northumberland',\n",
       " 'Incident County Name=Perry',\n",
       " 'Incident County Name=Philadelphia',\n",
       " 'Incident County Name=Pike',\n",
       " 'Incident County Name=Potter',\n",
       " 'Incident County Name=Schuylkill',\n",
       " 'Incident County Name=Snyder',\n",
       " 'Incident County Name=Somerset',\n",
       " 'Incident County Name=Sullivan',\n",
       " 'Incident County Name=Susquehanna',\n",
       " 'Incident County Name=Tioga',\n",
       " 'Incident County Name=Union',\n",
       " 'Incident County Name=Venango',\n",
       " 'Incident County Name=Warren',\n",
       " 'Incident County Name=Washington',\n",
       " 'Incident County Name=Wayne',\n",
       " 'Incident County Name=Westmoreland',\n",
       " 'Incident County Name=Wyoming',\n",
       " 'Incident County Name=York',\n",
       " 'Race=American Indian or Alaskan Native',\n",
       " 'Race=Asian or Pacific Islander',\n",
       " 'Race=Black',\n",
       " 'Race=Unknown',\n",
       " 'Race=White',\n",
       " 'Season=Fall',\n",
       " 'Season=Spring',\n",
       " 'Season=Summer',\n",
       " 'Season=Winter',\n",
       " 'Weekend_OD',\n",
       " 'time_period=afternoon_even',\n",
       " 'time_period=early_morning',\n",
       " 'time_period=evening',\n",
       " 'time_period=late_evening',\n",
       " 'time_period=morning_afternoon']"
      ]
     },
     "execution_count": 420,
     "metadata": {},
     "output_type": "execute_result"
    }
   ],
   "source": [
    "dv.feature_names_"
   ]
  },
  {
   "cell_type": "code",
   "execution_count": 440,
   "metadata": {},
   "outputs": [],
   "source": [
    "Fentnyl = rf.feature_importances_[0]\n",
    "County = sum(rf.feature_importances_[1:67])\n",
    "Race = sum(rf.feature_importances_[67:72])\n",
    "Season = sum(rf.feature_importances_[72:76])\n",
    "Weekend_OD = rf.feature_importances_[76]\n",
    "Time_period = sum(rf.feature_importances_[77:82])"
   ]
  },
  {
   "cell_type": "code",
   "execution_count": 441,
   "metadata": {},
   "outputs": [],
   "source": [
    "features=['Fentnyl','County','Race','Season','Weekend_OD','Time_Period']\n",
    "importance=[Fentnyl,County,Race,Season,Weekend_OD,Time_period]"
   ]
  },
  {
   "cell_type": "code",
   "execution_count": 442,
   "metadata": {},
   "outputs": [],
   "source": [
    "feats = {}\n",
    "for feature, importance in zip(features,importance):\n",
    "    feats[feature] = importance\n",
    "    "
   ]
  },
  {
   "cell_type": "code",
   "execution_count": 443,
   "metadata": {},
   "outputs": [
    {
     "data": {
      "text/plain": [
       "<matplotlib.axes._subplots.AxesSubplot at 0x1a4aeeb68d0>"
      ]
     },
     "execution_count": 443,
     "metadata": {},
     "output_type": "execute_result"
    },
    {
     "data": {
      "image/png": "[encoded data removed]",
      "text/plain": [
       "<Figure size 1440x360 with 1 Axes>"
      ]
     },
     "metadata": {
      "needs_background": "light"
     },
     "output_type": "display_data"
    }
   ],
   "source": [
    "importances = pd.DataFrame.from_dict(feats, orient='index').rename(columns={0: 'Gini-importance'})\n",
    "importances.sort_values(by='Gini-importance').plot(kind='bar', rot=75, figsize =(20,5))"
   ]
  },
  {
   "cell_type": "code",
   "execution_count": null,
   "metadata": {},
   "outputs": [],
   "source": []
  },
  {
   "cell_type": "code",
   "execution_count": null,
   "metadata": {},
   "outputs": [],
   "source": []
  }
 ],
 "metadata": {
  "kernelspec": {
   "display_name": "Python 3",
   "language": "python",
   "name": "python3"
  },
  "language_info": {
   "codemirror_mode": {
    "name": "ipython",
    "version": 3
   },
   "file_extension": ".py",
   "mimetype": "text/x-python",
   "name": "python",
   "nbconvert_exporter": "python",
   "pygments_lexer": "ipython3",
   "version": "3.7.3"
  }
 },
 "nbformat": 4,
 "nbformat_minor": 5
}
