{
 "cells": [
  {
   "cell_type": "markdown",
   "id": "fb8668d6",
   "metadata": {},
   "source": [
    "# Setup"
   ]
  },
  {
   "cell_type": "code",
   "execution_count": 2,
   "id": "0ce030cb",
   "metadata": {},
   "outputs": [],
   "source": [
    "import pandas as pd\n",
    "import numpy as np\n",
    "import seaborn as sns\n",
    "import matplotlib.pyplot as plt\n",
    "from datetime import datetime\n",
    "\n",
    "# SKlearn \n",
    "from sklearn.metrics import confusion_matrix, f1_score, precision_score, recall_score,accuracy_score\n",
    "from sklearn import metrics\n",
    "\n",
    "from sklearn.preprocessing import OneHotEncoder,StandardScaler\n",
    "from sklearn.compose import ColumnTransformer\n",
    "from sklearn.pipeline import Pipeline\n",
    "from sklearn.model_selection import train_test_split\n",
    "from sklearn.metrics import classification_report\n",
    "from sklearn.ensemble import RandomForestClassifier"
   ]
  },
  {
   "cell_type": "markdown",
   "id": "219a64f2",
   "metadata": {},
   "source": [
    "## Multi-drug use"
   ]
  },
  {
   "cell_type": "code",
   "execution_count": 3,
   "id": "f8682d7c",
   "metadata": {},
   "outputs": [
    {
     "data": {
      "text/plain": [
       "(8050, 17)"
      ]
     },
     "execution_count": 3,
     "metadata": {},
     "output_type": "execute_result"
    }
   ],
   "source": [
    "incidents = pd.read_csv('../data/Aggregated/incidents.csv', )\n",
    "incidents['Multiple Drugs'] = 0\n",
    "incidents.loc[incidents['All Drugs'].str.contains(' | ', regex = False), 'Multiple Drugs'] = 1\n",
    "incidents[incidents['Multiple Drugs'] == 1].shape"
   ]
  },
  {
   "cell_type": "code",
   "execution_count": 4,
   "id": "ff511e7b",
   "metadata": {},
   "outputs": [
    {
     "data": {
      "text/plain": [
       "(7255, 18)"
      ]
     },
     "execution_count": 4,
     "metadata": {},
     "output_type": "execute_result"
    }
   ],
   "source": [
    "### fenytanl\n",
    "\n",
    "incidents['Fentnyl'] = 0\n",
    "incidents.loc[incidents['All Drugs'].str.contains('FENTANYL', regex = False), 'Fentnyl'] = 1\n",
    "incidents[incidents['Fentnyl'] == 1].shape"
   ]
  },
  {
   "cell_type": "code",
   "execution_count": 5,
   "id": "9aac227e",
   "metadata": {},
   "outputs": [
    {
     "data": {
      "text/plain": [
       "0    13342\n",
       "1     7255\n",
       "Name: Fentnyl, dtype: int64"
      ]
     },
     "execution_count": 5,
     "metadata": {},
     "output_type": "execute_result"
    }
   ],
   "source": [
    "incidents['Fentnyl'].value_counts()"
   ]
  },
  {
   "cell_type": "code",
   "execution_count": 6,
   "id": "6e61ebab",
   "metadata": {},
   "outputs": [
    {
     "data": {
      "text/plain": [
       "Index(['Incident ID', 'Incident Date', 'Incident Time', 'Day',\n",
       "       'Incident County Name', 'Incident State', 'Victim ID', 'Gender Desc',\n",
       "       'Age Range', 'Race', 'Ethnicity Desc', 'Naloxone Administered',\n",
       "       'Survive', 'Response Desc', 'All Drugs', 'Incident Date ym',\n",
       "       'Multiple Drugs', 'Fentnyl'],\n",
       "      dtype='object')"
      ]
     },
     "execution_count": 6,
     "metadata": {},
     "output_type": "execute_result"
    }
   ],
   "source": [
    "incidents.columns"
   ]
  },
  {
   "cell_type": "markdown",
   "id": "999d390e",
   "metadata": {},
   "source": [
    "### Year, Month and Age Range"
   ]
  },
  {
   "cell_type": "code",
   "execution_count": 7,
   "id": "884d45ca",
   "metadata": {},
   "outputs": [],
   "source": [
    "incidents[\"year\"] = incidents['Incident Date'].apply(lambda x: datetime.strptime(x, '%m/%d/%Y').year)\n",
    "incidents[\"month\"] = incidents['Incident Date'].apply(lambda x: datetime.strptime(x, '%m/%d/%Y').month)\n",
    "\n",
    "# Fix value typo\n",
    "incidents[\"Age Range\"] = incidents[\"Age Range\"].apply(lambda x: \"10 - 14\" if x == \"14-Oct\" else x)"
   ]
  },
  {
   "cell_type": "code",
   "execution_count": 8,
   "id": "cc06e94b",
   "metadata": {},
   "outputs": [
    {
     "data": {
      "text/html": [
       "<div>\n",
       "<style scoped>\n",
       "    .dataframe tbody tr th:only-of-type {\n",
       "        vertical-align: middle;\n",
       "    }\n",
       "\n",
       "    .dataframe tbody tr th {\n",
       "        vertical-align: top;\n",
       "    }\n",
       "\n",
       "    .dataframe thead th {\n",
       "        text-align: right;\n",
       "    }\n",
       "</style>\n",
       "<table border=\"1\" class=\"dataframe\">\n",
       "  <thead>\n",
       "    <tr style=\"text-align: right;\">\n",
       "      <th></th>\n",
       "      <th>Incident ID</th>\n",
       "      <th>Incident Date</th>\n",
       "      <th>Incident Time</th>\n",
       "      <th>Day</th>\n",
       "      <th>Incident County Name</th>\n",
       "      <th>Incident State</th>\n",
       "      <th>Victim ID</th>\n",
       "      <th>Gender Desc</th>\n",
       "      <th>Age Range</th>\n",
       "      <th>Race</th>\n",
       "      <th>Ethnicity Desc</th>\n",
       "      <th>Naloxone Administered</th>\n",
       "      <th>Survive</th>\n",
       "      <th>Response Desc</th>\n",
       "      <th>All Drugs</th>\n",
       "      <th>Incident Date ym</th>\n",
       "      <th>Multiple Drugs</th>\n",
       "      <th>Fentnyl</th>\n",
       "      <th>year</th>\n",
       "      <th>month</th>\n",
       "    </tr>\n",
       "  </thead>\n",
       "  <tbody>\n",
       "    <tr>\n",
       "      <th>0</th>\n",
       "      <td>1</td>\n",
       "      <td>1/4/2018</td>\n",
       "      <td>0:42:00</td>\n",
       "      <td>Thursday</td>\n",
       "      <td>Delaware</td>\n",
       "      <td>Pennsylvania</td>\n",
       "      <td>1</td>\n",
       "      <td>Male</td>\n",
       "      <td>50 - 59</td>\n",
       "      <td>White</td>\n",
       "      <td>Not Hispanic</td>\n",
       "      <td>1</td>\n",
       "      <td>0</td>\n",
       "      <td>NO RESPONSE TO NALOXONE</td>\n",
       "      <td>COCAINE/CRACK | HEROIN</td>\n",
       "      <td>2018</td>\n",
       "      <td>1</td>\n",
       "      <td>0</td>\n",
       "      <td>2018</td>\n",
       "      <td>1</td>\n",
       "    </tr>\n",
       "    <tr>\n",
       "      <th>1</th>\n",
       "      <td>26</td>\n",
       "      <td>1/26/2018</td>\n",
       "      <td>9:14:00</td>\n",
       "      <td>Friday</td>\n",
       "      <td>Chester</td>\n",
       "      <td>Pennsylvania</td>\n",
       "      <td>5</td>\n",
       "      <td>Male</td>\n",
       "      <td>25 - 29</td>\n",
       "      <td>White</td>\n",
       "      <td>Not Hispanic</td>\n",
       "      <td>0</td>\n",
       "      <td>0</td>\n",
       "      <td>None</td>\n",
       "      <td>HEROIN</td>\n",
       "      <td>2018</td>\n",
       "      <td>0</td>\n",
       "      <td>0</td>\n",
       "      <td>2018</td>\n",
       "      <td>1</td>\n",
       "    </tr>\n",
       "  </tbody>\n",
       "</table>\n",
       "</div>"
      ],
      "text/plain": [
       "   Incident ID Incident Date Incident Time       Day Incident County Name  \\\n",
       "0            1      1/4/2018       0:42:00  Thursday             Delaware   \n",
       "1           26     1/26/2018       9:14:00    Friday              Chester   \n",
       "\n",
       "  Incident State  Victim ID Gender Desc Age Range   Race Ethnicity Desc  \\\n",
       "0   Pennsylvania          1        Male   50 - 59  White   Not Hispanic   \n",
       "1   Pennsylvania          5        Male   25 - 29  White   Not Hispanic   \n",
       "\n",
       "   Naloxone Administered  Survive            Response Desc  \\\n",
       "0                      1        0  NO RESPONSE TO NALOXONE   \n",
       "1                      0        0                     None   \n",
       "\n",
       "                All Drugs  Incident Date ym  Multiple Drugs  Fentnyl  year  \\\n",
       "0  COCAINE/CRACK | HEROIN              2018               1        0  2018   \n",
       "1                  HEROIN              2018               0        0  2018   \n",
       "\n",
       "   month  \n",
       "0      1  \n",
       "1      1  "
      ]
     },
     "execution_count": 8,
     "metadata": {},
     "output_type": "execute_result"
    }
   ],
   "source": [
    "incidents.head(2)"
   ]
  },
  {
   "cell_type": "code",
   "execution_count": 9,
   "id": "2943c355",
   "metadata": {},
   "outputs": [
    {
     "data": {
      "text/plain": [
       "30 - 39    7653\n",
       "25 - 29    4082\n",
       "40 - 49    3434\n",
       "20 - 24    2030\n",
       "50 - 59    1871\n",
       "60 - 69     634\n",
       "0 - 9       530\n",
       "15 - 19     276\n",
       "70 - 79      70\n",
       "80 - *       10\n",
       "10 - 14       7\n",
       "Name: Age Range, dtype: int64"
      ]
     },
     "execution_count": 9,
     "metadata": {},
     "output_type": "execute_result"
    }
   ],
   "source": [
    "incidents['Age Range'].value_counts()"
   ]
  },
  {
   "cell_type": "code",
   "execution_count": 10,
   "id": "70adaa97",
   "metadata": {},
   "outputs": [],
   "source": [
    "def agerange_weekend(df):\n",
    "    for i, row in df.iterrows():\n",
    "        if row['Day'] == 'Friday' or row['Day'] == 'Saturday' or row['Day'] == 'Sunday':\n",
    "            df.loc[i,'Weekend_OD'] = 1\n",
    "        else:\n",
    "            df.loc[i,'Weekend_OD'] = 0\n",
    "        \n",
    "        if row['month'] == 1 or row['month'] == 12 or row['month'] == 2:\n",
    "            df.loc[i,'Season'] = 'Winter'\n",
    "        elif row['month'] == 3 or row['month'] == 4 or row['month'] == 5:\n",
    "            df.loc[i,'Season'] = 'Spring'\n",
    "        elif row['month'] == 6 or row['month'] == 7 or row['month'] == 8:\n",
    "            df.loc[i,'Season'] = 'Summer'\n",
    "        elif row['month'] == 9 or row['month'] == 10 or row['month'] == 11:\n",
    "            df.loc[i,'Season'] = 'Fall' \n",
    "            \n",
    "        if row['Age Range'] == '0 - 9' or row['Age Range'] == '10 - 14' or row['Age Range'] == '15 - 19' or row['Age Range'] == '20 - 24' or row['Age Range'] == '30 - 39':\n",
    "            df.loc[i,'Over 40'] = 0\n",
    "        else:    \n",
    "        \n",
    "            df.loc[i,'Over 40'] = 1\n",
    "            \n",
    "    return(df)            \n",
    "                \n",
    "            \n",
    "            \n",
    "            "
   ]
  },
  {
   "cell_type": "code",
   "execution_count": 11,
   "id": "1082b489",
   "metadata": {},
   "outputs": [],
   "source": [
    "incidents2 = agerange_weekend(incidents.copy())"
   ]
  },
  {
   "cell_type": "code",
   "execution_count": 12,
   "id": "c1d19f9d",
   "metadata": {},
   "outputs": [
    {
     "data": {
      "text/html": [
       "<div>\n",
       "<style scoped>\n",
       "    .dataframe tbody tr th:only-of-type {\n",
       "        vertical-align: middle;\n",
       "    }\n",
       "\n",
       "    .dataframe tbody tr th {\n",
       "        vertical-align: top;\n",
       "    }\n",
       "\n",
       "    .dataframe thead th {\n",
       "        text-align: right;\n",
       "    }\n",
       "</style>\n",
       "<table border=\"1\" class=\"dataframe\">\n",
       "  <thead>\n",
       "    <tr style=\"text-align: right;\">\n",
       "      <th></th>\n",
       "      <th>Incident ID</th>\n",
       "      <th>Incident Date</th>\n",
       "      <th>Incident Time</th>\n",
       "      <th>Day</th>\n",
       "      <th>Incident County Name</th>\n",
       "      <th>Incident State</th>\n",
       "      <th>Victim ID</th>\n",
       "      <th>Gender Desc</th>\n",
       "      <th>Age Range</th>\n",
       "      <th>Race</th>\n",
       "      <th>...</th>\n",
       "      <th>Response Desc</th>\n",
       "      <th>All Drugs</th>\n",
       "      <th>Incident Date ym</th>\n",
       "      <th>Multiple Drugs</th>\n",
       "      <th>Fentnyl</th>\n",
       "      <th>year</th>\n",
       "      <th>month</th>\n",
       "      <th>Weekend_OD</th>\n",
       "      <th>Season</th>\n",
       "      <th>Over 40</th>\n",
       "    </tr>\n",
       "  </thead>\n",
       "  <tbody>\n",
       "    <tr>\n",
       "      <th>0</th>\n",
       "      <td>1</td>\n",
       "      <td>1/4/2018</td>\n",
       "      <td>0:42:00</td>\n",
       "      <td>Thursday</td>\n",
       "      <td>Delaware</td>\n",
       "      <td>Pennsylvania</td>\n",
       "      <td>1</td>\n",
       "      <td>Male</td>\n",
       "      <td>50 - 59</td>\n",
       "      <td>White</td>\n",
       "      <td>...</td>\n",
       "      <td>NO RESPONSE TO NALOXONE</td>\n",
       "      <td>COCAINE/CRACK | HEROIN</td>\n",
       "      <td>2018</td>\n",
       "      <td>1</td>\n",
       "      <td>0</td>\n",
       "      <td>2018</td>\n",
       "      <td>1</td>\n",
       "      <td>0.0</td>\n",
       "      <td>Winter</td>\n",
       "      <td>1.0</td>\n",
       "    </tr>\n",
       "    <tr>\n",
       "      <th>1</th>\n",
       "      <td>26</td>\n",
       "      <td>1/26/2018</td>\n",
       "      <td>9:14:00</td>\n",
       "      <td>Friday</td>\n",
       "      <td>Chester</td>\n",
       "      <td>Pennsylvania</td>\n",
       "      <td>5</td>\n",
       "      <td>Male</td>\n",
       "      <td>25 - 29</td>\n",
       "      <td>White</td>\n",
       "      <td>...</td>\n",
       "      <td>None</td>\n",
       "      <td>HEROIN</td>\n",
       "      <td>2018</td>\n",
       "      <td>0</td>\n",
       "      <td>0</td>\n",
       "      <td>2018</td>\n",
       "      <td>1</td>\n",
       "      <td>1.0</td>\n",
       "      <td>Winter</td>\n",
       "      <td>1.0</td>\n",
       "    </tr>\n",
       "  </tbody>\n",
       "</table>\n",
       "<p>2 rows × 23 columns</p>\n",
       "</div>"
      ],
      "text/plain": [
       "   Incident ID Incident Date Incident Time       Day Incident County Name  \\\n",
       "0            1      1/4/2018       0:42:00  Thursday             Delaware   \n",
       "1           26     1/26/2018       9:14:00    Friday              Chester   \n",
       "\n",
       "  Incident State  Victim ID Gender Desc Age Range   Race  ...  \\\n",
       "0   Pennsylvania          1        Male   50 - 59  White  ...   \n",
       "1   Pennsylvania          5        Male   25 - 29  White  ...   \n",
       "\n",
       "             Response Desc               All Drugs  Incident Date ym  \\\n",
       "0  NO RESPONSE TO NALOXONE  COCAINE/CRACK | HEROIN              2018   \n",
       "1                     None                  HEROIN              2018   \n",
       "\n",
       "  Multiple Drugs Fentnyl  year  month  Weekend_OD  Season  Over 40  \n",
       "0              1       0  2018      1         0.0  Winter      1.0  \n",
       "1              0       0  2018      1         1.0  Winter      1.0  \n",
       "\n",
       "[2 rows x 23 columns]"
      ]
     },
     "execution_count": 12,
     "metadata": {},
     "output_type": "execute_result"
    }
   ],
   "source": [
    "incidents2.head(2)"
   ]
  },
  {
   "cell_type": "code",
   "execution_count": 13,
   "id": "d5716f6b",
   "metadata": {},
   "outputs": [],
   "source": [
    "incidents2[['hour','min','second']] = incidents2['Incident Time'].str.split(':',expand=True)"
   ]
  },
  {
   "cell_type": "code",
   "execution_count": 14,
   "id": "54aa8e0b",
   "metadata": {},
   "outputs": [],
   "source": [
    "def hoursplit(df):\n",
    "    for i, row in df.iterrows():\n",
    "        if row['hour'] in['1','2','3','4']:\n",
    "            df.loc[i, 'time_period'] ='late_evening'\n",
    "        elif row['hour'] in['5','6','7','8','9']: \n",
    "            df.loc[i, 'time_period'] ='early_morning'\n",
    "        elif row['hour'] in['10','11','12','13','14']: \n",
    "            df.loc[i, 'time_period'] ='morning_afternoon'  \n",
    "        elif row['hour'] in['15','16','17','18','19']: \n",
    "            df.loc[i, 'time_period'] ='afternoon_even'\n",
    "        else:\n",
    "            df.loc[i, 'time_period'] = 'evening'\n",
    "    return(df)                \n",
    "            "
   ]
  },
  {
   "cell_type": "code",
   "execution_count": 15,
   "id": "621cd91d",
   "metadata": {},
   "outputs": [],
   "source": [
    "incidents2 = hoursplit(incidents2.copy())"
   ]
  },
  {
   "cell_type": "code",
   "execution_count": 41,
   "id": "d3663d54",
   "metadata": {},
   "outputs": [],
   "source": [
    "incidents2['Over 40'] = incidents2['Over 40'].astype(int)\n",
    "incidents2['Weekend_OD'] = incidents2['Weekend_OD'].astype(int)"
   ]
  },
  {
   "cell_type": "code",
   "execution_count": 45,
   "id": "81eb8e62",
   "metadata": {},
   "outputs": [],
   "source": [
    "df2 = incidents2[['Day','Incident County Name','Gender Desc','Age Range','Race','Naloxone Administered','Multiple Drugs',\n",
    "                  'year','month','Weekend_OD','Season','Over 40','time_period']]"
   ]
  },
  {
   "cell_type": "code",
   "execution_count": 46,
   "id": "61933870",
   "metadata": {},
   "outputs": [],
   "source": [
    "from sklearn.preprocessing import LabelEncoder\n",
    "\n",
    "def label_encode_strings(df):\n",
    "    \"\"\"\n",
    "    Label encodes all the string columns in a pandas DataFrame.\n",
    "    \n",
    "    Args:\n",
    "        df (pandas.DataFrame): The DataFrame to label encode.\n",
    "    \n",
    "    Returns:\n",
    "        pandas.DataFrame: The label encoded DataFrame.\n",
    "    \"\"\"\n",
    "    # Create a new DataFrame to hold the label encoded data\n",
    "    encoded_df = df.copy()\n",
    "\n",
    "    # Loop over all columns in the DataFrame\n",
    "    for col in encoded_df.columns:\n",
    "        if encoded_df[col].dtype == \"object\":\n",
    "            # If the column contains strings, use LabelEncoder to encode them\n",
    "            le = LabelEncoder()\n",
    "            encoded_df[col] = le.fit_transform(encoded_df[col].astype(str))\n",
    "    \n",
    "    return encoded_df"
   ]
  },
  {
   "cell_type": "code",
   "execution_count": 47,
   "id": "3b29ce15",
   "metadata": {},
   "outputs": [],
   "source": [
    "df4 = label_encode_strings(df2.copy())"
   ]
  },
  {
   "cell_type": "code",
   "execution_count": 49,
   "id": "d32bfc38",
   "metadata": {},
   "outputs": [],
   "source": [
    "from sklearn.feature_selection import SelectKBest, f_classif\n",
    "import pandas as pd\n",
    "import matplotlib.pyplot as plt"
   ]
  },
  {
   "cell_type": "code",
   "execution_count": 50,
   "id": "3a6c67d0",
   "metadata": {},
   "outputs": [],
   "source": [
    "selector = SelectKBest(score_func=f_classif, k=10)\n",
    "X = df4.drop('Naloxone Administered', axis=1)  # remove the target column\n",
    "y = df4['Naloxone Administered']\n",
    "X_selected = selector.fit_transform(X, y)\n"
   ]
  },
  {
   "cell_type": "code",
   "execution_count": 54,
   "id": "3c3950e3",
   "metadata": {},
   "outputs": [
    {
     "data": {
      "image/png": "[encoded data removed]",
      "text/plain": [
       "<Figure size 432x288 with 1 Axes>"
      ]
     },
     "metadata": {
      "needs_background": "light"
     },
     "output_type": "display_data"
    }
   ],
   "source": [
    "scores = selector.scores_\n",
    "feature_names = X.columns\n",
    "sorted_indices = scores.argsort()[::-1][:10]  # get the top 10 feature indices\n",
    "plt.bar(range(10), scores[sorted_indices])\n",
    "plt.xticks(range(10), feature_names[sorted_indices], rotation=90)\n",
    "plt.show()"
   ]
  },
  {
   "cell_type": "code",
   "execution_count": 99,
   "id": "5848139b",
   "metadata": {},
   "outputs": [],
   "source": [
    "\n",
    "\n",
    "X = incidents2[['Gender Desc','Age Range','Multiple Drugs','Race','year','time_period','Day','Incident County Name']]\n",
    "y = incidents2[['Naloxone Administered']]"
   ]
  },
  {
   "cell_type": "code",
   "execution_count": 100,
   "id": "3af8ca6a",
   "metadata": {},
   "outputs": [
    {
     "data": {
      "text/plain": [
       "1    14151\n",
       "0     6446\n",
       "Name: Naloxone Administered, dtype: int64"
      ]
     },
     "execution_count": 100,
     "metadata": {},
     "output_type": "execute_result"
    }
   ],
   "source": [
    "y['Naloxone Administered'].value_counts()"
   ]
  },
  {
   "cell_type": "code",
   "execution_count": 101,
   "id": "18b5c2bc",
   "metadata": {},
   "outputs": [],
   "source": [
    "class_weight_m = {0:14151,1:6446}"
   ]
  },
  {
   "cell_type": "markdown",
   "id": "adb4a0ad",
   "metadata": {},
   "source": [
    "## Pipeline Definition"
   ]
  },
  {
   "cell_type": "code",
   "execution_count": 106,
   "id": "5e1beba6",
   "metadata": {},
   "outputs": [],
   "source": [
    "##pipeline  \n",
    "label_features =['Gender Desc','Age Range','Multiple Drugs','Race','time_period','Day','Incident County Name']\n",
    "label_transformer = OneHotEncoder(sparse = False, handle_unknown = 'ignore')\n",
    "\n",
    "\n",
    "\n",
    "preprocessor = ColumnTransformer(\n",
    "    transformers=[\n",
    "        ('label', label_transformer, label_features)\n",
    "        ])   \n",
    "\n",
    "\n",
    "model =  Pipeline(steps=[('preprocessor', preprocessor),\n",
    "                      ('randomforest', RandomForestClassifier(n_estimators=1000,\n",
    "                                                              class_weight=class_weight_m))])"
   ]
  },
  {
   "cell_type": "code",
   "execution_count": 103,
   "id": "bf970f5f",
   "metadata": {},
   "outputs": [],
   "source": [
    "# Split data with stratify\n",
    "X_train, X_test, y_train, y_test = train_test_split(\n",
    "    X, y, stratify=y, random_state=42)"
   ]
  },
  {
   "cell_type": "code",
   "execution_count": 107,
   "id": "d033538b",
   "metadata": {},
   "outputs": [
    {
     "name": "stderr",
     "output_type": "stream",
     "text": [
      "/Users/loganj2/Desktop/Twitter_PKids_collection/twit/lib/python3.8/site-packages/sklearn/pipeline.py:346: DataConversionWarning: A column-vector y was passed when a 1d array was expected. Please change the shape of y to (n_samples,), for example using ravel().\n",
      "  self._final_estimator.fit(Xt, y, **fit_params_last_step)\n"
     ]
    },
    {
     "data": {
      "text/plain": [
       "Pipeline(steps=[('preprocessor',\n",
       "                 ColumnTransformer(transformers=[('label',\n",
       "                                                  OneHotEncoder(handle_unknown='ignore',\n",
       "                                                                sparse=False),\n",
       "                                                  ['Gender Desc', 'Age Range',\n",
       "                                                   'Multiple Drugs', 'Race',\n",
       "                                                   'time_period', 'Day',\n",
       "                                                   'Incident County Name'])])),\n",
       "                ('randomforest',\n",
       "                 RandomForestClassifier(class_weight={0: 14151, 1: 6446},\n",
       "                                        n_estimators=1000))])"
      ]
     },
     "execution_count": 107,
     "metadata": {},
     "output_type": "execute_result"
    }
   ],
   "source": [
    "model.fit(X_train,y_train)\n"
   ]
  },
  {
   "cell_type": "code",
   "execution_count": 97,
   "id": "982f7dc8",
   "metadata": {},
   "outputs": [
    {
     "name": "stdout",
     "output_type": "stream",
     "text": [
      "accuracy: 0.5951456310679611\n"
     ]
    }
   ],
   "source": [
    "predictions_classweights = model.predict(X_test)\n",
    "print(\"accuracy:\",accuracy_score(y_test, predictions_classweights))"
   ]
  },
  {
   "cell_type": "code",
   "execution_count": 108,
   "id": "01711378",
   "metadata": {},
   "outputs": [
    {
     "name": "stderr",
     "output_type": "stream",
     "text": [
      "/Users/loganj2/Desktop/Twitter_PKids_collection/twit/lib/python3.8/site-packages/sklearn/pipeline.py:346: DataConversionWarning: A column-vector y was passed when a 1d array was expected. Please change the shape of y to (n_samples,), for example using ravel().\n",
      "  self._final_estimator.fit(Xt, y, **fit_params_last_step)\n"
     ]
    },
    {
     "name": "stdout",
     "output_type": "stream",
     "text": [
      "0.6410194174757281\n"
     ]
    },
    {
     "name": "stderr",
     "output_type": "stream",
     "text": [
      "/Users/loganj2/Desktop/Twitter_PKids_collection/twit/lib/python3.8/site-packages/sklearn/pipeline.py:346: DataConversionWarning: A column-vector y was passed when a 1d array was expected. Please change the shape of y to (n_samples,), for example using ravel().\n",
      "  self._final_estimator.fit(Xt, y, **fit_params_last_step)\n"
     ]
    },
    {
     "name": "stdout",
     "output_type": "stream",
     "text": [
      "0.6453883495145631\n"
     ]
    },
    {
     "name": "stderr",
     "output_type": "stream",
     "text": [
      "/Users/loganj2/Desktop/Twitter_PKids_collection/twit/lib/python3.8/site-packages/sklearn/pipeline.py:346: DataConversionWarning: A column-vector y was passed when a 1d array was expected. Please change the shape of y to (n_samples,), for example using ravel().\n",
      "  self._final_estimator.fit(Xt, y, **fit_params_last_step)\n"
     ]
    },
    {
     "name": "stdout",
     "output_type": "stream",
     "text": [
      "0.6421461519786356\n"
     ]
    },
    {
     "name": "stderr",
     "output_type": "stream",
     "text": [
      "/Users/loganj2/Desktop/Twitter_PKids_collection/twit/lib/python3.8/site-packages/sklearn/pipeline.py:346: DataConversionWarning: A column-vector y was passed when a 1d array was expected. Please change the shape of y to (n_samples,), for example using ravel().\n",
      "  self._final_estimator.fit(Xt, y, **fit_params_last_step)\n"
     ]
    },
    {
     "name": "stdout",
     "output_type": "stream",
     "text": [
      "0.6455450352027191\n"
     ]
    },
    {
     "name": "stderr",
     "output_type": "stream",
     "text": [
      "/Users/loganj2/Desktop/Twitter_PKids_collection/twit/lib/python3.8/site-packages/sklearn/pipeline.py:346: DataConversionWarning: A column-vector y was passed when a 1d array was expected. Please change the shape of y to (n_samples,), for example using ravel().\n",
      "  self._final_estimator.fit(Xt, y, **fit_params_last_step)\n"
     ]
    },
    {
     "name": "stdout",
     "output_type": "stream",
     "text": [
      "0.6314639475600874\n"
     ]
    }
   ],
   "source": [
    "from sklearn.model_selection import StratifiedKFold\n",
    "import numpy\n",
    "kf = StratifiedKFold(n_splits=5,random_state=0, shuffle=True)\n",
    "\n",
    " \n",
    "acc_score = []\n",
    "pred = []\n",
    "y_test_all = []\n",
    "predprob = []\n",
    " \n",
    "for train_index , test_index in kf.split(X,y):\n",
    "    X_train , X_test = X.iloc[train_index,:],X.iloc[test_index,:]\n",
    "    y_train , y_test = y.iloc[train_index] , y.iloc[test_index]\n",
    "     \n",
    "    model.fit(X_train,y_train)\n",
    "    print(model.score(X_test, y_test))\n",
    "    num = model.score(X_test, y_test)\n",
    "    num = num.astype(float)\n",
    "    acc_score.append(num)\n",
    "    predictions_classweights = model.predict(X_test)\n",
    "    proba = model.predict_proba(X_test)\n",
    "    predprob.append(proba)                           \n",
    "    \n",
    "    #predict_class = np.argmax(test_predictions, axis=1)\n",
    "    #predict_class = predict_class.tolist()\n",
    "    \n",
    "    pred.append(predictions_classweights)\n",
    "    y_test_all.append(y_test)\n"
   ]
  },
  {
   "cell_type": "code",
   "execution_count": 109,
   "id": "c063a5a9",
   "metadata": {},
   "outputs": [],
   "source": [
    "pred_master = np.hstack(([pred[0],pred[1],pred[2],pred[3],pred[4]]))\n",
    "y_test_master = pd.concat(y_test_all)"
   ]
  },
  {
   "cell_type": "code",
   "execution_count": 110,
   "id": "01401eef",
   "metadata": {},
   "outputs": [],
   "source": [
    "pr0 = pd.DataFrame(predprob[0],columns=['zero','one'])\n",
    "pr1 = pd.DataFrame(predprob[1],columns=['zero','one'])\n",
    "pr2 = pd.DataFrame(predprob[2],columns=['zero','one'])\n",
    "pr3 = pd.DataFrame(predprob[3],columns=['zero','one'])\n",
    "pr4 = pd.DataFrame(predprob[4],columns=['zero','one'])"
   ]
  },
  {
   "cell_type": "code",
   "execution_count": 111,
   "id": "1174afac",
   "metadata": {},
   "outputs": [],
   "source": [
    "prdf1 = pd.concat([pr0,pr1,pr2,pr3,pr4])\n",
    "prdf1 = prdf1[['one']]\n",
    "prdf2 =prdf1.copy()"
   ]
  },
  {
   "cell_type": "code",
   "execution_count": 112,
   "id": "aa5b73c7",
   "metadata": {},
   "outputs": [],
   "source": [
    "prdf2['one'] = np.select([prdf2['one']>=.65],  ### setting threshold\n",
    "                        [1],\n",
    "                        default=0)"
   ]
  },
  {
   "cell_type": "code",
   "execution_count": 113,
   "id": "498a782a",
   "metadata": {},
   "outputs": [],
   "source": [
    "confusion = confusion_matrix(y_test_master,prdf2)"
   ]
  },
  {
   "cell_type": "code",
   "execution_count": 114,
   "id": "4e82808b",
   "metadata": {},
   "outputs": [
    {
     "name": "stdout",
     "output_type": "stream",
     "text": [
      "[[3477 2969]\n",
      " [5641 8510]]\n"
     ]
    }
   ],
   "source": [
    "print(confusion)"
   ]
  },
  {
   "cell_type": "code",
   "execution_count": 115,
   "id": "56cab6e8",
   "metadata": {},
   "outputs": [
    {
     "name": "stdout",
     "output_type": "stream",
     "text": [
      "                    precision    recall  f1-score   support\n",
      "\n",
      "Not Given Naloxone       0.38      0.54      0.45      6446\n",
      "    Given Naloxone       0.74      0.60      0.66     14151\n",
      "\n",
      "          accuracy                           0.58     20597\n",
      "         macro avg       0.56      0.57      0.56     20597\n",
      "      weighted avg       0.63      0.58      0.60     20597\n",
      "\n"
     ]
    }
   ],
   "source": [
    "target_names = ['Not Given Naloxone', 'Given Naloxone']\n",
    "print(classification_report(y_test_master, prdf2, target_names=target_names))"
   ]
  },
  {
   "cell_type": "code",
   "execution_count": 89,
   "id": "4bec1666",
   "metadata": {},
   "outputs": [
    {
     "data": {
      "image/png": "[encoded data removed]",
      "text/plain": [
       "<Figure size 720x720 with 1 Axes>"
      ]
     },
     "metadata": {
      "needs_background": "light"
     },
     "output_type": "display_data"
    }
   ],
   "source": [
    "fpr, tpr, _ = metrics.roc_curve(y_test_master,prdf1)\n",
    "auc = metrics.roc_auc_score(y_test_master,prdf1)\n",
    "plt.figure(figsize=(10,10))\n",
    "plt.plot(fpr,tpr,label=\" auc=\"+str(auc))\n",
    "plt.legend(loc=4)\n",
    "plt.show()"
   ]
  },
  {
   "cell_type": "code",
   "execution_count": 117,
   "id": "1a0397a9",
   "metadata": {},
   "outputs": [],
   "source": [
    "\n",
    "#### for gini importance\n",
    "from sklearn.feature_extraction import DictVectorizer\n",
    "from sklearn.preprocessing import FunctionTransformer\n",
    "from sklearn.pipeline import make_pipeline"
   ]
  },
  {
   "cell_type": "code",
   "execution_count": 118,
   "id": "7298bde7",
   "metadata": {},
   "outputs": [
    {
     "name": "stderr",
     "output_type": "stream",
     "text": [
      "/Users/loganj2/Desktop/Twitter_PKids_collection/twit/lib/python3.8/site-packages/sklearn/pipeline.py:346: DataConversionWarning: A column-vector y was passed when a 1d array was expected. Please change the shape of y to (n_samples,), for example using ravel().\n",
      "  self._final_estimator.fit(Xt, y, **fit_params_last_step)\n"
     ]
    }
   ],
   "source": [
    "def row_to_dict(x,y=None):\n",
    "    return X.apply(dict,axis=1)\n",
    "    \n",
    "ft = FunctionTransformer(row_to_dict, validate=False)\n",
    "dv = DictVectorizer()\n",
    "rf = RandomForestClassifier(n_estimators=1000)\n",
    "\n",
    "model = make_pipeline(ft,dv,rf)\n",
    "model.fit(X,y)\n",
    "feature_importances = zip(dv.feature_names_,rf.feature_importances_)\n",
    "\n",
    " \n",
    "\n"
   ]
  },
  {
   "cell_type": "code",
   "execution_count": 119,
   "id": "1643b4f3",
   "metadata": {},
   "outputs": [
    {
     "data": {
      "text/plain": [
       "['Age Range=0 - 9',\n",
       " 'Age Range=10 - 14',\n",
       " 'Age Range=15 - 19',\n",
       " 'Age Range=20 - 24',\n",
       " 'Age Range=25 - 29',\n",
       " 'Age Range=30 - 39',\n",
       " 'Age Range=40 - 49',\n",
       " 'Age Range=50 - 59',\n",
       " 'Age Range=60 - 69',\n",
       " 'Age Range=70 - 79',\n",
       " 'Age Range=80 - *',\n",
       " 'Day=Friday',\n",
       " 'Day=Monday',\n",
       " 'Day=Saturday',\n",
       " 'Day=Sunday',\n",
       " 'Day=Thursday',\n",
       " 'Day=Tuesday',\n",
       " 'Day=Wednesday',\n",
       " 'Gender Desc=Female',\n",
       " 'Gender Desc=Male',\n",
       " 'Gender Desc=Unknown',\n",
       " 'Incident County Name=Adams',\n",
       " 'Incident County Name=Allegheny',\n",
       " 'Incident County Name=Armstrong',\n",
       " 'Incident County Name=Beaver',\n",
       " 'Incident County Name=Bedford',\n",
       " 'Incident County Name=Berks',\n",
       " 'Incident County Name=Blair',\n",
       " 'Incident County Name=Bradford',\n",
       " 'Incident County Name=Bucks',\n",
       " 'Incident County Name=Butler',\n",
       " 'Incident County Name=Cambria',\n",
       " 'Incident County Name=Carbon',\n",
       " 'Incident County Name=Centre',\n",
       " 'Incident County Name=Chester',\n",
       " 'Incident County Name=Clarion',\n",
       " 'Incident County Name=Clearfield',\n",
       " 'Incident County Name=Clinton',\n",
       " 'Incident County Name=Columbia',\n",
       " 'Incident County Name=Crawford',\n",
       " 'Incident County Name=Cumberland',\n",
       " 'Incident County Name=Dauphin',\n",
       " 'Incident County Name=Delaware',\n",
       " 'Incident County Name=Elk',\n",
       " 'Incident County Name=Erie',\n",
       " 'Incident County Name=Fayette',\n",
       " 'Incident County Name=Forest',\n",
       " 'Incident County Name=Franklin',\n",
       " 'Incident County Name=Fulton',\n",
       " 'Incident County Name=Greene',\n",
       " 'Incident County Name=Huntingdon',\n",
       " 'Incident County Name=Indiana',\n",
       " 'Incident County Name=Jefferson',\n",
       " 'Incident County Name=Juniata',\n",
       " 'Incident County Name=Lackawanna',\n",
       " 'Incident County Name=Lancaster',\n",
       " 'Incident County Name=Lawrence',\n",
       " 'Incident County Name=Lebanon',\n",
       " 'Incident County Name=Lehigh',\n",
       " 'Incident County Name=Luzerne',\n",
       " 'Incident County Name=Lycoming',\n",
       " 'Incident County Name=McKean',\n",
       " 'Incident County Name=Mercer',\n",
       " 'Incident County Name=Mifflin',\n",
       " 'Incident County Name=Monroe',\n",
       " 'Incident County Name=Montgomery',\n",
       " 'Incident County Name=Montour',\n",
       " 'Incident County Name=Northampton',\n",
       " 'Incident County Name=Northumberland',\n",
       " 'Incident County Name=Perry',\n",
       " 'Incident County Name=Philadelphia',\n",
       " 'Incident County Name=Pike',\n",
       " 'Incident County Name=Potter',\n",
       " 'Incident County Name=Schuylkill',\n",
       " 'Incident County Name=Snyder',\n",
       " 'Incident County Name=Somerset',\n",
       " 'Incident County Name=Sullivan',\n",
       " 'Incident County Name=Susquehanna',\n",
       " 'Incident County Name=Tioga',\n",
       " 'Incident County Name=Union',\n",
       " 'Incident County Name=Venango',\n",
       " 'Incident County Name=Warren',\n",
       " 'Incident County Name=Washington',\n",
       " 'Incident County Name=Wayne',\n",
       " 'Incident County Name=Westmoreland',\n",
       " 'Incident County Name=Wyoming',\n",
       " 'Incident County Name=York',\n",
       " 'Multiple Drugs',\n",
       " 'Race=American Indian or Alaskan Native',\n",
       " 'Race=Asian or Pacific Islander',\n",
       " 'Race=Black',\n",
       " 'Race=Unknown',\n",
       " 'Race=White',\n",
       " 'time_period=afternoon_even',\n",
       " 'time_period=early_morning',\n",
       " 'time_period=evening',\n",
       " 'time_period=late_evening',\n",
       " 'time_period=morning_afternoon',\n",
       " 'year']"
      ]
     },
     "execution_count": 119,
     "metadata": {},
     "output_type": "execute_result"
    }
   ],
   "source": [
    "dv.feature_names_"
   ]
  },
  {
   "cell_type": "code",
   "execution_count": 146,
   "id": "d54b7d06",
   "metadata": {},
   "outputs": [],
   "source": [
    "\n",
    "age_range = sum(rf.feature_importances_[0:11])\n",
    "day = sum(rf.feature_importances_[11:19])\n",
    "gender = sum(rf.feature_importances_[19:22])\n",
    "County = sum(rf.feature_importances_[22:87])\n",
    "multiple_drugs = rf.feature_importances_[87]\n",
    "race = sum(rf.feature_importances_[88:93])\n",
    "time_period = sum(rf.feature_importances_[93:98])\n",
    "year =  rf.feature_importances_[98]\n"
   ]
  },
  {
   "cell_type": "code",
   "execution_count": 147,
   "id": "5a3ec5b9",
   "metadata": {},
   "outputs": [],
   "source": [
    "features=['Age_range','Day','Gender','County','Multiple_drugs','Race','Time_period','Year']\n",
    "importance=[age_range,day,gender,County,multiple_drugs,race,time_period,year]"
   ]
  },
  {
   "cell_type": "code",
   "execution_count": 148,
   "id": "84dd677b",
   "metadata": {},
   "outputs": [],
   "source": [
    "feats = {}\n",
    "for feature, importance in zip(features,importance):\n",
    "    feats[feature] = importance\n",
    "    "
   ]
  },
  {
   "cell_type": "code",
   "execution_count": 149,
   "id": "19bdaf8b",
   "metadata": {},
   "outputs": [
    {
     "data": {
      "text/plain": [
       "<AxesSubplot:>"
      ]
     },
     "execution_count": 149,
     "metadata": {},
     "output_type": "execute_result"
    },
    {
     "data": {
      "image/png": "[encoded data removed]",
      "text/plain": [
       "<Figure size 1440x360 with 1 Axes>"
      ]
     },
     "metadata": {
      "needs_background": "light"
     },
     "output_type": "display_data"
    }
   ],
   "source": [
    "importances = pd.DataFrame.from_dict(feats, orient='index').rename(columns={0: 'Gini-importance'})\n",
    "importances.sort_values(by='Gini-importance').plot(kind='bar', rot=75, figsize =(20,5))"
   ]
  },
  {
   "cell_type": "code",
   "execution_count": null,
   "id": "cf528133",
   "metadata": {},
   "outputs": [],
   "source": []
  },
  {
   "cell_type": "code",
   "execution_count": null,
   "metadata": {},
   "outputs": [],
   "source": []
  }
 ],
 "metadata": {
  "kernelspec": {
   "display_name": "local-venv",
   "language": "python",
   "name": "local-venv"
  },
  "language_info": {
   "codemirror_mode": {
    "name": "ipython",
    "version": 3
   },
   "file_extension": ".py",
   "mimetype": "text/x-python",
   "name": "python",
   "nbconvert_exporter": "python",
   "pygments_lexer": "ipython3",
   "version": "3.8.5"
  },
  "vscode": {
   "interpreter": {
    "hash": "31f2aee4e71d21fbe5cf8b01ff0e069b9275f58929596ceb00d14d90e3e16cd6"
   }
  }
 },
 "nbformat": 4,
 "nbformat_minor": 5
}
