{
 "cells": [
  {
   "cell_type": "markdown",
   "id": "09d83b56-e954-424e-895f-dab0d602c42c",
   "metadata": {},
   "source": [
    "# Setup"
   ]
  },
  {
   "cell_type": "code",
   "execution_count": 1,
   "id": "be00c5dd-307b-4127-830a-c2d878ccfe66",
   "metadata": {},
   "outputs": [],
   "source": [
    "import pandas as pd\n",
    "import numpy as np\n",
    "import seaborn as sns\n",
    "import matplotlib.pyplot as plt\n",
    "from datetime import datetime\n",
    "\n",
    "# SKlearn \n",
    "from sklearn.preprocessing import OneHotEncoder\n",
    "from sklearn.pipeline import Pipeline\n",
    "from sklearn.model_selection import train_test_split\n",
    "from sklearn.metrics import classification_report\n",
    "from sklearn.ensemble import RandomForestClassifier"
   ]
  },
  {
   "cell_type": "markdown",
   "id": "62d59bb1-e37d-49d7-9efc-d9541f5f06da",
   "metadata": {},
   "source": [
    "## Multi-drug use"
   ]
  },
  {
   "cell_type": "code",
   "execution_count": 2,
   "id": "1c683da2-b9c0-4391-9a5f-825d8e7cb90c",
   "metadata": {},
   "outputs": [
    {
     "data": {
      "text/plain": [
       "(8050, 17)"
      ]
     },
     "execution_count": 2,
     "metadata": {},
     "output_type": "execute_result"
    }
   ],
   "source": [
    "incidents = pd.read_csv('../data/Aggregated/incidents.csv', )\n",
    "incidents['Multiple Drugs'] = 0\n",
    "incidents.loc[incidents['All Drugs'].str.contains(' | ', regex = False), 'Multiple Drugs'] = 1\n",
    "incidents[incidents['Multiple Drugs'] == 1].shape"
   ]
  },
  {
   "cell_type": "code",
   "execution_count": 3,
   "id": "c56799d2-c551-4745-a04b-2aeb95ecf844",
   "metadata": {},
   "outputs": [
    {
     "data": {
      "text/plain": [
       "Index(['Incident ID', 'Incident Date', 'Incident Time', 'Day',\n",
       "       'Incident County Name', 'Incident State', 'Victim ID', 'Gender Desc',\n",
       "       'Age Range', 'Race', 'Ethnicity Desc', 'Naloxone Administered',\n",
       "       'Survive', 'Response Desc', 'All Drugs', 'Incident Date ym',\n",
       "       'Multiple Drugs'],\n",
       "      dtype='object')"
      ]
     },
     "execution_count": 3,
     "metadata": {},
     "output_type": "execute_result"
    }
   ],
   "source": [
    "incidents.columns"
   ]
  },
  {
   "cell_type": "markdown",
   "id": "3c6b95c2-4f00-404c-b2a0-5bafa1e6d818",
   "metadata": {},
   "source": [
    "### Year, Month and Age Range"
   ]
  },
  {
   "cell_type": "code",
   "execution_count": 4,
   "id": "5c8f647a-007c-4989-9eb5-41ca2a463d90",
   "metadata": {},
   "outputs": [],
   "source": [
    "incidents[\"year\"] = incidents['Incident Date'].apply(lambda x: datetime.strptime(x, '%m/%d/%Y').year)\n",
    "incidents[\"month\"] = incidents['Incident Date'].apply(lambda x: datetime.strptime(x, '%m/%d/%Y').month)\n",
    "\n",
    "# Fix value typo\n",
    "incidents[\"Age Range\"] = incidents[\"Age Range\"].apply(lambda x: \"10 - 14\" if x == \"14-Oct\" else x)"
   ]
  },
  {
   "cell_type": "markdown",
   "id": "f884a3d2-d78f-4c44-9dc9-b72aadfd548b",
   "metadata": {},
   "source": [
    "### OneHotEncoder - Day"
   ]
  },
  {
   "cell_type": "code",
   "execution_count": 5,
   "id": "1a60d2c6-5948-4f83-8e21-d72282d97917",
   "metadata": {},
   "outputs": [
    {
     "data": {
      "text/plain": [
       "array([[0., 0., 0., ..., 1., 0., 0.],\n",
       "       [0., 0., 0., ..., 0., 1., 0.],\n",
       "       [0., 0., 0., ..., 0., 0., 0.],\n",
       "       ...,\n",
       "       [0., 0., 0., ..., 0., 1., 0.],\n",
       "       [0., 0., 0., ..., 0., 0., 1.],\n",
       "       [0., 0., 0., ..., 0., 1., 0.]])"
      ]
     },
     "execution_count": 5,
     "metadata": {},
     "output_type": "execute_result"
    }
   ],
   "source": [
    "ohe = OneHotEncoder(categories = [[\"Sunday\", \"Monday\", \"Tuesday\", \"Wednesday\", \"Thursday\", \"Friday\", \"Saturday\"]])\n",
    "transformed = ohe.fit_transform(incidents[[\"Day\"]])\n",
    "\n",
    "# Sanity Check\n",
    "transformed.toarray()"
   ]
  },
  {
   "cell_type": "markdown",
   "id": "b6fce1e2-2cbb-40f1-840d-0920cd59e371",
   "metadata": {},
   "source": [
    "## Pipeline Definition"
   ]
  },
  {
   "cell_type": "code",
   "execution_count": 6,
   "id": "16a1af45-deb7-4997-8978-8faf42540bcd",
   "metadata": {},
   "outputs": [],
   "source": [
    "# Final list of all chosen features including the target variable\n",
    "final_features_ls = [\"Day\", \"Age Range\", \"year\", \"month\", \"Multiple Drugs\", \"Naloxone Administered\"]\n",
    "features_df = incidents[final_features_ls]\n",
    "target = incidents[\"Survive\"]\n",
    "\n",
    "\n",
    "# Convert several column's type to categorical to ensure OneHotEncoder process them.\n",
    "categorical_ls = [\"Day\", \"Age Range\", \"year\", \"month\"]\n",
    "for i in categorical_ls:\n",
    "    incidents[i] = pd.Categorical(incidents[i])\n",
    "    \n",
    "# Split data\n",
    "x_train, x_test, y_train, y_test = train_test_split(features_df, target, test_size=0.20, random_state=42)"
   ]
  },
  {
   "cell_type": "code",
   "execution_count": 12,
   "id": "d34d1216-f09f-4d04-9090-b3b33340af84",
   "metadata": {},
   "outputs": [],
   "source": [
    "pipe = Pipeline([('ohe', OneHotEncoder(sparse=False)),\n",
    "                 ('clf', RandomForestClassifier(max_depth=50, random_state=0, n_estimators=20))])\n",
    "\n",
    "pipe.fit(x_train, y_train)\n",
    "y_pred = pipe.predict(x_test)"
   ]
  },
  {
   "cell_type": "code",
   "execution_count": 13,
   "id": "a47a1bde-7dc4-4b1c-9f0a-066b604a29f5",
   "metadata": {},
   "outputs": [
    {
     "name": "stdout",
     "output_type": "stream",
     "text": [
      "              precision    recall  f1-score   support\n",
      "\n",
      "        Died       0.57      0.44      0.49      1057\n",
      "    Survived       0.82      0.89      0.85      3063\n",
      "\n",
      "    accuracy                           0.77      4120\n",
      "   macro avg       0.69      0.66      0.67      4120\n",
      "weighted avg       0.76      0.77      0.76      4120\n",
      "\n"
     ]
    }
   ],
   "source": [
    "target_names = ['Died', 'Survived']\n",
    "print(classification_report(y_test, y_pred, target_names=target_names))"
   ]
  }
 ],
 "metadata": {
  "kernelspec": {
   "display_name": "Capvenv",
   "language": "python",
   "name": "capvenv"
  },
  "language_info": {
   "codemirror_mode": {
    "name": "ipython",
    "version": 3
   },
   "file_extension": ".py",
   "mimetype": "text/x-python",
   "name": "python",
   "nbconvert_exporter": "python",
   "pygments_lexer": "ipython3",
   "version": "3.10.8"
  }
 },
 "nbformat": 4,
 "nbformat_minor": 5
}
